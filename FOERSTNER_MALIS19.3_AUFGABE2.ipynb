{
 "cells": [
  {
   "cell_type": "markdown",
   "metadata": {},
   "source": [
    "# Inventory-Daten der Seattle Public Library\n",
    "\n",
    "\n",
    "## Meine Fragen an die vorliegenden Daten:\n",
    "\n",
    "1. Wie sind die verschiedenen \"itemtypes\" verteilt?\n",
    "2. Wie sieht die Verteilung der Genres (\"itemcollection\") aus?\n",
    "3. Wieviele Comics hat die Seattle Public Library?\n",
    "4. Wieviele Items sind ein \"Floating Item\"?\n",
    "5."
   ]
  },
  {
   "cell_type": "markdown",
   "metadata": {},
   "source": [
    "### Vorbereitungen zur weiteren Bearbeitung\n",
    "\n",
    "Als Basis zur Darstellung und Bearbeitung der Daten kommen zunächst einmal die benötigten \"Libraries\" hinzu.\n",
    "Dann hole ich mir die Daten mittels der URL in mein Jupyter-Notebook und vergebe im nächsten Schritt die Variable \"invent\" für die Tabelle."
   ]
  },
  {
   "cell_type": "code",
   "execution_count": 63,
   "metadata": {},
   "outputs": [],
   "source": [
    "import urllib.request"
   ]
  },
  {
   "cell_type": "code",
   "execution_count": 64,
   "metadata": {},
   "outputs": [],
   "source": [
    "import pandas as pd"
   ]
  },
  {
   "cell_type": "code",
   "execution_count": 65,
   "metadata": {},
   "outputs": [],
   "source": [
    "import matplotlib.pyplot as plt"
   ]
  },
  {
   "cell_type": "code",
   "execution_count": 66,
   "metadata": {},
   "outputs": [],
   "source": [
    "import numpy as np"
   ]
  },
  {
   "cell_type": "code",
   "execution_count": 67,
   "metadata": {},
   "outputs": [],
   "source": [
    "# magic-key zum Anzeigen der Grafiken im Jupyter Notebook\n",
    "%matplotlib inline"
   ]
  },
  {
   "cell_type": "code",
   "execution_count": 68,
   "metadata": {},
   "outputs": [],
   "source": [
    "url= \"https://data.seattle.gov/resource/6vkj-f5xf.csv\"\n",
    "seattle_inventory = \"lokale-inventory.csv\""
   ]
  },
  {
   "cell_type": "code",
   "execution_count": 69,
   "metadata": {},
   "outputs": [
    {
     "data": {
      "text/plain": [
       "('lokale-inventory.csv', <http.client.HTTPMessage at 0x38e762688>)"
      ]
     },
     "execution_count": 69,
     "metadata": {},
     "output_type": "execute_result"
    }
   ],
   "source": [
    "urllib.request.urlretrieve (url, seattle_inventory)"
   ]
  },
  {
   "cell_type": "code",
   "execution_count": 70,
   "metadata": {},
   "outputs": [],
   "source": [
    "invent = pd.read_csv (seattle_inventory)"
   ]
  },
  {
   "cell_type": "markdown",
   "metadata": {},
   "source": [
    "Dann lasse ich mir die Tabelle anzeigen und auch in einem nächsten Schritt die Beschriftung der \"columns\", also der Spalten."
   ]
  },
  {
   "cell_type": "code",
   "execution_count": 71,
   "metadata": {},
   "outputs": [
    {
     "data": {
      "text/html": [
       "<div>\n",
       "<style scoped>\n",
       "    .dataframe tbody tr th:only-of-type {\n",
       "        vertical-align: middle;\n",
       "    }\n",
       "\n",
       "    .dataframe tbody tr th {\n",
       "        vertical-align: top;\n",
       "    }\n",
       "\n",
       "    .dataframe thead th {\n",
       "        text-align: right;\n",
       "    }\n",
       "</style>\n",
       "<table border=\"1\" class=\"dataframe\">\n",
       "  <thead>\n",
       "    <tr style=\"text-align: right;\">\n",
       "      <th></th>\n",
       "      <th>bibnum</th>\n",
       "      <th>title</th>\n",
       "      <th>author</th>\n",
       "      <th>isbn</th>\n",
       "      <th>publicationyear</th>\n",
       "      <th>publisher</th>\n",
       "      <th>subjects</th>\n",
       "      <th>itemtype</th>\n",
       "      <th>itemcollection</th>\n",
       "      <th>floatingitem</th>\n",
       "      <th>itemlocation</th>\n",
       "      <th>reportdate</th>\n",
       "      <th>itemcount</th>\n",
       "    </tr>\n",
       "  </thead>\n",
       "  <tbody>\n",
       "    <tr>\n",
       "      <th>0</th>\n",
       "      <td>3011076</td>\n",
       "      <td>A tale of two friends / adapted by Ellie O'Rya...</td>\n",
       "      <td>O'Ryan, Ellie</td>\n",
       "      <td>1481425730, 1481425749, 9781481425735, 9781481...</td>\n",
       "      <td>2014.</td>\n",
       "      <td>Simon Spotlight,</td>\n",
       "      <td>Musicians Fiction, Bullfighters Fiction, Best ...</td>\n",
       "      <td>jcbk</td>\n",
       "      <td>ncrdr</td>\n",
       "      <td>Floating</td>\n",
       "      <td>qna</td>\n",
       "      <td>2017-09-01T00:00:00.000</td>\n",
       "      <td>1</td>\n",
       "    </tr>\n",
       "    <tr>\n",
       "      <th>1</th>\n",
       "      <td>2248846</td>\n",
       "      <td>Naruto. Vol. 1, Uzumaki Naruto / story and art...</td>\n",
       "      <td>Kishimoto, Masashi, 1974-</td>\n",
       "      <td>1569319006</td>\n",
       "      <td>2003, c1999.</td>\n",
       "      <td>Viz,</td>\n",
       "      <td>Ninja Japan Comic books strips etc, Comic book...</td>\n",
       "      <td>acbk</td>\n",
       "      <td>nycomic</td>\n",
       "      <td>NaN</td>\n",
       "      <td>lcy</td>\n",
       "      <td>2017-09-01T00:00:00.000</td>\n",
       "      <td>1</td>\n",
       "    </tr>\n",
       "    <tr>\n",
       "      <th>2</th>\n",
       "      <td>3209270</td>\n",
       "      <td>Peace, love &amp; Wi-Fi : a ZITS treasury / by Jer...</td>\n",
       "      <td>Scott, Jerry, 1955-</td>\n",
       "      <td>144945867X, 9781449458676</td>\n",
       "      <td>2014.</td>\n",
       "      <td>Andrews McMeel Publishing,</td>\n",
       "      <td>Duncan Jeremy Fictitious character Comic books...</td>\n",
       "      <td>acbk</td>\n",
       "      <td>nycomic</td>\n",
       "      <td>NaN</td>\n",
       "      <td>bea</td>\n",
       "      <td>2017-09-01T00:00:00.000</td>\n",
       "      <td>1</td>\n",
       "    </tr>\n",
       "    <tr>\n",
       "      <th>3</th>\n",
       "      <td>1907265</td>\n",
       "      <td>The Paris pilgrims : a novel / Clancy Carlile.</td>\n",
       "      <td>Carlile, Clancy, 1930-</td>\n",
       "      <td>0786706155</td>\n",
       "      <td>c1999.</td>\n",
       "      <td>Carroll &amp; Graf,</td>\n",
       "      <td>Hemingway Ernest 1899 1961 Fiction, Biographic...</td>\n",
       "      <td>acbk</td>\n",
       "      <td>cafic</td>\n",
       "      <td>NaN</td>\n",
       "      <td>cen</td>\n",
       "      <td>2017-09-01T00:00:00.000</td>\n",
       "      <td>1</td>\n",
       "    </tr>\n",
       "    <tr>\n",
       "      <th>4</th>\n",
       "      <td>1644616</td>\n",
       "      <td>Erotic by nature : a celebration of life, of l...</td>\n",
       "      <td>NaN</td>\n",
       "      <td>094020813X</td>\n",
       "      <td>1991, c1988.</td>\n",
       "      <td>Red Alder Books/Down There Press,</td>\n",
       "      <td>Erotic literature American, American literatur...</td>\n",
       "      <td>acbk</td>\n",
       "      <td>canf</td>\n",
       "      <td>NaN</td>\n",
       "      <td>cen</td>\n",
       "      <td>2017-09-01T00:00:00.000</td>\n",
       "      <td>1</td>\n",
       "    </tr>\n",
       "    <tr>\n",
       "      <th>...</th>\n",
       "      <td>...</td>\n",
       "      <td>...</td>\n",
       "      <td>...</td>\n",
       "      <td>...</td>\n",
       "      <td>...</td>\n",
       "      <td>...</td>\n",
       "      <td>...</td>\n",
       "      <td>...</td>\n",
       "      <td>...</td>\n",
       "      <td>...</td>\n",
       "      <td>...</td>\n",
       "      <td>...</td>\n",
       "      <td>...</td>\n",
       "    </tr>\n",
       "    <tr>\n",
       "      <th>995</th>\n",
       "      <td>3079977</td>\n",
       "      <td>Pacific Northwest road trip / Allison Williams.</td>\n",
       "      <td>Williams, Allison, 1972-</td>\n",
       "      <td>1612387624, 9781612387628</td>\n",
       "      <td>c2015.</td>\n",
       "      <td>Avalon Travel,</td>\n",
       "      <td>Automobile travel Northwest Pacific Guidebooks...</td>\n",
       "      <td>acbk</td>\n",
       "      <td>nanf</td>\n",
       "      <td>NaN</td>\n",
       "      <td>mag</td>\n",
       "      <td>2017-09-01T00:00:00.000</td>\n",
       "      <td>1</td>\n",
       "    </tr>\n",
       "    <tr>\n",
       "      <th>996</th>\n",
       "      <td>2927841</td>\n",
       "      <td>Marriages of Bute and Warren Counties, North C...</td>\n",
       "      <td>Holcomb, Brent H.</td>\n",
       "      <td>0806313013, 9780806313016</td>\n",
       "      <td>2004, c1991.</td>\n",
       "      <td>Clearfield Pub. Co.,</td>\n",
       "      <td>Marriage records North Carolina Bute County, M...</td>\n",
       "      <td>arbk</td>\n",
       "      <td>caref</td>\n",
       "      <td>NaN</td>\n",
       "      <td>cen</td>\n",
       "      <td>2017-09-01T00:00:00.000</td>\n",
       "      <td>1</td>\n",
       "    </tr>\n",
       "    <tr>\n",
       "      <th>997</th>\n",
       "      <td>3139193</td>\n",
       "      <td>All paws on deck / by Jessica Young ; illustra...</td>\n",
       "      <td>Young, Jessica (Jessica E.)</td>\n",
       "      <td>0545818869, 0545818877, 9780545818865, 9780545...</td>\n",
       "      <td>2015.</td>\n",
       "      <td>Branches/Scholastic Inc.,</td>\n",
       "      <td>Great Dane Juvenile fiction, Scottish terrier ...</td>\n",
       "      <td>jcbk</td>\n",
       "      <td>ncef</td>\n",
       "      <td>NaN</td>\n",
       "      <td>net</td>\n",
       "      <td>2017-09-01T00:00:00.000</td>\n",
       "      <td>1</td>\n",
       "    </tr>\n",
       "    <tr>\n",
       "      <th>998</th>\n",
       "      <td>3129641</td>\n",
       "      <td>The amazing Spider-man. Renew your vows / writ...</td>\n",
       "      <td>Slott, Dan</td>\n",
       "      <td>0785198865, 9780785198864</td>\n",
       "      <td>[2015]</td>\n",
       "      <td>Marvel Comics,</td>\n",
       "      <td>Spider Man Fictitious character Comic books st...</td>\n",
       "      <td>acbk</td>\n",
       "      <td>cycomic</td>\n",
       "      <td>NaN</td>\n",
       "      <td>cen</td>\n",
       "      <td>2017-09-01T00:00:00.000</td>\n",
       "      <td>1</td>\n",
       "    </tr>\n",
       "    <tr>\n",
       "      <th>999</th>\n",
       "      <td>1741804</td>\n",
       "      <td>Twentieth-century Spanish American fiction / N...</td>\n",
       "      <td>Lindstrom, Naomi, 1950-</td>\n",
       "      <td>0292746822, 0292781199</td>\n",
       "      <td>1994.</td>\n",
       "      <td>University of Texas Press,</td>\n",
       "      <td>Spanish American fiction 20th century History ...</td>\n",
       "      <td>acbk</td>\n",
       "      <td>canf</td>\n",
       "      <td>NaN</td>\n",
       "      <td>cen</td>\n",
       "      <td>2017-09-01T00:00:00.000</td>\n",
       "      <td>1</td>\n",
       "    </tr>\n",
       "  </tbody>\n",
       "</table>\n",
       "<p>1000 rows × 13 columns</p>\n",
       "</div>"
      ],
      "text/plain": [
       "      bibnum                                              title  \\\n",
       "0    3011076  A tale of two friends / adapted by Ellie O'Rya...   \n",
       "1    2248846  Naruto. Vol. 1, Uzumaki Naruto / story and art...   \n",
       "2    3209270  Peace, love & Wi-Fi : a ZITS treasury / by Jer...   \n",
       "3    1907265     The Paris pilgrims : a novel / Clancy Carlile.   \n",
       "4    1644616  Erotic by nature : a celebration of life, of l...   \n",
       "..       ...                                                ...   \n",
       "995  3079977    Pacific Northwest road trip / Allison Williams.   \n",
       "996  2927841  Marriages of Bute and Warren Counties, North C...   \n",
       "997  3139193  All paws on deck / by Jessica Young ; illustra...   \n",
       "998  3129641  The amazing Spider-man. Renew your vows / writ...   \n",
       "999  1741804  Twentieth-century Spanish American fiction / N...   \n",
       "\n",
       "                          author  \\\n",
       "0                  O'Ryan, Ellie   \n",
       "1      Kishimoto, Masashi, 1974-   \n",
       "2            Scott, Jerry, 1955-   \n",
       "3         Carlile, Clancy, 1930-   \n",
       "4                            NaN   \n",
       "..                           ...   \n",
       "995     Williams, Allison, 1972-   \n",
       "996            Holcomb, Brent H.   \n",
       "997  Young, Jessica (Jessica E.)   \n",
       "998                   Slott, Dan   \n",
       "999      Lindstrom, Naomi, 1950-   \n",
       "\n",
       "                                                  isbn publicationyear  \\\n",
       "0    1481425730, 1481425749, 9781481425735, 9781481...           2014.   \n",
       "1                                           1569319006    2003, c1999.   \n",
       "2                            144945867X, 9781449458676           2014.   \n",
       "3                                           0786706155          c1999.   \n",
       "4                                           094020813X    1991, c1988.   \n",
       "..                                                 ...             ...   \n",
       "995                          1612387624, 9781612387628          c2015.   \n",
       "996                          0806313013, 9780806313016    2004, c1991.   \n",
       "997  0545818869, 0545818877, 9780545818865, 9780545...           2015.   \n",
       "998                          0785198865, 9780785198864          [2015]   \n",
       "999                             0292746822, 0292781199           1994.   \n",
       "\n",
       "                             publisher  \\\n",
       "0                     Simon Spotlight,   \n",
       "1                                 Viz,   \n",
       "2           Andrews McMeel Publishing,   \n",
       "3                      Carroll & Graf,   \n",
       "4    Red Alder Books/Down There Press,   \n",
       "..                                 ...   \n",
       "995                     Avalon Travel,   \n",
       "996               Clearfield Pub. Co.,   \n",
       "997          Branches/Scholastic Inc.,   \n",
       "998                     Marvel Comics,   \n",
       "999         University of Texas Press,   \n",
       "\n",
       "                                              subjects itemtype  \\\n",
       "0    Musicians Fiction, Bullfighters Fiction, Best ...     jcbk   \n",
       "1    Ninja Japan Comic books strips etc, Comic book...     acbk   \n",
       "2    Duncan Jeremy Fictitious character Comic books...     acbk   \n",
       "3    Hemingway Ernest 1899 1961 Fiction, Biographic...     acbk   \n",
       "4    Erotic literature American, American literatur...     acbk   \n",
       "..                                                 ...      ...   \n",
       "995  Automobile travel Northwest Pacific Guidebooks...     acbk   \n",
       "996  Marriage records North Carolina Bute County, M...     arbk   \n",
       "997  Great Dane Juvenile fiction, Scottish terrier ...     jcbk   \n",
       "998  Spider Man Fictitious character Comic books st...     acbk   \n",
       "999  Spanish American fiction 20th century History ...     acbk   \n",
       "\n",
       "    itemcollection floatingitem itemlocation               reportdate  \\\n",
       "0            ncrdr     Floating          qna  2017-09-01T00:00:00.000   \n",
       "1          nycomic          NaN          lcy  2017-09-01T00:00:00.000   \n",
       "2          nycomic          NaN          bea  2017-09-01T00:00:00.000   \n",
       "3            cafic          NaN          cen  2017-09-01T00:00:00.000   \n",
       "4             canf          NaN          cen  2017-09-01T00:00:00.000   \n",
       "..             ...          ...          ...                      ...   \n",
       "995           nanf          NaN          mag  2017-09-01T00:00:00.000   \n",
       "996          caref          NaN          cen  2017-09-01T00:00:00.000   \n",
       "997           ncef          NaN          net  2017-09-01T00:00:00.000   \n",
       "998        cycomic          NaN          cen  2017-09-01T00:00:00.000   \n",
       "999           canf          NaN          cen  2017-09-01T00:00:00.000   \n",
       "\n",
       "     itemcount  \n",
       "0            1  \n",
       "1            1  \n",
       "2            1  \n",
       "3            1  \n",
       "4            1  \n",
       "..         ...  \n",
       "995          1  \n",
       "996          1  \n",
       "997          1  \n",
       "998          1  \n",
       "999          1  \n",
       "\n",
       "[1000 rows x 13 columns]"
      ]
     },
     "execution_count": 71,
     "metadata": {},
     "output_type": "execute_result"
    }
   ],
   "source": [
    "invent"
   ]
  },
  {
   "cell_type": "code",
   "execution_count": 72,
   "metadata": {},
   "outputs": [
    {
     "data": {
      "text/plain": [
       "Index(['bibnum', 'title', 'author', 'isbn', 'publicationyear', 'publisher',\n",
       "       'subjects', 'itemtype', 'itemcollection', 'floatingitem',\n",
       "       'itemlocation', 'reportdate', 'itemcount'],\n",
       "      dtype='object')"
      ]
     },
     "execution_count": 72,
     "metadata": {},
     "output_type": "execute_result"
    }
   ],
   "source": [
    "invent.columns"
   ]
  },
  {
   "cell_type": "markdown",
   "metadata": {},
   "source": [
    "### 1. Frage: Wie sind die verschiedenen \"itemtypes\" verteilt?\n",
    "\n",
    "In der entsprechenden Spalte \"itemtype\" wird zwischen einigen Abkürzungen unterschieden. Zur Bedeutung einiger Abkürzungen: acbk (adult book), jcbk (children's book), accd (adult CD), acdvd (adult DVD) usw.\n",
    "Zur Defintion der Abkürzungen: https://data.seattle.gov/Community/Integrated-Library-System-ILS-Data-Dictionary/pbt3-ytbc\n",
    "\n",
    "Mich interessiert, wie genau diese verteilt sind. Dazu zähle ich zunächst die Verteilung auf die einzelnen \"itemtypes\"."
   ]
  },
  {
   "cell_type": "code",
   "execution_count": 73,
   "metadata": {},
   "outputs": [
    {
     "data": {
      "text/plain": [
       "acbk     463\n",
       "jcbk     258\n",
       "arbk      90\n",
       "accd      79\n",
       "acdvd     63\n",
       "acmus     22\n",
       "jcdvd     20\n",
       "jccd       3\n",
       "acmap      1\n",
       "armus      1\n",
       "Name: itemtype, dtype: int64"
      ]
     },
     "execution_count": 73,
     "metadata": {},
     "output_type": "execute_result"
    }
   ],
   "source": [
    "invent [\"itemtype\"].value_counts ()"
   ]
  },
  {
   "cell_type": "markdown",
   "metadata": {},
   "source": [
    "Diese Verteilung möchte ich mir als Säulendiagramm anzeigen lassen."
   ]
  },
  {
   "cell_type": "code",
   "execution_count": 74,
   "metadata": {
    "scrolled": true
   },
   "outputs": [
    {
     "data": {
      "text/plain": [
       "<matplotlib.axes._subplots.AxesSubplot at 0x38ea05848>"
      ]
     },
     "execution_count": 74,
     "metadata": {},
     "output_type": "execute_result"
    },
    {
     "data": {
      "image/png": "[encoded data removed]",
      "text/plain": [
       "<Figure size 720x720 with 1 Axes>"
      ]
     },
     "metadata": {
      "needs_background": "light"
     },
     "output_type": "display_data"
    }
   ],
   "source": [
    "itemtypes = ['acbk', 'jcbk', 'arbk', 'accd', \"acdvd\", 'acmus', 'jcdvd', 'jccd', 'acmap', 'armus']\n",
    "series = pd.Series ([463, 258, 90, 79, 63, 22, 20, 3, 1, 1],\n",
    "                   index=itemtypes,\n",
    "                   name='itemtypes')\n",
    "series.plot.bar(figsize = (10, 10))"
   ]
  },
  {
   "cell_type": "markdown",
   "metadata": {},
   "source": [
    "Sehr deutlich zu sehen:\n",
    "Von 999 \"items\" aus der Tabelle fallen 463 in die Kategorie Erwachsene (acbk) und 258 in die Kategorie Kinder (jcbk). Prozentual betrachtet: 46,3% Erwachsenenliteratur und 25,8% Kinderbücher.\n",
    "Die restlichen 27,9% des Inventars der Seattle Public Library verteilen sich dann auf die anderen \"itemtypes\"."
   ]
  },
  {
   "cell_type": "markdown",
   "metadata": {},
   "source": [
    "### 2. Frage: Wie sieht die Verteilung der Genres (\"itemcollection\") aus?\n",
    "\n",
    "Nun interessieren mich die bei der Seattle Library vorhandenen Genres. Dazu schaue ich mir die Spalte \"itemcollection\" genauer an. Auch hier zähle ich zunächst die Verteilung auf einzelne Abkürzungen der \"itemcollection\"."
   ]
  },
  {
   "cell_type": "code",
   "execution_count": 75,
   "metadata": {},
   "outputs": [
    {
     "data": {
      "text/plain": [
       "canf       149\n",
       "nanf        94\n",
       "ncpic       57\n",
       "ncnf        51\n",
       "nafic       46\n",
       "          ... \n",
       "cawest       1\n",
       "nahol        1\n",
       "calndvd      1\n",
       "ncbocd       1\n",
       "ccfft        1\n",
       "Name: itemcollection, Length: 95, dtype: int64"
      ]
     },
     "execution_count": 75,
     "metadata": {},
     "output_type": "execute_result"
    }
   ],
   "source": [
    "invent [\"itemcollection\"].value_counts ()"
   ]
  },
  {
   "cell_type": "markdown",
   "metadata": {},
   "source": [
    "Über https://data.seattle.gov/Community/Library-Collection-Inventory/6vkj-f5xf lassen sich die Abkürzungen (collection inventory codes) nachschauen: canf (CA-Nonfiction), nanf (NA-Nonfiction), ncpic (NC-Children's picture books), ncnf (NC-Children's Nonfiction), nafic (NA-Fiction) usw.\n",
    "\n",
    "Die Erkenntisse aus der Zählung der einzelnen Genrezuteilung (\"itemcollection\") möchte ich mir nun als Diagramm darstellen lassen. Ich beschränke mich hier auf die ersten 5 Werte."
   ]
  },
  {
   "cell_type": "code",
   "execution_count": 76,
   "metadata": {
    "scrolled": true
   },
   "outputs": [
    {
     "data": {
      "text/plain": [
       "<matplotlib.axes._subplots.AxesSubplot at 0x38e678408>"
      ]
     },
     "execution_count": 76,
     "metadata": {},
     "output_type": "execute_result"
    },
    {
     "data": {
      "image/png": "[encoded data removed]",
      "text/plain": [
       "<Figure size 720x720 with 1 Axes>"
      ]
     },
     "metadata": {
      "needs_background": "light"
     },
     "output_type": "display_data"
    }
   ],
   "source": [
    "itemtypes = ['canf', 'nanf', 'ncpic', 'ncnf', 'nafic']\n",
    "series = pd.Series ([149, 94, 57, 51, 46],\n",
    "                   index=itemtypes,\n",
    "                   name='itemtypes')\n",
    "series.plot.bar(figsize = (10, 10))"
   ]
  },
  {
   "cell_type": "markdown",
   "metadata": {},
   "source": [
    "Auch bei dieser Fragestelltung zeigt sich die deutliche Fokussierung auf Erwachsenenliteratur bzw. deren Genres. Außerdem kann man feststellen, dass das Inventar der Seattle Public Library zu 24,3% aus \"Nonfiction\", also Sachbüchern besteht (canf und nanf zusammengenommen)."
   ]
  },
  {
   "cell_type": "markdown",
   "metadata": {},
   "source": [
    "### 3. Frage: Wieviele Comics hat die Seattle Public Library?\n",
    "\n",
    "Bei Betrachtung der Spalte \"subjects\" fallen mir schon ein paar Comics auf. Mich interessiert, wieviele Comics bei den \"subjects\" zu finden sind.\n",
    "\n",
    "Da es sich bei \"Comic\" in dieser Spalte um einen String und nicht um einen fest definerten Begriff wie etwa \"canf\" bei \"itemtypes\" handelt, muss ich folgendermaßen vorgehen:\n",
    "Ich muss zählen, wie oft der String \"Comic\" in der Spalte \"subjects\" vorkommt. Wörtlich lautet der Befehl also: Zeige mir nur die Zeilen der Tabelle an, in denen der String \"Comic\" vorkommt und nenne mir die Form bzw. Ausmaße der neuen Tabelle.\n",
    "\n",
    "Im ersten Anlauf klappt es nicht. Ich benötige noch eine Flag (na=False). Dazu finde ich Hilfe: https://stackoverflow.com/questions/28311655/ignoring-nans-with-str-contains"
   ]
  },
  {
   "cell_type": "code",
   "execution_count": 77,
   "metadata": {},
   "outputs": [
    {
     "data": {
      "text/plain": [
       "(35, 13)"
      ]
     },
     "execution_count": 77,
     "metadata": {},
     "output_type": "execute_result"
    }
   ],
   "source": [
    "# invent[invent[\"subjects\"].str.contains(\"Comic\")].shape\n",
    "\n",
    "invent[invent[\"subjects\"].str.contains(\"Comic\", na=False)].shape"
   ]
  },
  {
   "cell_type": "markdown",
   "metadata": {},
   "source": [
    "Die Tabelle enthält 35 Zeilen (und 13 Spalten), die den String \"Comic\" enthalten. Man kann also schlussfolgern, dass das Inventar der Seattle Library 35 Comics bereithält.\n",
    "\n",
    "Leider ist eine grafische Darstellung dieses Ergebnisses nicht möglich."
   ]
  },
  {
   "cell_type": "markdown",
   "metadata": {},
   "source": [
    "### 4. Frage: Wieviele Items sind ein \"Floating Item\"?\n",
    "\n",
    "Die Seattle Public Library hält einige \"Floating items\" bereit. Zur Erklärung:\n",
    "\"Floating materials are not owned by a specific branch and become a part of the collection at the branch to which they are returned. These items spend less time in delivery and allow us to refresh collections at different branches. The library collection, with the exception of periodicals and non-circulating reference materials, is a floating collection.\" (https://askthelibrary.fairfaxcounty.gov/faq/190647)\n",
    "\n",
    "Dazu zähle ich wie oft der Begriff \"Floating\" (im Gegensatz zu \"NaN\") in der Spalte \"floatingitem\" vorkommt.\n",
    "Ich möchte dieses Ergebnis gerne als Tortendiagramm darstellen."
   ]
  },
  {
   "cell_type": "code",
   "execution_count": 79,
   "metadata": {},
   "outputs": [
    {
     "data": {
      "text/plain": [
       "150"
      ]
     },
     "execution_count": 79,
     "metadata": {},
     "output_type": "execute_result"
    }
   ],
   "source": [
    "floating = invent.loc[invent['floatingitem'] == 'Floating'].count()[0]\n",
    "\n",
    "floating"
   ]
  },
  {
   "cell_type": "code",
   "execution_count": 91,
   "metadata": {},
   "outputs": [
    {
     "data": {
      "image/png": "[encoded data removed]",
      "text/plain": [
       "<Figure size 432x288 with 1 Axes>"
      ]
     },
     "metadata": {},
     "output_type": "display_data"
    }
   ],
   "source": [
    "labels = ['Floating Items', 'Feste Items']\n",
    "sizes = [150, 849]\n",
    "colors = ['yellow', 'orange']\n",
    "\n",
    "plt.pie(sizes,              \n",
    "        labels=labels,      \n",
    "        colors=colors,      \n",
    "        autopct='%1.1f%%',  \n",
    "        shadow=False,        \n",
    "        startangle=140)\n",
    "\n",
    "plt.title('Wieviele \"Floating Items\"?')\n",
    "\n",
    "plt.axis('equal')\n",
    "\n",
    "plt.show()"
   ]
  },
  {
   "cell_type": "markdown",
   "metadata": {},
   "source": [
    "### 5. Frage:\n",
    "\n"
   ]
  }
 ],
 "metadata": {
  "kernelspec": {
   "display_name": "Python 3",
   "language": "python",
   "name": "python3"
  },
  "language_info": {
   "codemirror_mode": {
    "name": "ipython",
    "version": 3
   },
   "file_extension": ".py",
   "mimetype": "text/x-python",
   "name": "python",
   "nbconvert_exporter": "python",
   "pygments_lexer": "ipython3",
   "version": "3.7.6"
  }
 },
 "nbformat": 4,
 "nbformat_minor": 4
}
