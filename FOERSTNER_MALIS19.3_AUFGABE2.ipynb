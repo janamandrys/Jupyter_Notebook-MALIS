{
 "cells": [
  {
   "cell_type": "markdown",
   "metadata": {},
   "source": [
    "# Inventory-Daten der Seattle Public Library\n",
    "\n",
    "\n",
    "### Wird das gespeichert? Und wenn ja - wie finde ich das wieder?\n",
    "\n",
    "Ich versuche, der Anleitung aus Video 3 zu folgen und die Daten der Seattle Public Library in mein Jupyter-Notebook zu importieren. Ich habe nicht verstanden, wie ich auswählen kann, wo dieses Notebook überhaupt gespeichert wird und habe daher auch nur eine vage Hoffnung, es in den nächsten Tagen wiederzufinden."
   ]
  },
  {
   "cell_type": "markdown",
   "metadata": {},
   "source": [
    "### Zunächst kommen die benötigten Packages hinzu."
   ]
  },
  {
   "cell_type": "code",
   "execution_count": 1,
   "metadata": {},
   "outputs": [],
   "source": [
    "import urllib.request"
   ]
  },
  {
   "cell_type": "code",
   "execution_count": 2,
   "metadata": {},
   "outputs": [],
   "source": [
    "import pandas as pd"
   ]
  },
  {
   "cell_type": "markdown",
   "metadata": {},
   "source": [
    "### Was muss ich tun, um die Daten in meinem Ordner \"seattle_inventory\" abzulegen?"
   ]
  },
  {
   "cell_type": "code",
   "execution_count": 3,
   "metadata": {},
   "outputs": [],
   "source": [
    "url= \"https://data.seattle.gov/resource/6vkj-f5xf.csv\"\n",
    "seattle_inventory = \"lokale-inventory.csv\""
   ]
  },
  {
   "cell_type": "code",
   "execution_count": 4,
   "metadata": {},
   "outputs": [
    {
     "data": {
      "text/plain": [
       "('lokale-inventory.csv', <http.client.HTTPMessage at 0xc0d1990dc8>)"
      ]
     },
     "execution_count": 4,
     "metadata": {},
     "output_type": "execute_result"
    }
   ],
   "source": [
    "urllib.request.urlretrieve (url, seattle_inventory)"
   ]
  },
  {
   "cell_type": "markdown",
   "metadata": {},
   "source": [
    "### Aha! Ich muss also eine Variable mit einer Namenserfindung koppeln. Darauf muss man mal kommen."
   ]
  },
  {
   "cell_type": "code",
   "execution_count": 5,
   "metadata": {},
   "outputs": [],
   "source": [
    "apcs = pd.read_csv (seattle_inventory)"
   ]
  },
  {
   "cell_type": "code",
   "execution_count": 6,
   "metadata": {},
   "outputs": [
    {
     "data": {
      "text/html": [
       "<div>\n",
       "<style scoped>\n",
       "    .dataframe tbody tr th:only-of-type {\n",
       "        vertical-align: middle;\n",
       "    }\n",
       "\n",
       "    .dataframe tbody tr th {\n",
       "        vertical-align: top;\n",
       "    }\n",
       "\n",
       "    .dataframe thead th {\n",
       "        text-align: right;\n",
       "    }\n",
       "</style>\n",
       "<table border=\"1\" class=\"dataframe\">\n",
       "  <thead>\n",
       "    <tr style=\"text-align: right;\">\n",
       "      <th></th>\n",
       "      <th>bibnum</th>\n",
       "      <th>title</th>\n",
       "      <th>author</th>\n",
       "      <th>isbn</th>\n",
       "      <th>publicationyear</th>\n",
       "      <th>publisher</th>\n",
       "      <th>subjects</th>\n",
       "      <th>itemtype</th>\n",
       "      <th>itemcollection</th>\n",
       "      <th>floatingitem</th>\n",
       "      <th>itemlocation</th>\n",
       "      <th>reportdate</th>\n",
       "      <th>itemcount</th>\n",
       "    </tr>\n",
       "  </thead>\n",
       "  <tbody>\n",
       "    <tr>\n",
       "      <th>0</th>\n",
       "      <td>3011076</td>\n",
       "      <td>A tale of two friends / adapted by Ellie O'Rya...</td>\n",
       "      <td>O'Ryan, Ellie</td>\n",
       "      <td>1481425730, 1481425749, 9781481425735, 9781481...</td>\n",
       "      <td>2014.</td>\n",
       "      <td>Simon Spotlight,</td>\n",
       "      <td>Musicians Fiction, Bullfighters Fiction, Best ...</td>\n",
       "      <td>jcbk</td>\n",
       "      <td>ncrdr</td>\n",
       "      <td>Floating</td>\n",
       "      <td>qna</td>\n",
       "      <td>2017-09-01T00:00:00.000</td>\n",
       "      <td>1</td>\n",
       "    </tr>\n",
       "    <tr>\n",
       "      <th>1</th>\n",
       "      <td>2248846</td>\n",
       "      <td>Naruto. Vol. 1, Uzumaki Naruto / story and art...</td>\n",
       "      <td>Kishimoto, Masashi, 1974-</td>\n",
       "      <td>1569319006</td>\n",
       "      <td>2003, c1999.</td>\n",
       "      <td>Viz,</td>\n",
       "      <td>Ninja Japan Comic books strips etc, Comic book...</td>\n",
       "      <td>acbk</td>\n",
       "      <td>nycomic</td>\n",
       "      <td>NaN</td>\n",
       "      <td>lcy</td>\n",
       "      <td>2017-09-01T00:00:00.000</td>\n",
       "      <td>1</td>\n",
       "    </tr>\n",
       "    <tr>\n",
       "      <th>2</th>\n",
       "      <td>3209270</td>\n",
       "      <td>Peace, love &amp; Wi-Fi : a ZITS treasury / by Jer...</td>\n",
       "      <td>Scott, Jerry, 1955-</td>\n",
       "      <td>144945867X, 9781449458676</td>\n",
       "      <td>2014.</td>\n",
       "      <td>Andrews McMeel Publishing,</td>\n",
       "      <td>Duncan Jeremy Fictitious character Comic books...</td>\n",
       "      <td>acbk</td>\n",
       "      <td>nycomic</td>\n",
       "      <td>NaN</td>\n",
       "      <td>bea</td>\n",
       "      <td>2017-09-01T00:00:00.000</td>\n",
       "      <td>1</td>\n",
       "    </tr>\n",
       "    <tr>\n",
       "      <th>3</th>\n",
       "      <td>1907265</td>\n",
       "      <td>The Paris pilgrims : a novel / Clancy Carlile.</td>\n",
       "      <td>Carlile, Clancy, 1930-</td>\n",
       "      <td>0786706155</td>\n",
       "      <td>c1999.</td>\n",
       "      <td>Carroll &amp; Graf,</td>\n",
       "      <td>Hemingway Ernest 1899 1961 Fiction, Biographic...</td>\n",
       "      <td>acbk</td>\n",
       "      <td>cafic</td>\n",
       "      <td>NaN</td>\n",
       "      <td>cen</td>\n",
       "      <td>2017-09-01T00:00:00.000</td>\n",
       "      <td>1</td>\n",
       "    </tr>\n",
       "    <tr>\n",
       "      <th>4</th>\n",
       "      <td>1644616</td>\n",
       "      <td>Erotic by nature : a celebration of life, of l...</td>\n",
       "      <td>NaN</td>\n",
       "      <td>094020813X</td>\n",
       "      <td>1991, c1988.</td>\n",
       "      <td>Red Alder Books/Down There Press,</td>\n",
       "      <td>Erotic literature American, American literatur...</td>\n",
       "      <td>acbk</td>\n",
       "      <td>canf</td>\n",
       "      <td>NaN</td>\n",
       "      <td>cen</td>\n",
       "      <td>2017-09-01T00:00:00.000</td>\n",
       "      <td>1</td>\n",
       "    </tr>\n",
       "    <tr>\n",
       "      <th>...</th>\n",
       "      <td>...</td>\n",
       "      <td>...</td>\n",
       "      <td>...</td>\n",
       "      <td>...</td>\n",
       "      <td>...</td>\n",
       "      <td>...</td>\n",
       "      <td>...</td>\n",
       "      <td>...</td>\n",
       "      <td>...</td>\n",
       "      <td>...</td>\n",
       "      <td>...</td>\n",
       "      <td>...</td>\n",
       "      <td>...</td>\n",
       "    </tr>\n",
       "    <tr>\n",
       "      <th>995</th>\n",
       "      <td>3079977</td>\n",
       "      <td>Pacific Northwest road trip / Allison Williams.</td>\n",
       "      <td>Williams, Allison, 1972-</td>\n",
       "      <td>1612387624, 9781612387628</td>\n",
       "      <td>c2015.</td>\n",
       "      <td>Avalon Travel,</td>\n",
       "      <td>Automobile travel Northwest Pacific Guidebooks...</td>\n",
       "      <td>acbk</td>\n",
       "      <td>nanf</td>\n",
       "      <td>NaN</td>\n",
       "      <td>mag</td>\n",
       "      <td>2017-09-01T00:00:00.000</td>\n",
       "      <td>1</td>\n",
       "    </tr>\n",
       "    <tr>\n",
       "      <th>996</th>\n",
       "      <td>2927841</td>\n",
       "      <td>Marriages of Bute and Warren Counties, North C...</td>\n",
       "      <td>Holcomb, Brent H.</td>\n",
       "      <td>0806313013, 9780806313016</td>\n",
       "      <td>2004, c1991.</td>\n",
       "      <td>Clearfield Pub. Co.,</td>\n",
       "      <td>Marriage records North Carolina Bute County, M...</td>\n",
       "      <td>arbk</td>\n",
       "      <td>caref</td>\n",
       "      <td>NaN</td>\n",
       "      <td>cen</td>\n",
       "      <td>2017-09-01T00:00:00.000</td>\n",
       "      <td>1</td>\n",
       "    </tr>\n",
       "    <tr>\n",
       "      <th>997</th>\n",
       "      <td>3139193</td>\n",
       "      <td>All paws on deck / by Jessica Young ; illustra...</td>\n",
       "      <td>Young, Jessica (Jessica E.)</td>\n",
       "      <td>0545818869, 0545818877, 9780545818865, 9780545...</td>\n",
       "      <td>2015.</td>\n",
       "      <td>Branches/Scholastic Inc.,</td>\n",
       "      <td>Great Dane Juvenile fiction, Scottish terrier ...</td>\n",
       "      <td>jcbk</td>\n",
       "      <td>ncef</td>\n",
       "      <td>NaN</td>\n",
       "      <td>net</td>\n",
       "      <td>2017-09-01T00:00:00.000</td>\n",
       "      <td>1</td>\n",
       "    </tr>\n",
       "    <tr>\n",
       "      <th>998</th>\n",
       "      <td>3129641</td>\n",
       "      <td>The amazing Spider-man. Renew your vows / writ...</td>\n",
       "      <td>Slott, Dan</td>\n",
       "      <td>0785198865, 9780785198864</td>\n",
       "      <td>[2015]</td>\n",
       "      <td>Marvel Comics,</td>\n",
       "      <td>Spider Man Fictitious character Comic books st...</td>\n",
       "      <td>acbk</td>\n",
       "      <td>cycomic</td>\n",
       "      <td>NaN</td>\n",
       "      <td>cen</td>\n",
       "      <td>2017-09-01T00:00:00.000</td>\n",
       "      <td>1</td>\n",
       "    </tr>\n",
       "    <tr>\n",
       "      <th>999</th>\n",
       "      <td>1741804</td>\n",
       "      <td>Twentieth-century Spanish American fiction / N...</td>\n",
       "      <td>Lindstrom, Naomi, 1950-</td>\n",
       "      <td>0292746822, 0292781199</td>\n",
       "      <td>1994.</td>\n",
       "      <td>University of Texas Press,</td>\n",
       "      <td>Spanish American fiction 20th century History ...</td>\n",
       "      <td>acbk</td>\n",
       "      <td>canf</td>\n",
       "      <td>NaN</td>\n",
       "      <td>cen</td>\n",
       "      <td>2017-09-01T00:00:00.000</td>\n",
       "      <td>1</td>\n",
       "    </tr>\n",
       "  </tbody>\n",
       "</table>\n",
       "<p>1000 rows × 13 columns</p>\n",
       "</div>"
      ],
      "text/plain": [
       "      bibnum                                              title  \\\n",
       "0    3011076  A tale of two friends / adapted by Ellie O'Rya...   \n",
       "1    2248846  Naruto. Vol. 1, Uzumaki Naruto / story and art...   \n",
       "2    3209270  Peace, love & Wi-Fi : a ZITS treasury / by Jer...   \n",
       "3    1907265     The Paris pilgrims : a novel / Clancy Carlile.   \n",
       "4    1644616  Erotic by nature : a celebration of life, of l...   \n",
       "..       ...                                                ...   \n",
       "995  3079977    Pacific Northwest road trip / Allison Williams.   \n",
       "996  2927841  Marriages of Bute and Warren Counties, North C...   \n",
       "997  3139193  All paws on deck / by Jessica Young ; illustra...   \n",
       "998  3129641  The amazing Spider-man. Renew your vows / writ...   \n",
       "999  1741804  Twentieth-century Spanish American fiction / N...   \n",
       "\n",
       "                          author  \\\n",
       "0                  O'Ryan, Ellie   \n",
       "1      Kishimoto, Masashi, 1974-   \n",
       "2            Scott, Jerry, 1955-   \n",
       "3         Carlile, Clancy, 1930-   \n",
       "4                            NaN   \n",
       "..                           ...   \n",
       "995     Williams, Allison, 1972-   \n",
       "996            Holcomb, Brent H.   \n",
       "997  Young, Jessica (Jessica E.)   \n",
       "998                   Slott, Dan   \n",
       "999      Lindstrom, Naomi, 1950-   \n",
       "\n",
       "                                                  isbn publicationyear  \\\n",
       "0    1481425730, 1481425749, 9781481425735, 9781481...           2014.   \n",
       "1                                           1569319006    2003, c1999.   \n",
       "2                            144945867X, 9781449458676           2014.   \n",
       "3                                           0786706155          c1999.   \n",
       "4                                           094020813X    1991, c1988.   \n",
       "..                                                 ...             ...   \n",
       "995                          1612387624, 9781612387628          c2015.   \n",
       "996                          0806313013, 9780806313016    2004, c1991.   \n",
       "997  0545818869, 0545818877, 9780545818865, 9780545...           2015.   \n",
       "998                          0785198865, 9780785198864          [2015]   \n",
       "999                             0292746822, 0292781199           1994.   \n",
       "\n",
       "                             publisher  \\\n",
       "0                     Simon Spotlight,   \n",
       "1                                 Viz,   \n",
       "2           Andrews McMeel Publishing,   \n",
       "3                      Carroll & Graf,   \n",
       "4    Red Alder Books/Down There Press,   \n",
       "..                                 ...   \n",
       "995                     Avalon Travel,   \n",
       "996               Clearfield Pub. Co.,   \n",
       "997          Branches/Scholastic Inc.,   \n",
       "998                     Marvel Comics,   \n",
       "999         University of Texas Press,   \n",
       "\n",
       "                                              subjects itemtype  \\\n",
       "0    Musicians Fiction, Bullfighters Fiction, Best ...     jcbk   \n",
       "1    Ninja Japan Comic books strips etc, Comic book...     acbk   \n",
       "2    Duncan Jeremy Fictitious character Comic books...     acbk   \n",
       "3    Hemingway Ernest 1899 1961 Fiction, Biographic...     acbk   \n",
       "4    Erotic literature American, American literatur...     acbk   \n",
       "..                                                 ...      ...   \n",
       "995  Automobile travel Northwest Pacific Guidebooks...     acbk   \n",
       "996  Marriage records North Carolina Bute County, M...     arbk   \n",
       "997  Great Dane Juvenile fiction, Scottish terrier ...     jcbk   \n",
       "998  Spider Man Fictitious character Comic books st...     acbk   \n",
       "999  Spanish American fiction 20th century History ...     acbk   \n",
       "\n",
       "    itemcollection floatingitem itemlocation               reportdate  \\\n",
       "0            ncrdr     Floating          qna  2017-09-01T00:00:00.000   \n",
       "1          nycomic          NaN          lcy  2017-09-01T00:00:00.000   \n",
       "2          nycomic          NaN          bea  2017-09-01T00:00:00.000   \n",
       "3            cafic          NaN          cen  2017-09-01T00:00:00.000   \n",
       "4             canf          NaN          cen  2017-09-01T00:00:00.000   \n",
       "..             ...          ...          ...                      ...   \n",
       "995           nanf          NaN          mag  2017-09-01T00:00:00.000   \n",
       "996          caref          NaN          cen  2017-09-01T00:00:00.000   \n",
       "997           ncef          NaN          net  2017-09-01T00:00:00.000   \n",
       "998        cycomic          NaN          cen  2017-09-01T00:00:00.000   \n",
       "999           canf          NaN          cen  2017-09-01T00:00:00.000   \n",
       "\n",
       "     itemcount  \n",
       "0            1  \n",
       "1            1  \n",
       "2            1  \n",
       "3            1  \n",
       "4            1  \n",
       "..         ...  \n",
       "995          1  \n",
       "996          1  \n",
       "997          1  \n",
       "998          1  \n",
       "999          1  \n",
       "\n",
       "[1000 rows x 13 columns]"
      ]
     },
     "execution_count": 6,
     "metadata": {},
     "output_type": "execute_result"
    }
   ],
   "source": [
    "apcs"
   ]
  },
  {
   "cell_type": "code",
   "execution_count": 7,
   "metadata": {},
   "outputs": [
    {
     "data": {
      "text/plain": [
       "Index(['bibnum', 'title', 'author', 'isbn', 'publicationyear', 'publisher',\n",
       "       'subjects', 'itemtype', 'itemcollection', 'floatingitem',\n",
       "       'itemlocation', 'reportdate', 'itemcount'],\n",
       "      dtype='object')"
      ]
     },
     "execution_count": 7,
     "metadata": {},
     "output_type": "execute_result"
    }
   ],
   "source": [
    "apcs.columns"
   ]
  },
  {
   "cell_type": "markdown",
   "metadata": {},
   "source": [
    "### Ja, das klappt ja wunderbar."
   ]
  },
  {
   "cell_type": "markdown",
   "metadata": {},
   "source": [
    "### Was könnte ich nun mit dieser Tabelle anstellen?\n",
    "\n",
    "Zunächst einmal will ich mir nur anschauen, welche Art von Büchern es gibt, also muss ich die columns ausfiltern, die mich nicht interessieren. Übrig bleiben sollen zunächst: title, subjects."
   ]
  },
  {
   "cell_type": "code",
   "execution_count": 8,
   "metadata": {},
   "outputs": [
    {
     "ename": "KeyError",
     "evalue": "\"['subject'] not in index\"",
     "output_type": "error",
     "traceback": [
      "\u001b[1;31m---------------------------------------------------------------------------\u001b[0m",
      "\u001b[1;31mKeyError\u001b[0m                                  Traceback (most recent call last)",
      "\u001b[1;32m<ipython-input-8-88246e6415ce>\u001b[0m in \u001b[0;36m<module>\u001b[1;34m\u001b[0m\n\u001b[1;32m----> 1\u001b[1;33m \u001b[0mapcs\u001b[0m \u001b[1;33m[\u001b[0m\u001b[1;33m[\u001b[0m\u001b[1;34m\"title\"\u001b[0m\u001b[1;33m,\u001b[0m \u001b[1;34m\"subject\"\u001b[0m\u001b[1;33m]\u001b[0m\u001b[1;33m]\u001b[0m\u001b[1;33m\u001b[0m\u001b[1;33m\u001b[0m\u001b[0m\n\u001b[0m",
      "\u001b[1;32m~\\anaconda3\\lib\\site-packages\\pandas\\core\\frame.py\u001b[0m in \u001b[0;36m__getitem__\u001b[1;34m(self, key)\u001b[0m\n\u001b[0;32m   2804\u001b[0m             \u001b[1;32mif\u001b[0m \u001b[0mis_iterator\u001b[0m\u001b[1;33m(\u001b[0m\u001b[0mkey\u001b[0m\u001b[1;33m)\u001b[0m\u001b[1;33m:\u001b[0m\u001b[1;33m\u001b[0m\u001b[1;33m\u001b[0m\u001b[0m\n\u001b[0;32m   2805\u001b[0m                 \u001b[0mkey\u001b[0m \u001b[1;33m=\u001b[0m \u001b[0mlist\u001b[0m\u001b[1;33m(\u001b[0m\u001b[0mkey\u001b[0m\u001b[1;33m)\u001b[0m\u001b[1;33m\u001b[0m\u001b[1;33m\u001b[0m\u001b[0m\n\u001b[1;32m-> 2806\u001b[1;33m             \u001b[0mindexer\u001b[0m \u001b[1;33m=\u001b[0m \u001b[0mself\u001b[0m\u001b[1;33m.\u001b[0m\u001b[0mloc\u001b[0m\u001b[1;33m.\u001b[0m\u001b[0m_get_listlike_indexer\u001b[0m\u001b[1;33m(\u001b[0m\u001b[0mkey\u001b[0m\u001b[1;33m,\u001b[0m \u001b[0maxis\u001b[0m\u001b[1;33m=\u001b[0m\u001b[1;36m1\u001b[0m\u001b[1;33m,\u001b[0m \u001b[0mraise_missing\u001b[0m\u001b[1;33m=\u001b[0m\u001b[1;32mTrue\u001b[0m\u001b[1;33m)\u001b[0m\u001b[1;33m[\u001b[0m\u001b[1;36m1\u001b[0m\u001b[1;33m]\u001b[0m\u001b[1;33m\u001b[0m\u001b[1;33m\u001b[0m\u001b[0m\n\u001b[0m\u001b[0;32m   2807\u001b[0m \u001b[1;33m\u001b[0m\u001b[0m\n\u001b[0;32m   2808\u001b[0m         \u001b[1;31m# take() does not accept boolean indexers\u001b[0m\u001b[1;33m\u001b[0m\u001b[1;33m\u001b[0m\u001b[1;33m\u001b[0m\u001b[0m\n",
      "\u001b[1;32m~\\anaconda3\\lib\\site-packages\\pandas\\core\\indexing.py\u001b[0m in \u001b[0;36m_get_listlike_indexer\u001b[1;34m(self, key, axis, raise_missing)\u001b[0m\n\u001b[0;32m   1550\u001b[0m \u001b[1;33m\u001b[0m\u001b[0m\n\u001b[0;32m   1551\u001b[0m         self._validate_read_indexer(\n\u001b[1;32m-> 1552\u001b[1;33m             \u001b[0mkeyarr\u001b[0m\u001b[1;33m,\u001b[0m \u001b[0mindexer\u001b[0m\u001b[1;33m,\u001b[0m \u001b[0mo\u001b[0m\u001b[1;33m.\u001b[0m\u001b[0m_get_axis_number\u001b[0m\u001b[1;33m(\u001b[0m\u001b[0maxis\u001b[0m\u001b[1;33m)\u001b[0m\u001b[1;33m,\u001b[0m \u001b[0mraise_missing\u001b[0m\u001b[1;33m=\u001b[0m\u001b[0mraise_missing\u001b[0m\u001b[1;33m\u001b[0m\u001b[1;33m\u001b[0m\u001b[0m\n\u001b[0m\u001b[0;32m   1553\u001b[0m         )\n\u001b[0;32m   1554\u001b[0m         \u001b[1;32mreturn\u001b[0m \u001b[0mkeyarr\u001b[0m\u001b[1;33m,\u001b[0m \u001b[0mindexer\u001b[0m\u001b[1;33m\u001b[0m\u001b[1;33m\u001b[0m\u001b[0m\n",
      "\u001b[1;32m~\\anaconda3\\lib\\site-packages\\pandas\\core\\indexing.py\u001b[0m in \u001b[0;36m_validate_read_indexer\u001b[1;34m(self, key, indexer, axis, raise_missing)\u001b[0m\n\u001b[0;32m   1643\u001b[0m             \u001b[1;32mif\u001b[0m \u001b[1;32mnot\u001b[0m \u001b[1;33m(\u001b[0m\u001b[0mself\u001b[0m\u001b[1;33m.\u001b[0m\u001b[0mname\u001b[0m \u001b[1;33m==\u001b[0m \u001b[1;34m\"loc\"\u001b[0m \u001b[1;32mand\u001b[0m \u001b[1;32mnot\u001b[0m \u001b[0mraise_missing\u001b[0m\u001b[1;33m)\u001b[0m\u001b[1;33m:\u001b[0m\u001b[1;33m\u001b[0m\u001b[1;33m\u001b[0m\u001b[0m\n\u001b[0;32m   1644\u001b[0m                 \u001b[0mnot_found\u001b[0m \u001b[1;33m=\u001b[0m \u001b[0mlist\u001b[0m\u001b[1;33m(\u001b[0m\u001b[0mset\u001b[0m\u001b[1;33m(\u001b[0m\u001b[0mkey\u001b[0m\u001b[1;33m)\u001b[0m \u001b[1;33m-\u001b[0m \u001b[0mset\u001b[0m\u001b[1;33m(\u001b[0m\u001b[0max\u001b[0m\u001b[1;33m)\u001b[0m\u001b[1;33m)\u001b[0m\u001b[1;33m\u001b[0m\u001b[1;33m\u001b[0m\u001b[0m\n\u001b[1;32m-> 1645\u001b[1;33m                 \u001b[1;32mraise\u001b[0m \u001b[0mKeyError\u001b[0m\u001b[1;33m(\u001b[0m\u001b[1;34mf\"{not_found} not in index\"\u001b[0m\u001b[1;33m)\u001b[0m\u001b[1;33m\u001b[0m\u001b[1;33m\u001b[0m\u001b[0m\n\u001b[0m\u001b[0;32m   1646\u001b[0m \u001b[1;33m\u001b[0m\u001b[0m\n\u001b[0;32m   1647\u001b[0m             \u001b[1;31m# we skip the warning on Categorical/Interval\u001b[0m\u001b[1;33m\u001b[0m\u001b[1;33m\u001b[0m\u001b[1;33m\u001b[0m\u001b[0m\n",
      "\u001b[1;31mKeyError\u001b[0m: \"['subject'] not in index\""
     ]
    }
   ],
   "source": [
    "apcs [[\"title\", \"subject\"]]"
   ]
  },
  {
   "cell_type": "code",
   "execution_count": null,
   "metadata": {},
   "outputs": [],
   "source": [
    "type (apcs [\"title\", \"subject\"])"
   ]
  },
  {
   "cell_type": "code",
   "execution_count": null,
   "metadata": {},
   "outputs": [],
   "source": [
    "type (apcs [\"subject\"])"
   ]
  },
  {
   "cell_type": "code",
   "execution_count": null,
   "metadata": {},
   "outputs": [],
   "source": [
    "apcs.subject"
   ]
  },
  {
   "cell_type": "code",
   "execution_count": null,
   "metadata": {},
   "outputs": [],
   "source": [
    "apcs.subjects"
   ]
  },
  {
   "cell_type": "markdown",
   "metadata": {},
   "source": [
    "### Da muss man sehr genau aufpassen! Subjects war im Plural..."
   ]
  },
  {
   "cell_type": "code",
   "execution_count": null,
   "metadata": {
    "scrolled": true
   },
   "outputs": [],
   "source": [
    "apcs [[\"title\", \"subjects\"]]"
   ]
  },
  {
   "cell_type": "code",
   "execution_count": null,
   "metadata": {},
   "outputs": [],
   "source": [
    "apcs [[\"title\", \"author\", \"subjects\"]]"
   ]
  },
  {
   "cell_type": "markdown",
   "metadata": {},
   "source": [
    "### Ich kann die Reihenfolge der columns beliebig ändern."
   ]
  },
  {
   "cell_type": "code",
   "execution_count": null,
   "metadata": {
    "scrolled": false
   },
   "outputs": [],
   "source": [
    "apcs [[\"subjects\", \"author\", \"title\", \"isbn\"]]"
   ]
  },
  {
   "cell_type": "code",
   "execution_count": null,
   "metadata": {},
   "outputs": [],
   "source": [
    "apcs [[\"subjects\", \"title\"]].hist"
   ]
  },
  {
   "cell_type": "markdown",
   "metadata": {},
   "source": [
    "### Leider habe ich keine Grafik erhalten. \n",
    "\n",
    "War aber zu erwarten. Ist ja auch kein Thema für eine Grafik. Wir brauchen vielleicht etwas mit Zahlen!"
   ]
  },
  {
   "cell_type": "code",
   "execution_count": null,
   "metadata": {},
   "outputs": [],
   "source": [
    "apcs"
   ]
  },
  {
   "cell_type": "code",
   "execution_count": null,
   "metadata": {},
   "outputs": [],
   "source": [
    "apcs.publicationyear"
   ]
  },
  {
   "cell_type": "code",
   "execution_count": null,
   "metadata": {},
   "outputs": [],
   "source": [
    "apcs.publicationyear.min"
   ]
  },
  {
   "cell_type": "code",
   "execution_count": null,
   "metadata": {
    "scrolled": true
   },
   "outputs": [],
   "source": [
    "apcs.publicationyear.mean"
   ]
  },
  {
   "cell_type": "code",
   "execution_count": null,
   "metadata": {},
   "outputs": [],
   "source": [
    "apcs.columns"
   ]
  },
  {
   "cell_type": "code",
   "execution_count": null,
   "metadata": {},
   "outputs": [],
   "source": [
    "apcs [\"publicationyear\"].hist"
   ]
  },
  {
   "cell_type": "code",
   "execution_count": null,
   "metadata": {},
   "outputs": [],
   "source": [
    "apcs [[\"publicationyear\", \"reportdate\"]]"
   ]
  },
  {
   "cell_type": "code",
   "execution_count": null,
   "metadata": {},
   "outputs": [],
   "source": [
    "apcs [[\"publicationyear\", \"reportdate\"]].hist"
   ]
  },
  {
   "cell_type": "code",
   "execution_count": null,
   "metadata": {},
   "outputs": [],
   "source": [
    "apcs [\"publicationyear\"].hist"
   ]
  },
  {
   "cell_type": "code",
   "execution_count": null,
   "metadata": {},
   "outputs": [],
   "source": [
    "apcs [[\"publicationyear\", \"author\"]]"
   ]
  },
  {
   "cell_type": "code",
   "execution_count": null,
   "metadata": {},
   "outputs": [],
   "source": [
    "apcs [[\"publicationyear\", \"author\"]].hist"
   ]
  },
  {
   "cell_type": "markdown",
   "metadata": {},
   "source": [
    "### Ich habe den Eindruck, Publicationyear funktioniert irgendwie nicht...\n",
    "\n",
    "So langsam fällt mir auch nichts mehr ein, das ich noch ausprobieren könnte. Was soll ich denn mit diesen Daten machen?"
   ]
  },
  {
   "cell_type": "code",
   "execution_count": null,
   "metadata": {},
   "outputs": [],
   "source": [
    "apcs.columns"
   ]
  },
  {
   "cell_type": "code",
   "execution_count": null,
   "metadata": {},
   "outputs": [],
   "source": [
    "apcs [[\"bibnum\", \"isbn\"]]"
   ]
  },
  {
   "cell_type": "code",
   "execution_count": null,
   "metadata": {},
   "outputs": [],
   "source": [
    "apcs [[\"bibnum\", \"isbn\"]].hist"
   ]
  },
  {
   "cell_type": "markdown",
   "metadata": {},
   "source": [
    "### Hm, irgendwie funktioniert keine der Zahlen aus diesen Seattle-Daten."
   ]
  },
  {
   "cell_type": "code",
   "execution_count": null,
   "metadata": {},
   "outputs": [],
   "source": [
    "import matplotlib"
   ]
  },
  {
   "cell_type": "code",
   "execution_count": null,
   "metadata": {},
   "outputs": [],
   "source": [
    "%matplotlib inline"
   ]
  },
  {
   "cell_type": "code",
   "execution_count": null,
   "metadata": {},
   "outputs": [],
   "source": [
    "apcs [[\"bibnum\", \"isbn\"]].hist"
   ]
  },
  {
   "cell_type": "code",
   "execution_count": null,
   "metadata": {},
   "outputs": [],
   "source": [
    "import matplotlib.pyplot as plt"
   ]
  },
  {
   "cell_type": "code",
   "execution_count": null,
   "metadata": {},
   "outputs": [],
   "source": [
    "values = type (apcs [\"bibnum\"])\n",
    "plt.hist (values)\n",
    "plt.show ()"
   ]
  },
  {
   "cell_type": "code",
   "execution_count": null,
   "metadata": {},
   "outputs": [],
   "source": [
    "import pandas as pd\n",
    "import numpy as np\n",
    "import matplotlib.pyplot as plt"
   ]
  },
  {
   "cell_type": "code",
   "execution_count": null,
   "metadata": {},
   "outputs": [],
   "source": [
    "plt.hist (\"isbn\")"
   ]
  },
  {
   "cell_type": "markdown",
   "metadata": {},
   "source": [
    "### Ja, und was bringt mir das jetzt?\n",
    "\n",
    "Jetzt habe ich zwar endlich mal eine Grafik erhalten. Aber welche Erkenntnisse soll ich bitte daraus ziehen? Ich verstehe nicht, wie ich zwei Daten in Verbindung bringen soll."
   ]
  },
  {
   "cell_type": "code",
   "execution_count": null,
   "metadata": {},
   "outputs": [],
   "source": [
    "apcs"
   ]
  },
  {
   "cell_type": "markdown",
   "metadata": {},
   "source": [
    "### Welcher Verlag hat in welchem Jahr veröffentlicht?"
   ]
  },
  {
   "cell_type": "code",
   "execution_count": null,
   "metadata": {},
   "outputs": [],
   "source": [
    "plt.hist (\"publicationyear\", \"publisher\")"
   ]
  },
  {
   "cell_type": "markdown",
   "metadata": {},
   "source": [
    "### Welchen itemtype gab es in welchem Jahr?"
   ]
  },
  {
   "cell_type": "code",
   "execution_count": null,
   "metadata": {},
   "outputs": [],
   "source": [
    "plt.hist (\"publicationyear\", \"itemtype\")"
   ]
  },
  {
   "cell_type": "code",
   "execution_count": null,
   "metadata": {},
   "outputs": [],
   "source": [
    "plt.hist (\"publicationyear\", \"itemlocation\")"
   ]
  },
  {
   "cell_type": "code",
   "execution_count": null,
   "metadata": {},
   "outputs": [],
   "source": [
    "apcs [[\"itemlocation\", \"publicationyear\"]]"
   ]
  },
  {
   "cell_type": "code",
   "execution_count": null,
   "metadata": {},
   "outputs": [],
   "source": [
    "apcs [\"itemlocation\", \"publicationyear\"].hist"
   ]
  },
  {
   "cell_type": "code",
   "execution_count": null,
   "metadata": {},
   "outputs": [],
   "source": [
    "plt.hist (\"publicationyear\")"
   ]
  },
  {
   "cell_type": "code",
   "execution_count": null,
   "metadata": {},
   "outputs": [],
   "source": [
    "apcs"
   ]
  },
  {
   "cell_type": "code",
   "execution_count": 9,
   "metadata": {},
   "outputs": [
    {
     "data": {
      "text/plain": [
       "0      Musicians Fiction, Bullfighters Fiction, Best ...\n",
       "1      Ninja Japan Comic books strips etc, Comic book...\n",
       "2      Duncan Jeremy Fictitious character Comic books...\n",
       "3      Hemingway Ernest 1899 1961 Fiction, Biographic...\n",
       "4      Erotic literature American, American literatur...\n",
       "                             ...                        \n",
       "995    Automobile travel Northwest Pacific Guidebooks...\n",
       "996    Marriage records North Carolina Bute County, M...\n",
       "997    Great Dane Juvenile fiction, Scottish terrier ...\n",
       "998    Spider Man Fictitious character Comic books st...\n",
       "999    Spanish American fiction 20th century History ...\n",
       "Name: subjects, Length: 1000, dtype: object"
      ]
     },
     "execution_count": 9,
     "metadata": {},
     "output_type": "execute_result"
    }
   ],
   "source": [
    "apcs [\"subjects\"]"
   ]
  },
  {
   "cell_type": "code",
   "execution_count": 10,
   "metadata": {},
   "outputs": [],
   "source": [
    "apcs_subjects = apcs [\"subjects\"]"
   ]
  },
  {
   "cell_type": "code",
   "execution_count": 11,
   "metadata": {},
   "outputs": [
    {
     "data": {
      "text/plain": [
       "0      Musicians Fiction, Bullfighters Fiction, Best ...\n",
       "1      Ninja Japan Comic books strips etc, Comic book...\n",
       "2      Duncan Jeremy Fictitious character Comic books...\n",
       "3      Hemingway Ernest 1899 1961 Fiction, Biographic...\n",
       "4      Erotic literature American, American literatur...\n",
       "                             ...                        \n",
       "995    Automobile travel Northwest Pacific Guidebooks...\n",
       "996    Marriage records North Carolina Bute County, M...\n",
       "997    Great Dane Juvenile fiction, Scottish terrier ...\n",
       "998    Spider Man Fictitious character Comic books st...\n",
       "999    Spanish American fiction 20th century History ...\n",
       "Name: subjects, Length: 1000, dtype: object"
      ]
     },
     "execution_count": 11,
     "metadata": {},
     "output_type": "execute_result"
    }
   ],
   "source": [
    "apcs_subjects"
   ]
  },
  {
   "cell_type": "code",
   "execution_count": 13,
   "metadata": {},
   "outputs": [
    {
     "ename": "AttributeError",
     "evalue": "'Series' object has no attribute 'iterrows'",
     "output_type": "error",
     "traceback": [
      "\u001b[1;31m---------------------------------------------------------------------------\u001b[0m",
      "\u001b[1;31mAttributeError\u001b[0m                            Traceback (most recent call last)",
      "\u001b[1;32m<ipython-input-13-fdde6e3d189b>\u001b[0m in \u001b[0;36m<module>\u001b[1;34m\u001b[0m\n\u001b[1;32m----> 1\u001b[1;33m \u001b[1;32mfor\u001b[0m \u001b[0mrow\u001b[0m \u001b[1;32min\u001b[0m \u001b[0mapcs\u001b[0m \u001b[1;33m[\u001b[0m\u001b[1;34m\"subjects\"\u001b[0m\u001b[1;33m]\u001b[0m\u001b[1;33m.\u001b[0m\u001b[0miterrows\u001b[0m \u001b[1;33m(\u001b[0m\u001b[1;33m)\u001b[0m\u001b[1;33m:\u001b[0m\u001b[1;33m\u001b[0m\u001b[1;33m\u001b[0m\u001b[0m\n\u001b[0m\u001b[0;32m      2\u001b[0m     \u001b[0mprint\u001b[0m \u001b[1;33m(\u001b[0m\u001b[1;34m\"comic\"\u001b[0m\u001b[1;33m)\u001b[0m\u001b[1;33m\u001b[0m\u001b[1;33m\u001b[0m\u001b[0m\n",
      "\u001b[1;32m~\\anaconda3\\lib\\site-packages\\pandas\\core\\generic.py\u001b[0m in \u001b[0;36m__getattr__\u001b[1;34m(self, name)\u001b[0m\n\u001b[0;32m   5272\u001b[0m             \u001b[1;32mif\u001b[0m \u001b[0mself\u001b[0m\u001b[1;33m.\u001b[0m\u001b[0m_info_axis\u001b[0m\u001b[1;33m.\u001b[0m\u001b[0m_can_hold_identifiers_and_holds_name\u001b[0m\u001b[1;33m(\u001b[0m\u001b[0mname\u001b[0m\u001b[1;33m)\u001b[0m\u001b[1;33m:\u001b[0m\u001b[1;33m\u001b[0m\u001b[1;33m\u001b[0m\u001b[0m\n\u001b[0;32m   5273\u001b[0m                 \u001b[1;32mreturn\u001b[0m \u001b[0mself\u001b[0m\u001b[1;33m[\u001b[0m\u001b[0mname\u001b[0m\u001b[1;33m]\u001b[0m\u001b[1;33m\u001b[0m\u001b[1;33m\u001b[0m\u001b[0m\n\u001b[1;32m-> 5274\u001b[1;33m             \u001b[1;32mreturn\u001b[0m \u001b[0mobject\u001b[0m\u001b[1;33m.\u001b[0m\u001b[0m__getattribute__\u001b[0m\u001b[1;33m(\u001b[0m\u001b[0mself\u001b[0m\u001b[1;33m,\u001b[0m \u001b[0mname\u001b[0m\u001b[1;33m)\u001b[0m\u001b[1;33m\u001b[0m\u001b[1;33m\u001b[0m\u001b[0m\n\u001b[0m\u001b[0;32m   5275\u001b[0m \u001b[1;33m\u001b[0m\u001b[0m\n\u001b[0;32m   5276\u001b[0m     \u001b[1;32mdef\u001b[0m \u001b[0m__setattr__\u001b[0m\u001b[1;33m(\u001b[0m\u001b[0mself\u001b[0m\u001b[1;33m,\u001b[0m \u001b[0mname\u001b[0m\u001b[1;33m:\u001b[0m \u001b[0mstr\u001b[0m\u001b[1;33m,\u001b[0m \u001b[0mvalue\u001b[0m\u001b[1;33m)\u001b[0m \u001b[1;33m->\u001b[0m \u001b[1;32mNone\u001b[0m\u001b[1;33m:\u001b[0m\u001b[1;33m\u001b[0m\u001b[1;33m\u001b[0m\u001b[0m\n",
      "\u001b[1;31mAttributeError\u001b[0m: 'Series' object has no attribute 'iterrows'"
     ]
    }
   ],
   "source": [
    "for row in apcs [\"subjects\"].iterrows ():\n",
    "    print (\"comic\")"
   ]
  },
  {
   "cell_type": "code",
   "execution_count": null,
   "metadata": {},
   "outputs": [],
   "source": []
  }
 ],
 "metadata": {
  "kernelspec": {
   "display_name": "Python 3",
   "language": "python",
   "name": "python3"
  },
  "language_info": {
   "codemirror_mode": {
    "name": "ipython",
    "version": 3
   },
   "file_extension": ".py",
   "mimetype": "text/x-python",
   "name": "python",
   "nbconvert_exporter": "python",
   "pygments_lexer": "ipython3",
   "version": "3.7.6"
  }
 },
 "nbformat": 4,
 "nbformat_minor": 4
}
