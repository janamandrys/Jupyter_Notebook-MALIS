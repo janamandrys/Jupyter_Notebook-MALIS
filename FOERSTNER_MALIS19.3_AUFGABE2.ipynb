{
 "cells": [
  {
   "cell_type": "markdown",
   "metadata": {},
   "source": [
    "# Inventory-Daten der Seattle Public Library\n",
    "\n",
    "\n",
    "### Wird das gespeichert? Und wenn ja - wie finde ich das wieder?\n",
    "\n",
    "Ich versuche, der Anleitung aus Video 3 zu folgen und die Daten der Seattle Public Library in mein Jupyter-Notebook zu importieren. Ich habe nicht verstanden, wie ich auswählen kann, wo dieses Notebook überhaupt gespeichert wird und habe daher auch nur eine vage Hoffnung, es in den nächsten Tagen wiederzufinden."
   ]
  },
  {
   "cell_type": "markdown",
   "metadata": {},
   "source": [
    "### Zunächst kommen die benötigten Packages hinzu."
   ]
  },
  {
   "cell_type": "code",
   "execution_count": 1,
   "metadata": {},
   "outputs": [],
   "source": [
    "import urllib.request"
   ]
  },
  {
   "cell_type": "code",
   "execution_count": 2,
   "metadata": {},
   "outputs": [],
   "source": [
    "import pandas as pd"
   ]
  },
  {
   "cell_type": "markdown",
   "metadata": {},
   "source": [
    "### Was muss ich tun, um die Daten in meinem Ordner \"seattle_inventory\" abzulegen?"
   ]
  },
  {
   "cell_type": "code",
   "execution_count": 3,
   "metadata": {},
   "outputs": [],
   "source": [
    "url= \"https://data.seattle.gov/resource/6vkj-f5xf.csv\"\n",
    "seattle_inventory = \"lokale-inventory.csv\""
   ]
  },
  {
   "cell_type": "code",
   "execution_count": 4,
   "metadata": {},
   "outputs": [
    {
     "data": {
      "text/plain": [
       "('lokale-inventory.csv', <http.client.HTTPMessage at 0x9cfe4a5e08>)"
      ]
     },
     "execution_count": 4,
     "metadata": {},
     "output_type": "execute_result"
    }
   ],
   "source": [
    "urllib.request.urlretrieve (url, seattle_inventory)"
   ]
  },
  {
   "cell_type": "markdown",
   "metadata": {},
   "source": [
    "### Aha! Ich muss also eine Variable mit einer Namenserfindung koppeln. Darauf muss man mal kommen."
   ]
  },
  {
   "cell_type": "code",
   "execution_count": 5,
   "metadata": {},
   "outputs": [],
   "source": [
    "apcs = pd.read_csv (seattle_inventory)"
   ]
  },
  {
   "cell_type": "code",
   "execution_count": 6,
   "metadata": {},
   "outputs": [
    {
     "data": {
      "text/html": [
       "<div>\n",
       "<style scoped>\n",
       "    .dataframe tbody tr th:only-of-type {\n",
       "        vertical-align: middle;\n",
       "    }\n",
       "\n",
       "    .dataframe tbody tr th {\n",
       "        vertical-align: top;\n",
       "    }\n",
       "\n",
       "    .dataframe thead th {\n",
       "        text-align: right;\n",
       "    }\n",
       "</style>\n",
       "<table border=\"1\" class=\"dataframe\">\n",
       "  <thead>\n",
       "    <tr style=\"text-align: right;\">\n",
       "      <th></th>\n",
       "      <th>bibnum</th>\n",
       "      <th>title</th>\n",
       "      <th>author</th>\n",
       "      <th>isbn</th>\n",
       "      <th>publicationyear</th>\n",
       "      <th>publisher</th>\n",
       "      <th>subjects</th>\n",
       "      <th>itemtype</th>\n",
       "      <th>itemcollection</th>\n",
       "      <th>floatingitem</th>\n",
       "      <th>itemlocation</th>\n",
       "      <th>reportdate</th>\n",
       "      <th>itemcount</th>\n",
       "    </tr>\n",
       "  </thead>\n",
       "  <tbody>\n",
       "    <tr>\n",
       "      <th>0</th>\n",
       "      <td>3011076</td>\n",
       "      <td>A tale of two friends / adapted by Ellie O'Rya...</td>\n",
       "      <td>O'Ryan, Ellie</td>\n",
       "      <td>1481425730, 1481425749, 9781481425735, 9781481...</td>\n",
       "      <td>2014.</td>\n",
       "      <td>Simon Spotlight,</td>\n",
       "      <td>Musicians Fiction, Bullfighters Fiction, Best ...</td>\n",
       "      <td>jcbk</td>\n",
       "      <td>ncrdr</td>\n",
       "      <td>Floating</td>\n",
       "      <td>qna</td>\n",
       "      <td>2017-09-01T00:00:00.000</td>\n",
       "      <td>1</td>\n",
       "    </tr>\n",
       "    <tr>\n",
       "      <th>1</th>\n",
       "      <td>2248846</td>\n",
       "      <td>Naruto. Vol. 1, Uzumaki Naruto / story and art...</td>\n",
       "      <td>Kishimoto, Masashi, 1974-</td>\n",
       "      <td>1569319006</td>\n",
       "      <td>2003, c1999.</td>\n",
       "      <td>Viz,</td>\n",
       "      <td>Ninja Japan Comic books strips etc, Comic book...</td>\n",
       "      <td>acbk</td>\n",
       "      <td>nycomic</td>\n",
       "      <td>NaN</td>\n",
       "      <td>lcy</td>\n",
       "      <td>2017-09-01T00:00:00.000</td>\n",
       "      <td>1</td>\n",
       "    </tr>\n",
       "    <tr>\n",
       "      <th>2</th>\n",
       "      <td>3209270</td>\n",
       "      <td>Peace, love &amp; Wi-Fi : a ZITS treasury / by Jer...</td>\n",
       "      <td>Scott, Jerry, 1955-</td>\n",
       "      <td>144945867X, 9781449458676</td>\n",
       "      <td>2014.</td>\n",
       "      <td>Andrews McMeel Publishing,</td>\n",
       "      <td>Duncan Jeremy Fictitious character Comic books...</td>\n",
       "      <td>acbk</td>\n",
       "      <td>nycomic</td>\n",
       "      <td>NaN</td>\n",
       "      <td>bea</td>\n",
       "      <td>2017-09-01T00:00:00.000</td>\n",
       "      <td>1</td>\n",
       "    </tr>\n",
       "    <tr>\n",
       "      <th>3</th>\n",
       "      <td>1907265</td>\n",
       "      <td>The Paris pilgrims : a novel / Clancy Carlile.</td>\n",
       "      <td>Carlile, Clancy, 1930-</td>\n",
       "      <td>0786706155</td>\n",
       "      <td>c1999.</td>\n",
       "      <td>Carroll &amp; Graf,</td>\n",
       "      <td>Hemingway Ernest 1899 1961 Fiction, Biographic...</td>\n",
       "      <td>acbk</td>\n",
       "      <td>cafic</td>\n",
       "      <td>NaN</td>\n",
       "      <td>cen</td>\n",
       "      <td>2017-09-01T00:00:00.000</td>\n",
       "      <td>1</td>\n",
       "    </tr>\n",
       "    <tr>\n",
       "      <th>4</th>\n",
       "      <td>1644616</td>\n",
       "      <td>Erotic by nature : a celebration of life, of l...</td>\n",
       "      <td>NaN</td>\n",
       "      <td>094020813X</td>\n",
       "      <td>1991, c1988.</td>\n",
       "      <td>Red Alder Books/Down There Press,</td>\n",
       "      <td>Erotic literature American, American literatur...</td>\n",
       "      <td>acbk</td>\n",
       "      <td>canf</td>\n",
       "      <td>NaN</td>\n",
       "      <td>cen</td>\n",
       "      <td>2017-09-01T00:00:00.000</td>\n",
       "      <td>1</td>\n",
       "    </tr>\n",
       "    <tr>\n",
       "      <th>...</th>\n",
       "      <td>...</td>\n",
       "      <td>...</td>\n",
       "      <td>...</td>\n",
       "      <td>...</td>\n",
       "      <td>...</td>\n",
       "      <td>...</td>\n",
       "      <td>...</td>\n",
       "      <td>...</td>\n",
       "      <td>...</td>\n",
       "      <td>...</td>\n",
       "      <td>...</td>\n",
       "      <td>...</td>\n",
       "      <td>...</td>\n",
       "    </tr>\n",
       "    <tr>\n",
       "      <th>995</th>\n",
       "      <td>3079977</td>\n",
       "      <td>Pacific Northwest road trip / Allison Williams.</td>\n",
       "      <td>Williams, Allison, 1972-</td>\n",
       "      <td>1612387624, 9781612387628</td>\n",
       "      <td>c2015.</td>\n",
       "      <td>Avalon Travel,</td>\n",
       "      <td>Automobile travel Northwest Pacific Guidebooks...</td>\n",
       "      <td>acbk</td>\n",
       "      <td>nanf</td>\n",
       "      <td>NaN</td>\n",
       "      <td>mag</td>\n",
       "      <td>2017-09-01T00:00:00.000</td>\n",
       "      <td>1</td>\n",
       "    </tr>\n",
       "    <tr>\n",
       "      <th>996</th>\n",
       "      <td>2927841</td>\n",
       "      <td>Marriages of Bute and Warren Counties, North C...</td>\n",
       "      <td>Holcomb, Brent H.</td>\n",
       "      <td>0806313013, 9780806313016</td>\n",
       "      <td>2004, c1991.</td>\n",
       "      <td>Clearfield Pub. Co.,</td>\n",
       "      <td>Marriage records North Carolina Bute County, M...</td>\n",
       "      <td>arbk</td>\n",
       "      <td>caref</td>\n",
       "      <td>NaN</td>\n",
       "      <td>cen</td>\n",
       "      <td>2017-09-01T00:00:00.000</td>\n",
       "      <td>1</td>\n",
       "    </tr>\n",
       "    <tr>\n",
       "      <th>997</th>\n",
       "      <td>3139193</td>\n",
       "      <td>All paws on deck / by Jessica Young ; illustra...</td>\n",
       "      <td>Young, Jessica (Jessica E.)</td>\n",
       "      <td>0545818869, 0545818877, 9780545818865, 9780545...</td>\n",
       "      <td>2015.</td>\n",
       "      <td>Branches/Scholastic Inc.,</td>\n",
       "      <td>Great Dane Juvenile fiction, Scottish terrier ...</td>\n",
       "      <td>jcbk</td>\n",
       "      <td>ncef</td>\n",
       "      <td>NaN</td>\n",
       "      <td>net</td>\n",
       "      <td>2017-09-01T00:00:00.000</td>\n",
       "      <td>1</td>\n",
       "    </tr>\n",
       "    <tr>\n",
       "      <th>998</th>\n",
       "      <td>3129641</td>\n",
       "      <td>The amazing Spider-man. Renew your vows / writ...</td>\n",
       "      <td>Slott, Dan</td>\n",
       "      <td>0785198865, 9780785198864</td>\n",
       "      <td>[2015]</td>\n",
       "      <td>Marvel Comics,</td>\n",
       "      <td>Spider Man Fictitious character Comic books st...</td>\n",
       "      <td>acbk</td>\n",
       "      <td>cycomic</td>\n",
       "      <td>NaN</td>\n",
       "      <td>cen</td>\n",
       "      <td>2017-09-01T00:00:00.000</td>\n",
       "      <td>1</td>\n",
       "    </tr>\n",
       "    <tr>\n",
       "      <th>999</th>\n",
       "      <td>1741804</td>\n",
       "      <td>Twentieth-century Spanish American fiction / N...</td>\n",
       "      <td>Lindstrom, Naomi, 1950-</td>\n",
       "      <td>0292746822, 0292781199</td>\n",
       "      <td>1994.</td>\n",
       "      <td>University of Texas Press,</td>\n",
       "      <td>Spanish American fiction 20th century History ...</td>\n",
       "      <td>acbk</td>\n",
       "      <td>canf</td>\n",
       "      <td>NaN</td>\n",
       "      <td>cen</td>\n",
       "      <td>2017-09-01T00:00:00.000</td>\n",
       "      <td>1</td>\n",
       "    </tr>\n",
       "  </tbody>\n",
       "</table>\n",
       "<p>1000 rows × 13 columns</p>\n",
       "</div>"
      ],
      "text/plain": [
       "      bibnum                                              title  \\\n",
       "0    3011076  A tale of two friends / adapted by Ellie O'Rya...   \n",
       "1    2248846  Naruto. Vol. 1, Uzumaki Naruto / story and art...   \n",
       "2    3209270  Peace, love & Wi-Fi : a ZITS treasury / by Jer...   \n",
       "3    1907265     The Paris pilgrims : a novel / Clancy Carlile.   \n",
       "4    1644616  Erotic by nature : a celebration of life, of l...   \n",
       "..       ...                                                ...   \n",
       "995  3079977    Pacific Northwest road trip / Allison Williams.   \n",
       "996  2927841  Marriages of Bute and Warren Counties, North C...   \n",
       "997  3139193  All paws on deck / by Jessica Young ; illustra...   \n",
       "998  3129641  The amazing Spider-man. Renew your vows / writ...   \n",
       "999  1741804  Twentieth-century Spanish American fiction / N...   \n",
       "\n",
       "                          author  \\\n",
       "0                  O'Ryan, Ellie   \n",
       "1      Kishimoto, Masashi, 1974-   \n",
       "2            Scott, Jerry, 1955-   \n",
       "3         Carlile, Clancy, 1930-   \n",
       "4                            NaN   \n",
       "..                           ...   \n",
       "995     Williams, Allison, 1972-   \n",
       "996            Holcomb, Brent H.   \n",
       "997  Young, Jessica (Jessica E.)   \n",
       "998                   Slott, Dan   \n",
       "999      Lindstrom, Naomi, 1950-   \n",
       "\n",
       "                                                  isbn publicationyear  \\\n",
       "0    1481425730, 1481425749, 9781481425735, 9781481...           2014.   \n",
       "1                                           1569319006    2003, c1999.   \n",
       "2                            144945867X, 9781449458676           2014.   \n",
       "3                                           0786706155          c1999.   \n",
       "4                                           094020813X    1991, c1988.   \n",
       "..                                                 ...             ...   \n",
       "995                          1612387624, 9781612387628          c2015.   \n",
       "996                          0806313013, 9780806313016    2004, c1991.   \n",
       "997  0545818869, 0545818877, 9780545818865, 9780545...           2015.   \n",
       "998                          0785198865, 9780785198864          [2015]   \n",
       "999                             0292746822, 0292781199           1994.   \n",
       "\n",
       "                             publisher  \\\n",
       "0                     Simon Spotlight,   \n",
       "1                                 Viz,   \n",
       "2           Andrews McMeel Publishing,   \n",
       "3                      Carroll & Graf,   \n",
       "4    Red Alder Books/Down There Press,   \n",
       "..                                 ...   \n",
       "995                     Avalon Travel,   \n",
       "996               Clearfield Pub. Co.,   \n",
       "997          Branches/Scholastic Inc.,   \n",
       "998                     Marvel Comics,   \n",
       "999         University of Texas Press,   \n",
       "\n",
       "                                              subjects itemtype  \\\n",
       "0    Musicians Fiction, Bullfighters Fiction, Best ...     jcbk   \n",
       "1    Ninja Japan Comic books strips etc, Comic book...     acbk   \n",
       "2    Duncan Jeremy Fictitious character Comic books...     acbk   \n",
       "3    Hemingway Ernest 1899 1961 Fiction, Biographic...     acbk   \n",
       "4    Erotic literature American, American literatur...     acbk   \n",
       "..                                                 ...      ...   \n",
       "995  Automobile travel Northwest Pacific Guidebooks...     acbk   \n",
       "996  Marriage records North Carolina Bute County, M...     arbk   \n",
       "997  Great Dane Juvenile fiction, Scottish terrier ...     jcbk   \n",
       "998  Spider Man Fictitious character Comic books st...     acbk   \n",
       "999  Spanish American fiction 20th century History ...     acbk   \n",
       "\n",
       "    itemcollection floatingitem itemlocation               reportdate  \\\n",
       "0            ncrdr     Floating          qna  2017-09-01T00:00:00.000   \n",
       "1          nycomic          NaN          lcy  2017-09-01T00:00:00.000   \n",
       "2          nycomic          NaN          bea  2017-09-01T00:00:00.000   \n",
       "3            cafic          NaN          cen  2017-09-01T00:00:00.000   \n",
       "4             canf          NaN          cen  2017-09-01T00:00:00.000   \n",
       "..             ...          ...          ...                      ...   \n",
       "995           nanf          NaN          mag  2017-09-01T00:00:00.000   \n",
       "996          caref          NaN          cen  2017-09-01T00:00:00.000   \n",
       "997           ncef          NaN          net  2017-09-01T00:00:00.000   \n",
       "998        cycomic          NaN          cen  2017-09-01T00:00:00.000   \n",
       "999           canf          NaN          cen  2017-09-01T00:00:00.000   \n",
       "\n",
       "     itemcount  \n",
       "0            1  \n",
       "1            1  \n",
       "2            1  \n",
       "3            1  \n",
       "4            1  \n",
       "..         ...  \n",
       "995          1  \n",
       "996          1  \n",
       "997          1  \n",
       "998          1  \n",
       "999          1  \n",
       "\n",
       "[1000 rows x 13 columns]"
      ]
     },
     "execution_count": 6,
     "metadata": {},
     "output_type": "execute_result"
    }
   ],
   "source": [
    "apcs"
   ]
  },
  {
   "cell_type": "code",
   "execution_count": 7,
   "metadata": {},
   "outputs": [
    {
     "data": {
      "text/plain": [
       "Index(['bibnum', 'title', 'author', 'isbn', 'publicationyear', 'publisher',\n",
       "       'subjects', 'itemtype', 'itemcollection', 'floatingitem',\n",
       "       'itemlocation', 'reportdate', 'itemcount'],\n",
       "      dtype='object')"
      ]
     },
     "execution_count": 7,
     "metadata": {},
     "output_type": "execute_result"
    }
   ],
   "source": [
    "apcs.columns"
   ]
  },
  {
   "cell_type": "markdown",
   "metadata": {},
   "source": [
    "### Soweit so gut. Der Import hat also geklappt."
   ]
  },
  {
   "cell_type": "markdown",
   "metadata": {},
   "source": [
    "### Was könnte ich nun mit dieser Tabelle anstellen?\n",
    "\n",
    "Zunächst einmal will ich mir nur anschauen, welche Art von Büchern es gibt, also muss ich die columns ausfiltern, die mich nicht interessieren. Übrig bleiben sollen zunächst: title, subjects."
   ]
  },
  {
   "cell_type": "code",
   "execution_count": 8,
   "metadata": {},
   "outputs": [
    {
     "data": {
      "text/html": [
       "<div>\n",
       "<style scoped>\n",
       "    .dataframe tbody tr th:only-of-type {\n",
       "        vertical-align: middle;\n",
       "    }\n",
       "\n",
       "    .dataframe tbody tr th {\n",
       "        vertical-align: top;\n",
       "    }\n",
       "\n",
       "    .dataframe thead th {\n",
       "        text-align: right;\n",
       "    }\n",
       "</style>\n",
       "<table border=\"1\" class=\"dataframe\">\n",
       "  <thead>\n",
       "    <tr style=\"text-align: right;\">\n",
       "      <th></th>\n",
       "      <th>title</th>\n",
       "      <th>subjects</th>\n",
       "    </tr>\n",
       "  </thead>\n",
       "  <tbody>\n",
       "    <tr>\n",
       "      <th>0</th>\n",
       "      <td>A tale of two friends / adapted by Ellie O'Rya...</td>\n",
       "      <td>Musicians Fiction, Bullfighters Fiction, Best ...</td>\n",
       "    </tr>\n",
       "    <tr>\n",
       "      <th>1</th>\n",
       "      <td>Naruto. Vol. 1, Uzumaki Naruto / story and art...</td>\n",
       "      <td>Ninja Japan Comic books strips etc, Comic book...</td>\n",
       "    </tr>\n",
       "    <tr>\n",
       "      <th>2</th>\n",
       "      <td>Peace, love &amp; Wi-Fi : a ZITS treasury / by Jer...</td>\n",
       "      <td>Duncan Jeremy Fictitious character Comic books...</td>\n",
       "    </tr>\n",
       "    <tr>\n",
       "      <th>3</th>\n",
       "      <td>The Paris pilgrims : a novel / Clancy Carlile.</td>\n",
       "      <td>Hemingway Ernest 1899 1961 Fiction, Biographic...</td>\n",
       "    </tr>\n",
       "    <tr>\n",
       "      <th>4</th>\n",
       "      <td>Erotic by nature : a celebration of life, of l...</td>\n",
       "      <td>Erotic literature American, American literatur...</td>\n",
       "    </tr>\n",
       "    <tr>\n",
       "      <th>...</th>\n",
       "      <td>...</td>\n",
       "      <td>...</td>\n",
       "    </tr>\n",
       "    <tr>\n",
       "      <th>995</th>\n",
       "      <td>Pacific Northwest road trip / Allison Williams.</td>\n",
       "      <td>Automobile travel Northwest Pacific Guidebooks...</td>\n",
       "    </tr>\n",
       "    <tr>\n",
       "      <th>996</th>\n",
       "      <td>Marriages of Bute and Warren Counties, North C...</td>\n",
       "      <td>Marriage records North Carolina Bute County, M...</td>\n",
       "    </tr>\n",
       "    <tr>\n",
       "      <th>997</th>\n",
       "      <td>All paws on deck / by Jessica Young ; illustra...</td>\n",
       "      <td>Great Dane Juvenile fiction, Scottish terrier ...</td>\n",
       "    </tr>\n",
       "    <tr>\n",
       "      <th>998</th>\n",
       "      <td>The amazing Spider-man. Renew your vows / writ...</td>\n",
       "      <td>Spider Man Fictitious character Comic books st...</td>\n",
       "    </tr>\n",
       "    <tr>\n",
       "      <th>999</th>\n",
       "      <td>Twentieth-century Spanish American fiction / N...</td>\n",
       "      <td>Spanish American fiction 20th century History ...</td>\n",
       "    </tr>\n",
       "  </tbody>\n",
       "</table>\n",
       "<p>1000 rows × 2 columns</p>\n",
       "</div>"
      ],
      "text/plain": [
       "                                                 title  \\\n",
       "0    A tale of two friends / adapted by Ellie O'Rya...   \n",
       "1    Naruto. Vol. 1, Uzumaki Naruto / story and art...   \n",
       "2    Peace, love & Wi-Fi : a ZITS treasury / by Jer...   \n",
       "3       The Paris pilgrims : a novel / Clancy Carlile.   \n",
       "4    Erotic by nature : a celebration of life, of l...   \n",
       "..                                                 ...   \n",
       "995    Pacific Northwest road trip / Allison Williams.   \n",
       "996  Marriages of Bute and Warren Counties, North C...   \n",
       "997  All paws on deck / by Jessica Young ; illustra...   \n",
       "998  The amazing Spider-man. Renew your vows / writ...   \n",
       "999  Twentieth-century Spanish American fiction / N...   \n",
       "\n",
       "                                              subjects  \n",
       "0    Musicians Fiction, Bullfighters Fiction, Best ...  \n",
       "1    Ninja Japan Comic books strips etc, Comic book...  \n",
       "2    Duncan Jeremy Fictitious character Comic books...  \n",
       "3    Hemingway Ernest 1899 1961 Fiction, Biographic...  \n",
       "4    Erotic literature American, American literatur...  \n",
       "..                                                 ...  \n",
       "995  Automobile travel Northwest Pacific Guidebooks...  \n",
       "996  Marriage records North Carolina Bute County, M...  \n",
       "997  Great Dane Juvenile fiction, Scottish terrier ...  \n",
       "998  Spider Man Fictitious character Comic books st...  \n",
       "999  Spanish American fiction 20th century History ...  \n",
       "\n",
       "[1000 rows x 2 columns]"
      ]
     },
     "execution_count": 8,
     "metadata": {},
     "output_type": "execute_result"
    }
   ],
   "source": [
    "apcs [[\"title\", \"subjects\"]]"
   ]
  },
  {
   "cell_type": "markdown",
   "metadata": {},
   "source": [
    "### Dann gebe ich noch den Autor dazu und spiele ein bisschen rum mit den Informationen."
   ]
  },
  {
   "cell_type": "code",
   "execution_count": 9,
   "metadata": {},
   "outputs": [
    {
     "data": {
      "text/html": [
       "<div>\n",
       "<style scoped>\n",
       "    .dataframe tbody tr th:only-of-type {\n",
       "        vertical-align: middle;\n",
       "    }\n",
       "\n",
       "    .dataframe tbody tr th {\n",
       "        vertical-align: top;\n",
       "    }\n",
       "\n",
       "    .dataframe thead th {\n",
       "        text-align: right;\n",
       "    }\n",
       "</style>\n",
       "<table border=\"1\" class=\"dataframe\">\n",
       "  <thead>\n",
       "    <tr style=\"text-align: right;\">\n",
       "      <th></th>\n",
       "      <th>title</th>\n",
       "      <th>author</th>\n",
       "      <th>subjects</th>\n",
       "    </tr>\n",
       "  </thead>\n",
       "  <tbody>\n",
       "    <tr>\n",
       "      <th>0</th>\n",
       "      <td>A tale of two friends / adapted by Ellie O'Rya...</td>\n",
       "      <td>O'Ryan, Ellie</td>\n",
       "      <td>Musicians Fiction, Bullfighters Fiction, Best ...</td>\n",
       "    </tr>\n",
       "    <tr>\n",
       "      <th>1</th>\n",
       "      <td>Naruto. Vol. 1, Uzumaki Naruto / story and art...</td>\n",
       "      <td>Kishimoto, Masashi, 1974-</td>\n",
       "      <td>Ninja Japan Comic books strips etc, Comic book...</td>\n",
       "    </tr>\n",
       "    <tr>\n",
       "      <th>2</th>\n",
       "      <td>Peace, love &amp; Wi-Fi : a ZITS treasury / by Jer...</td>\n",
       "      <td>Scott, Jerry, 1955-</td>\n",
       "      <td>Duncan Jeremy Fictitious character Comic books...</td>\n",
       "    </tr>\n",
       "    <tr>\n",
       "      <th>3</th>\n",
       "      <td>The Paris pilgrims : a novel / Clancy Carlile.</td>\n",
       "      <td>Carlile, Clancy, 1930-</td>\n",
       "      <td>Hemingway Ernest 1899 1961 Fiction, Biographic...</td>\n",
       "    </tr>\n",
       "    <tr>\n",
       "      <th>4</th>\n",
       "      <td>Erotic by nature : a celebration of life, of l...</td>\n",
       "      <td>NaN</td>\n",
       "      <td>Erotic literature American, American literatur...</td>\n",
       "    </tr>\n",
       "    <tr>\n",
       "      <th>...</th>\n",
       "      <td>...</td>\n",
       "      <td>...</td>\n",
       "      <td>...</td>\n",
       "    </tr>\n",
       "    <tr>\n",
       "      <th>995</th>\n",
       "      <td>Pacific Northwest road trip / Allison Williams.</td>\n",
       "      <td>Williams, Allison, 1972-</td>\n",
       "      <td>Automobile travel Northwest Pacific Guidebooks...</td>\n",
       "    </tr>\n",
       "    <tr>\n",
       "      <th>996</th>\n",
       "      <td>Marriages of Bute and Warren Counties, North C...</td>\n",
       "      <td>Holcomb, Brent H.</td>\n",
       "      <td>Marriage records North Carolina Bute County, M...</td>\n",
       "    </tr>\n",
       "    <tr>\n",
       "      <th>997</th>\n",
       "      <td>All paws on deck / by Jessica Young ; illustra...</td>\n",
       "      <td>Young, Jessica (Jessica E.)</td>\n",
       "      <td>Great Dane Juvenile fiction, Scottish terrier ...</td>\n",
       "    </tr>\n",
       "    <tr>\n",
       "      <th>998</th>\n",
       "      <td>The amazing Spider-man. Renew your vows / writ...</td>\n",
       "      <td>Slott, Dan</td>\n",
       "      <td>Spider Man Fictitious character Comic books st...</td>\n",
       "    </tr>\n",
       "    <tr>\n",
       "      <th>999</th>\n",
       "      <td>Twentieth-century Spanish American fiction / N...</td>\n",
       "      <td>Lindstrom, Naomi, 1950-</td>\n",
       "      <td>Spanish American fiction 20th century History ...</td>\n",
       "    </tr>\n",
       "  </tbody>\n",
       "</table>\n",
       "<p>1000 rows × 3 columns</p>\n",
       "</div>"
      ],
      "text/plain": [
       "                                                 title  \\\n",
       "0    A tale of two friends / adapted by Ellie O'Rya...   \n",
       "1    Naruto. Vol. 1, Uzumaki Naruto / story and art...   \n",
       "2    Peace, love & Wi-Fi : a ZITS treasury / by Jer...   \n",
       "3       The Paris pilgrims : a novel / Clancy Carlile.   \n",
       "4    Erotic by nature : a celebration of life, of l...   \n",
       "..                                                 ...   \n",
       "995    Pacific Northwest road trip / Allison Williams.   \n",
       "996  Marriages of Bute and Warren Counties, North C...   \n",
       "997  All paws on deck / by Jessica Young ; illustra...   \n",
       "998  The amazing Spider-man. Renew your vows / writ...   \n",
       "999  Twentieth-century Spanish American fiction / N...   \n",
       "\n",
       "                          author  \\\n",
       "0                  O'Ryan, Ellie   \n",
       "1      Kishimoto, Masashi, 1974-   \n",
       "2            Scott, Jerry, 1955-   \n",
       "3         Carlile, Clancy, 1930-   \n",
       "4                            NaN   \n",
       "..                           ...   \n",
       "995     Williams, Allison, 1972-   \n",
       "996            Holcomb, Brent H.   \n",
       "997  Young, Jessica (Jessica E.)   \n",
       "998                   Slott, Dan   \n",
       "999      Lindstrom, Naomi, 1950-   \n",
       "\n",
       "                                              subjects  \n",
       "0    Musicians Fiction, Bullfighters Fiction, Best ...  \n",
       "1    Ninja Japan Comic books strips etc, Comic book...  \n",
       "2    Duncan Jeremy Fictitious character Comic books...  \n",
       "3    Hemingway Ernest 1899 1961 Fiction, Biographic...  \n",
       "4    Erotic literature American, American literatur...  \n",
       "..                                                 ...  \n",
       "995  Automobile travel Northwest Pacific Guidebooks...  \n",
       "996  Marriage records North Carolina Bute County, M...  \n",
       "997  Great Dane Juvenile fiction, Scottish terrier ...  \n",
       "998  Spider Man Fictitious character Comic books st...  \n",
       "999  Spanish American fiction 20th century History ...  \n",
       "\n",
       "[1000 rows x 3 columns]"
      ]
     },
     "execution_count": 9,
     "metadata": {},
     "output_type": "execute_result"
    }
   ],
   "source": [
    "apcs [[\"title\", \"author\", \"subjects\"]]"
   ]
  },
  {
   "cell_type": "code",
   "execution_count": 10,
   "metadata": {
    "scrolled": false
   },
   "outputs": [
    {
     "data": {
      "text/html": [
       "<div>\n",
       "<style scoped>\n",
       "    .dataframe tbody tr th:only-of-type {\n",
       "        vertical-align: middle;\n",
       "    }\n",
       "\n",
       "    .dataframe tbody tr th {\n",
       "        vertical-align: top;\n",
       "    }\n",
       "\n",
       "    .dataframe thead th {\n",
       "        text-align: right;\n",
       "    }\n",
       "</style>\n",
       "<table border=\"1\" class=\"dataframe\">\n",
       "  <thead>\n",
       "    <tr style=\"text-align: right;\">\n",
       "      <th></th>\n",
       "      <th>subjects</th>\n",
       "      <th>author</th>\n",
       "      <th>title</th>\n",
       "      <th>isbn</th>\n",
       "    </tr>\n",
       "  </thead>\n",
       "  <tbody>\n",
       "    <tr>\n",
       "      <th>0</th>\n",
       "      <td>Musicians Fiction, Bullfighters Fiction, Best ...</td>\n",
       "      <td>O'Ryan, Ellie</td>\n",
       "      <td>A tale of two friends / adapted by Ellie O'Rya...</td>\n",
       "      <td>1481425730, 1481425749, 9781481425735, 9781481...</td>\n",
       "    </tr>\n",
       "    <tr>\n",
       "      <th>1</th>\n",
       "      <td>Ninja Japan Comic books strips etc, Comic book...</td>\n",
       "      <td>Kishimoto, Masashi, 1974-</td>\n",
       "      <td>Naruto. Vol. 1, Uzumaki Naruto / story and art...</td>\n",
       "      <td>1569319006</td>\n",
       "    </tr>\n",
       "    <tr>\n",
       "      <th>2</th>\n",
       "      <td>Duncan Jeremy Fictitious character Comic books...</td>\n",
       "      <td>Scott, Jerry, 1955-</td>\n",
       "      <td>Peace, love &amp; Wi-Fi : a ZITS treasury / by Jer...</td>\n",
       "      <td>144945867X, 9781449458676</td>\n",
       "    </tr>\n",
       "    <tr>\n",
       "      <th>3</th>\n",
       "      <td>Hemingway Ernest 1899 1961 Fiction, Biographic...</td>\n",
       "      <td>Carlile, Clancy, 1930-</td>\n",
       "      <td>The Paris pilgrims : a novel / Clancy Carlile.</td>\n",
       "      <td>0786706155</td>\n",
       "    </tr>\n",
       "    <tr>\n",
       "      <th>4</th>\n",
       "      <td>Erotic literature American, American literatur...</td>\n",
       "      <td>NaN</td>\n",
       "      <td>Erotic by nature : a celebration of life, of l...</td>\n",
       "      <td>094020813X</td>\n",
       "    </tr>\n",
       "    <tr>\n",
       "      <th>...</th>\n",
       "      <td>...</td>\n",
       "      <td>...</td>\n",
       "      <td>...</td>\n",
       "      <td>...</td>\n",
       "    </tr>\n",
       "    <tr>\n",
       "      <th>995</th>\n",
       "      <td>Automobile travel Northwest Pacific Guidebooks...</td>\n",
       "      <td>Williams, Allison, 1972-</td>\n",
       "      <td>Pacific Northwest road trip / Allison Williams.</td>\n",
       "      <td>1612387624, 9781612387628</td>\n",
       "    </tr>\n",
       "    <tr>\n",
       "      <th>996</th>\n",
       "      <td>Marriage records North Carolina Bute County, M...</td>\n",
       "      <td>Holcomb, Brent H.</td>\n",
       "      <td>Marriages of Bute and Warren Counties, North C...</td>\n",
       "      <td>0806313013, 9780806313016</td>\n",
       "    </tr>\n",
       "    <tr>\n",
       "      <th>997</th>\n",
       "      <td>Great Dane Juvenile fiction, Scottish terrier ...</td>\n",
       "      <td>Young, Jessica (Jessica E.)</td>\n",
       "      <td>All paws on deck / by Jessica Young ; illustra...</td>\n",
       "      <td>0545818869, 0545818877, 9780545818865, 9780545...</td>\n",
       "    </tr>\n",
       "    <tr>\n",
       "      <th>998</th>\n",
       "      <td>Spider Man Fictitious character Comic books st...</td>\n",
       "      <td>Slott, Dan</td>\n",
       "      <td>The amazing Spider-man. Renew your vows / writ...</td>\n",
       "      <td>0785198865, 9780785198864</td>\n",
       "    </tr>\n",
       "    <tr>\n",
       "      <th>999</th>\n",
       "      <td>Spanish American fiction 20th century History ...</td>\n",
       "      <td>Lindstrom, Naomi, 1950-</td>\n",
       "      <td>Twentieth-century Spanish American fiction / N...</td>\n",
       "      <td>0292746822, 0292781199</td>\n",
       "    </tr>\n",
       "  </tbody>\n",
       "</table>\n",
       "<p>1000 rows × 4 columns</p>\n",
       "</div>"
      ],
      "text/plain": [
       "                                              subjects  \\\n",
       "0    Musicians Fiction, Bullfighters Fiction, Best ...   \n",
       "1    Ninja Japan Comic books strips etc, Comic book...   \n",
       "2    Duncan Jeremy Fictitious character Comic books...   \n",
       "3    Hemingway Ernest 1899 1961 Fiction, Biographic...   \n",
       "4    Erotic literature American, American literatur...   \n",
       "..                                                 ...   \n",
       "995  Automobile travel Northwest Pacific Guidebooks...   \n",
       "996  Marriage records North Carolina Bute County, M...   \n",
       "997  Great Dane Juvenile fiction, Scottish terrier ...   \n",
       "998  Spider Man Fictitious character Comic books st...   \n",
       "999  Spanish American fiction 20th century History ...   \n",
       "\n",
       "                          author  \\\n",
       "0                  O'Ryan, Ellie   \n",
       "1      Kishimoto, Masashi, 1974-   \n",
       "2            Scott, Jerry, 1955-   \n",
       "3         Carlile, Clancy, 1930-   \n",
       "4                            NaN   \n",
       "..                           ...   \n",
       "995     Williams, Allison, 1972-   \n",
       "996            Holcomb, Brent H.   \n",
       "997  Young, Jessica (Jessica E.)   \n",
       "998                   Slott, Dan   \n",
       "999      Lindstrom, Naomi, 1950-   \n",
       "\n",
       "                                                 title  \\\n",
       "0    A tale of two friends / adapted by Ellie O'Rya...   \n",
       "1    Naruto. Vol. 1, Uzumaki Naruto / story and art...   \n",
       "2    Peace, love & Wi-Fi : a ZITS treasury / by Jer...   \n",
       "3       The Paris pilgrims : a novel / Clancy Carlile.   \n",
       "4    Erotic by nature : a celebration of life, of l...   \n",
       "..                                                 ...   \n",
       "995    Pacific Northwest road trip / Allison Williams.   \n",
       "996  Marriages of Bute and Warren Counties, North C...   \n",
       "997  All paws on deck / by Jessica Young ; illustra...   \n",
       "998  The amazing Spider-man. Renew your vows / writ...   \n",
       "999  Twentieth-century Spanish American fiction / N...   \n",
       "\n",
       "                                                  isbn  \n",
       "0    1481425730, 1481425749, 9781481425735, 9781481...  \n",
       "1                                           1569319006  \n",
       "2                            144945867X, 9781449458676  \n",
       "3                                           0786706155  \n",
       "4                                           094020813X  \n",
       "..                                                 ...  \n",
       "995                          1612387624, 9781612387628  \n",
       "996                          0806313013, 9780806313016  \n",
       "997  0545818869, 0545818877, 9780545818865, 9780545...  \n",
       "998                          0785198865, 9780785198864  \n",
       "999                             0292746822, 0292781199  \n",
       "\n",
       "[1000 rows x 4 columns]"
      ]
     },
     "execution_count": 10,
     "metadata": {},
     "output_type": "execute_result"
    }
   ],
   "source": [
    "apcs [[\"subjects\", \"author\", \"title\", \"isbn\"]]"
   ]
  },
  {
   "cell_type": "markdown",
   "metadata": {},
   "source": [
    "### Jetzt versuche ich eine Grafik zu erstellen. \n",
    "\n",
    "Dazu brauche ich den Befehl .hist!"
   ]
  },
  {
   "cell_type": "code",
   "execution_count": 11,
   "metadata": {},
   "outputs": [
    {
     "data": {
      "text/plain": [
       "<bound method hist_frame of                                               subjects  \\\n",
       "0    Musicians Fiction, Bullfighters Fiction, Best ...   \n",
       "1    Ninja Japan Comic books strips etc, Comic book...   \n",
       "2    Duncan Jeremy Fictitious character Comic books...   \n",
       "3    Hemingway Ernest 1899 1961 Fiction, Biographic...   \n",
       "4    Erotic literature American, American literatur...   \n",
       "..                                                 ...   \n",
       "995  Automobile travel Northwest Pacific Guidebooks...   \n",
       "996  Marriage records North Carolina Bute County, M...   \n",
       "997  Great Dane Juvenile fiction, Scottish terrier ...   \n",
       "998  Spider Man Fictitious character Comic books st...   \n",
       "999  Spanish American fiction 20th century History ...   \n",
       "\n",
       "                                                 title  \n",
       "0    A tale of two friends / adapted by Ellie O'Rya...  \n",
       "1    Naruto. Vol. 1, Uzumaki Naruto / story and art...  \n",
       "2    Peace, love & Wi-Fi : a ZITS treasury / by Jer...  \n",
       "3       The Paris pilgrims : a novel / Clancy Carlile.  \n",
       "4    Erotic by nature : a celebration of life, of l...  \n",
       "..                                                 ...  \n",
       "995    Pacific Northwest road trip / Allison Williams.  \n",
       "996  Marriages of Bute and Warren Counties, North C...  \n",
       "997  All paws on deck / by Jessica Young ; illustra...  \n",
       "998  The amazing Spider-man. Renew your vows / writ...  \n",
       "999  Twentieth-century Spanish American fiction / N...  \n",
       "\n",
       "[1000 rows x 2 columns]>"
      ]
     },
     "execution_count": 11,
     "metadata": {},
     "output_type": "execute_result"
    }
   ],
   "source": [
    "apcs [[\"subjects\", \"title\"]].hist"
   ]
  },
  {
   "cell_type": "markdown",
   "metadata": {},
   "source": [
    "Muss ich erst Informationen aus den Zahlen ziehen?"
   ]
  },
  {
   "cell_type": "code",
   "execution_count": 12,
   "metadata": {},
   "outputs": [
    {
     "data": {
      "text/plain": [
       "0             2014.\n",
       "1      2003, c1999.\n",
       "2             2014.\n",
       "3            c1999.\n",
       "4      1991, c1988.\n",
       "           ...     \n",
       "995          c2015.\n",
       "996    2004, c1991.\n",
       "997           2015.\n",
       "998          [2015]\n",
       "999           1994.\n",
       "Name: publicationyear, Length: 1000, dtype: object"
      ]
     },
     "execution_count": 12,
     "metadata": {},
     "output_type": "execute_result"
    }
   ],
   "source": [
    "apcs.publicationyear"
   ]
  },
  {
   "cell_type": "code",
   "execution_count": 13,
   "metadata": {},
   "outputs": [
    {
     "data": {
      "text/plain": [
       "<bound method Series.min of 0             2014.\n",
       "1      2003, c1999.\n",
       "2             2014.\n",
       "3            c1999.\n",
       "4      1991, c1988.\n",
       "           ...     \n",
       "995          c2015.\n",
       "996    2004, c1991.\n",
       "997           2015.\n",
       "998          [2015]\n",
       "999           1994.\n",
       "Name: publicationyear, Length: 1000, dtype: object>"
      ]
     },
     "execution_count": 13,
     "metadata": {},
     "output_type": "execute_result"
    }
   ],
   "source": [
    "apcs.publicationyear.min"
   ]
  },
  {
   "cell_type": "code",
   "execution_count": 14,
   "metadata": {
    "scrolled": true
   },
   "outputs": [
    {
     "data": {
      "text/plain": [
       "<bound method Series.mean of 0             2014.\n",
       "1      2003, c1999.\n",
       "2             2014.\n",
       "3            c1999.\n",
       "4      1991, c1988.\n",
       "           ...     \n",
       "995          c2015.\n",
       "996    2004, c1991.\n",
       "997           2015.\n",
       "998          [2015]\n",
       "999           1994.\n",
       "Name: publicationyear, Length: 1000, dtype: object>"
      ]
     },
     "execution_count": 14,
     "metadata": {},
     "output_type": "execute_result"
    }
   ],
   "source": [
    "apcs.publicationyear.mean"
   ]
  },
  {
   "cell_type": "code",
   "execution_count": 15,
   "metadata": {},
   "outputs": [
    {
     "data": {
      "text/plain": [
       "<bound method hist_series of 0             2014.\n",
       "1      2003, c1999.\n",
       "2             2014.\n",
       "3            c1999.\n",
       "4      1991, c1988.\n",
       "           ...     \n",
       "995          c2015.\n",
       "996    2004, c1991.\n",
       "997           2015.\n",
       "998          [2015]\n",
       "999           1994.\n",
       "Name: publicationyear, Length: 1000, dtype: object>"
      ]
     },
     "execution_count": 15,
     "metadata": {},
     "output_type": "execute_result"
    }
   ],
   "source": [
    "apcs [\"publicationyear\"].hist"
   ]
  },
  {
   "cell_type": "code",
   "execution_count": 16,
   "metadata": {},
   "outputs": [
    {
     "data": {
      "text/html": [
       "<div>\n",
       "<style scoped>\n",
       "    .dataframe tbody tr th:only-of-type {\n",
       "        vertical-align: middle;\n",
       "    }\n",
       "\n",
       "    .dataframe tbody tr th {\n",
       "        vertical-align: top;\n",
       "    }\n",
       "\n",
       "    .dataframe thead th {\n",
       "        text-align: right;\n",
       "    }\n",
       "</style>\n",
       "<table border=\"1\" class=\"dataframe\">\n",
       "  <thead>\n",
       "    <tr style=\"text-align: right;\">\n",
       "      <th></th>\n",
       "      <th>publicationyear</th>\n",
       "      <th>reportdate</th>\n",
       "    </tr>\n",
       "  </thead>\n",
       "  <tbody>\n",
       "    <tr>\n",
       "      <th>0</th>\n",
       "      <td>2014.</td>\n",
       "      <td>2017-09-01T00:00:00.000</td>\n",
       "    </tr>\n",
       "    <tr>\n",
       "      <th>1</th>\n",
       "      <td>2003, c1999.</td>\n",
       "      <td>2017-09-01T00:00:00.000</td>\n",
       "    </tr>\n",
       "    <tr>\n",
       "      <th>2</th>\n",
       "      <td>2014.</td>\n",
       "      <td>2017-09-01T00:00:00.000</td>\n",
       "    </tr>\n",
       "    <tr>\n",
       "      <th>3</th>\n",
       "      <td>c1999.</td>\n",
       "      <td>2017-09-01T00:00:00.000</td>\n",
       "    </tr>\n",
       "    <tr>\n",
       "      <th>4</th>\n",
       "      <td>1991, c1988.</td>\n",
       "      <td>2017-09-01T00:00:00.000</td>\n",
       "    </tr>\n",
       "    <tr>\n",
       "      <th>...</th>\n",
       "      <td>...</td>\n",
       "      <td>...</td>\n",
       "    </tr>\n",
       "    <tr>\n",
       "      <th>995</th>\n",
       "      <td>c2015.</td>\n",
       "      <td>2017-09-01T00:00:00.000</td>\n",
       "    </tr>\n",
       "    <tr>\n",
       "      <th>996</th>\n",
       "      <td>2004, c1991.</td>\n",
       "      <td>2017-09-01T00:00:00.000</td>\n",
       "    </tr>\n",
       "    <tr>\n",
       "      <th>997</th>\n",
       "      <td>2015.</td>\n",
       "      <td>2017-09-01T00:00:00.000</td>\n",
       "    </tr>\n",
       "    <tr>\n",
       "      <th>998</th>\n",
       "      <td>[2015]</td>\n",
       "      <td>2017-09-01T00:00:00.000</td>\n",
       "    </tr>\n",
       "    <tr>\n",
       "      <th>999</th>\n",
       "      <td>1994.</td>\n",
       "      <td>2017-09-01T00:00:00.000</td>\n",
       "    </tr>\n",
       "  </tbody>\n",
       "</table>\n",
       "<p>1000 rows × 2 columns</p>\n",
       "</div>"
      ],
      "text/plain": [
       "    publicationyear               reportdate\n",
       "0             2014.  2017-09-01T00:00:00.000\n",
       "1      2003, c1999.  2017-09-01T00:00:00.000\n",
       "2             2014.  2017-09-01T00:00:00.000\n",
       "3            c1999.  2017-09-01T00:00:00.000\n",
       "4      1991, c1988.  2017-09-01T00:00:00.000\n",
       "..              ...                      ...\n",
       "995          c2015.  2017-09-01T00:00:00.000\n",
       "996    2004, c1991.  2017-09-01T00:00:00.000\n",
       "997           2015.  2017-09-01T00:00:00.000\n",
       "998          [2015]  2017-09-01T00:00:00.000\n",
       "999           1994.  2017-09-01T00:00:00.000\n",
       "\n",
       "[1000 rows x 2 columns]"
      ]
     },
     "execution_count": 16,
     "metadata": {},
     "output_type": "execute_result"
    }
   ],
   "source": [
    "apcs [[\"publicationyear\", \"reportdate\"]]"
   ]
  },
  {
   "cell_type": "code",
   "execution_count": 17,
   "metadata": {},
   "outputs": [
    {
     "data": {
      "text/plain": [
       "<bound method hist_frame of     publicationyear               reportdate\n",
       "0             2014.  2017-09-01T00:00:00.000\n",
       "1      2003, c1999.  2017-09-01T00:00:00.000\n",
       "2             2014.  2017-09-01T00:00:00.000\n",
       "3            c1999.  2017-09-01T00:00:00.000\n",
       "4      1991, c1988.  2017-09-01T00:00:00.000\n",
       "..              ...                      ...\n",
       "995          c2015.  2017-09-01T00:00:00.000\n",
       "996    2004, c1991.  2017-09-01T00:00:00.000\n",
       "997           2015.  2017-09-01T00:00:00.000\n",
       "998          [2015]  2017-09-01T00:00:00.000\n",
       "999           1994.  2017-09-01T00:00:00.000\n",
       "\n",
       "[1000 rows x 2 columns]>"
      ]
     },
     "execution_count": 17,
     "metadata": {},
     "output_type": "execute_result"
    }
   ],
   "source": [
    "apcs [[\"publicationyear\", \"reportdate\"]].hist"
   ]
  },
  {
   "cell_type": "code",
   "execution_count": 18,
   "metadata": {},
   "outputs": [
    {
     "data": {
      "text/plain": [
       "<bound method hist_series of 0             2014.\n",
       "1      2003, c1999.\n",
       "2             2014.\n",
       "3            c1999.\n",
       "4      1991, c1988.\n",
       "           ...     \n",
       "995          c2015.\n",
       "996    2004, c1991.\n",
       "997           2015.\n",
       "998          [2015]\n",
       "999           1994.\n",
       "Name: publicationyear, Length: 1000, dtype: object>"
      ]
     },
     "execution_count": 18,
     "metadata": {},
     "output_type": "execute_result"
    }
   ],
   "source": [
    "apcs [\"publicationyear\"].hist"
   ]
  },
  {
   "cell_type": "code",
   "execution_count": 19,
   "metadata": {},
   "outputs": [
    {
     "data": {
      "text/html": [
       "<div>\n",
       "<style scoped>\n",
       "    .dataframe tbody tr th:only-of-type {\n",
       "        vertical-align: middle;\n",
       "    }\n",
       "\n",
       "    .dataframe tbody tr th {\n",
       "        vertical-align: top;\n",
       "    }\n",
       "\n",
       "    .dataframe thead th {\n",
       "        text-align: right;\n",
       "    }\n",
       "</style>\n",
       "<table border=\"1\" class=\"dataframe\">\n",
       "  <thead>\n",
       "    <tr style=\"text-align: right;\">\n",
       "      <th></th>\n",
       "      <th>publicationyear</th>\n",
       "      <th>author</th>\n",
       "    </tr>\n",
       "  </thead>\n",
       "  <tbody>\n",
       "    <tr>\n",
       "      <th>0</th>\n",
       "      <td>2014.</td>\n",
       "      <td>O'Ryan, Ellie</td>\n",
       "    </tr>\n",
       "    <tr>\n",
       "      <th>1</th>\n",
       "      <td>2003, c1999.</td>\n",
       "      <td>Kishimoto, Masashi, 1974-</td>\n",
       "    </tr>\n",
       "    <tr>\n",
       "      <th>2</th>\n",
       "      <td>2014.</td>\n",
       "      <td>Scott, Jerry, 1955-</td>\n",
       "    </tr>\n",
       "    <tr>\n",
       "      <th>3</th>\n",
       "      <td>c1999.</td>\n",
       "      <td>Carlile, Clancy, 1930-</td>\n",
       "    </tr>\n",
       "    <tr>\n",
       "      <th>4</th>\n",
       "      <td>1991, c1988.</td>\n",
       "      <td>NaN</td>\n",
       "    </tr>\n",
       "    <tr>\n",
       "      <th>...</th>\n",
       "      <td>...</td>\n",
       "      <td>...</td>\n",
       "    </tr>\n",
       "    <tr>\n",
       "      <th>995</th>\n",
       "      <td>c2015.</td>\n",
       "      <td>Williams, Allison, 1972-</td>\n",
       "    </tr>\n",
       "    <tr>\n",
       "      <th>996</th>\n",
       "      <td>2004, c1991.</td>\n",
       "      <td>Holcomb, Brent H.</td>\n",
       "    </tr>\n",
       "    <tr>\n",
       "      <th>997</th>\n",
       "      <td>2015.</td>\n",
       "      <td>Young, Jessica (Jessica E.)</td>\n",
       "    </tr>\n",
       "    <tr>\n",
       "      <th>998</th>\n",
       "      <td>[2015]</td>\n",
       "      <td>Slott, Dan</td>\n",
       "    </tr>\n",
       "    <tr>\n",
       "      <th>999</th>\n",
       "      <td>1994.</td>\n",
       "      <td>Lindstrom, Naomi, 1950-</td>\n",
       "    </tr>\n",
       "  </tbody>\n",
       "</table>\n",
       "<p>1000 rows × 2 columns</p>\n",
       "</div>"
      ],
      "text/plain": [
       "    publicationyear                       author\n",
       "0             2014.                O'Ryan, Ellie\n",
       "1      2003, c1999.    Kishimoto, Masashi, 1974-\n",
       "2             2014.          Scott, Jerry, 1955-\n",
       "3            c1999.       Carlile, Clancy, 1930-\n",
       "4      1991, c1988.                          NaN\n",
       "..              ...                          ...\n",
       "995          c2015.     Williams, Allison, 1972-\n",
       "996    2004, c1991.            Holcomb, Brent H.\n",
       "997           2015.  Young, Jessica (Jessica E.)\n",
       "998          [2015]                   Slott, Dan\n",
       "999           1994.      Lindstrom, Naomi, 1950-\n",
       "\n",
       "[1000 rows x 2 columns]"
      ]
     },
     "execution_count": 19,
     "metadata": {},
     "output_type": "execute_result"
    }
   ],
   "source": [
    "apcs [[\"publicationyear\", \"author\"]]"
   ]
  },
  {
   "cell_type": "code",
   "execution_count": 20,
   "metadata": {},
   "outputs": [
    {
     "data": {
      "text/plain": [
       "<bound method hist_frame of     publicationyear                       author\n",
       "0             2014.                O'Ryan, Ellie\n",
       "1      2003, c1999.    Kishimoto, Masashi, 1974-\n",
       "2             2014.          Scott, Jerry, 1955-\n",
       "3            c1999.       Carlile, Clancy, 1930-\n",
       "4      1991, c1988.                          NaN\n",
       "..              ...                          ...\n",
       "995          c2015.     Williams, Allison, 1972-\n",
       "996    2004, c1991.            Holcomb, Brent H.\n",
       "997           2015.  Young, Jessica (Jessica E.)\n",
       "998          [2015]                   Slott, Dan\n",
       "999           1994.      Lindstrom, Naomi, 1950-\n",
       "\n",
       "[1000 rows x 2 columns]>"
      ]
     },
     "execution_count": 20,
     "metadata": {},
     "output_type": "execute_result"
    }
   ],
   "source": [
    "apcs [[\"publicationyear\", \"author\"]].hist"
   ]
  },
  {
   "cell_type": "markdown",
   "metadata": {},
   "source": [
    "### Das funktioniert irgendwie nicht...\n",
    "\n",
    "So langsam fällt mir auch nichts mehr ein, was ich noch ausprobieren könnte. Was soll ich denn mit diesen Daten machen?"
   ]
  },
  {
   "cell_type": "code",
   "execution_count": 21,
   "metadata": {},
   "outputs": [
    {
     "data": {
      "text/plain": [
       "Index(['bibnum', 'title', 'author', 'isbn', 'publicationyear', 'publisher',\n",
       "       'subjects', 'itemtype', 'itemcollection', 'floatingitem',\n",
       "       'itemlocation', 'reportdate', 'itemcount'],\n",
       "      dtype='object')"
      ]
     },
     "execution_count": 21,
     "metadata": {},
     "output_type": "execute_result"
    }
   ],
   "source": [
    "apcs.columns"
   ]
  },
  {
   "cell_type": "code",
   "execution_count": 22,
   "metadata": {},
   "outputs": [
    {
     "data": {
      "text/html": [
       "<div>\n",
       "<style scoped>\n",
       "    .dataframe tbody tr th:only-of-type {\n",
       "        vertical-align: middle;\n",
       "    }\n",
       "\n",
       "    .dataframe tbody tr th {\n",
       "        vertical-align: top;\n",
       "    }\n",
       "\n",
       "    .dataframe thead th {\n",
       "        text-align: right;\n",
       "    }\n",
       "</style>\n",
       "<table border=\"1\" class=\"dataframe\">\n",
       "  <thead>\n",
       "    <tr style=\"text-align: right;\">\n",
       "      <th></th>\n",
       "      <th>bibnum</th>\n",
       "      <th>isbn</th>\n",
       "    </tr>\n",
       "  </thead>\n",
       "  <tbody>\n",
       "    <tr>\n",
       "      <th>0</th>\n",
       "      <td>3011076</td>\n",
       "      <td>1481425730, 1481425749, 9781481425735, 9781481...</td>\n",
       "    </tr>\n",
       "    <tr>\n",
       "      <th>1</th>\n",
       "      <td>2248846</td>\n",
       "      <td>1569319006</td>\n",
       "    </tr>\n",
       "    <tr>\n",
       "      <th>2</th>\n",
       "      <td>3209270</td>\n",
       "      <td>144945867X, 9781449458676</td>\n",
       "    </tr>\n",
       "    <tr>\n",
       "      <th>3</th>\n",
       "      <td>1907265</td>\n",
       "      <td>0786706155</td>\n",
       "    </tr>\n",
       "    <tr>\n",
       "      <th>4</th>\n",
       "      <td>1644616</td>\n",
       "      <td>094020813X</td>\n",
       "    </tr>\n",
       "    <tr>\n",
       "      <th>...</th>\n",
       "      <td>...</td>\n",
       "      <td>...</td>\n",
       "    </tr>\n",
       "    <tr>\n",
       "      <th>995</th>\n",
       "      <td>3079977</td>\n",
       "      <td>1612387624, 9781612387628</td>\n",
       "    </tr>\n",
       "    <tr>\n",
       "      <th>996</th>\n",
       "      <td>2927841</td>\n",
       "      <td>0806313013, 9780806313016</td>\n",
       "    </tr>\n",
       "    <tr>\n",
       "      <th>997</th>\n",
       "      <td>3139193</td>\n",
       "      <td>0545818869, 0545818877, 9780545818865, 9780545...</td>\n",
       "    </tr>\n",
       "    <tr>\n",
       "      <th>998</th>\n",
       "      <td>3129641</td>\n",
       "      <td>0785198865, 9780785198864</td>\n",
       "    </tr>\n",
       "    <tr>\n",
       "      <th>999</th>\n",
       "      <td>1741804</td>\n",
       "      <td>0292746822, 0292781199</td>\n",
       "    </tr>\n",
       "  </tbody>\n",
       "</table>\n",
       "<p>1000 rows × 2 columns</p>\n",
       "</div>"
      ],
      "text/plain": [
       "      bibnum                                               isbn\n",
       "0    3011076  1481425730, 1481425749, 9781481425735, 9781481...\n",
       "1    2248846                                         1569319006\n",
       "2    3209270                          144945867X, 9781449458676\n",
       "3    1907265                                         0786706155\n",
       "4    1644616                                         094020813X\n",
       "..       ...                                                ...\n",
       "995  3079977                          1612387624, 9781612387628\n",
       "996  2927841                          0806313013, 9780806313016\n",
       "997  3139193  0545818869, 0545818877, 9780545818865, 9780545...\n",
       "998  3129641                          0785198865, 9780785198864\n",
       "999  1741804                             0292746822, 0292781199\n",
       "\n",
       "[1000 rows x 2 columns]"
      ]
     },
     "execution_count": 22,
     "metadata": {},
     "output_type": "execute_result"
    }
   ],
   "source": [
    "apcs [[\"bibnum\", \"isbn\"]]"
   ]
  },
  {
   "cell_type": "code",
   "execution_count": 23,
   "metadata": {},
   "outputs": [
    {
     "data": {
      "text/plain": [
       "<bound method hist_frame of       bibnum                                               isbn\n",
       "0    3011076  1481425730, 1481425749, 9781481425735, 9781481...\n",
       "1    2248846                                         1569319006\n",
       "2    3209270                          144945867X, 9781449458676\n",
       "3    1907265                                         0786706155\n",
       "4    1644616                                         094020813X\n",
       "..       ...                                                ...\n",
       "995  3079977                          1612387624, 9781612387628\n",
       "996  2927841                          0806313013, 9780806313016\n",
       "997  3139193  0545818869, 0545818877, 9780545818865, 9780545...\n",
       "998  3129641                          0785198865, 9780785198864\n",
       "999  1741804                             0292746822, 0292781199\n",
       "\n",
       "[1000 rows x 2 columns]>"
      ]
     },
     "execution_count": 23,
     "metadata": {},
     "output_type": "execute_result"
    }
   ],
   "source": [
    "apcs [[\"bibnum\", \"isbn\"]].hist"
   ]
  },
  {
   "cell_type": "markdown",
   "metadata": {},
   "source": [
    "### Hm, irgendwie funktioniert das so nicht. Laut Dr. Google brauche ich noch die \"matplotlib\" und den magic key \"%matplotlib inline\""
   ]
  },
  {
   "cell_type": "code",
   "execution_count": 24,
   "metadata": {},
   "outputs": [],
   "source": [
    "import matplotlib"
   ]
  },
  {
   "cell_type": "code",
   "execution_count": 25,
   "metadata": {},
   "outputs": [],
   "source": [
    "%matplotlib inline"
   ]
  },
  {
   "cell_type": "code",
   "execution_count": 26,
   "metadata": {},
   "outputs": [
    {
     "data": {
      "text/plain": [
       "<bound method hist_frame of       bibnum                                               isbn\n",
       "0    3011076  1481425730, 1481425749, 9781481425735, 9781481...\n",
       "1    2248846                                         1569319006\n",
       "2    3209270                          144945867X, 9781449458676\n",
       "3    1907265                                         0786706155\n",
       "4    1644616                                         094020813X\n",
       "..       ...                                                ...\n",
       "995  3079977                          1612387624, 9781612387628\n",
       "996  2927841                          0806313013, 9780806313016\n",
       "997  3139193  0545818869, 0545818877, 9780545818865, 9780545...\n",
       "998  3129641                          0785198865, 9780785198864\n",
       "999  1741804                             0292746822, 0292781199\n",
       "\n",
       "[1000 rows x 2 columns]>"
      ]
     },
     "execution_count": 26,
     "metadata": {},
     "output_type": "execute_result"
    }
   ],
   "source": [
    "apcs [[\"bibnum\", \"isbn\"]].hist"
   ]
  },
  {
   "cell_type": "code",
   "execution_count": 27,
   "metadata": {},
   "outputs": [],
   "source": [
    "import matplotlib.pyplot as plt"
   ]
  },
  {
   "cell_type": "code",
   "execution_count": 28,
   "metadata": {},
   "outputs": [
    {
     "ename": "TypeError",
     "evalue": "__array__() missing 1 required positional argument: 'self'",
     "output_type": "error",
     "traceback": [
      "\u001b[1;31m---------------------------------------------------------------------------\u001b[0m",
      "\u001b[1;31mTypeError\u001b[0m                                 Traceback (most recent call last)",
      "\u001b[1;32m<ipython-input-28-739c184d9c27>\u001b[0m in \u001b[0;36m<module>\u001b[1;34m\u001b[0m\n\u001b[0;32m      1\u001b[0m \u001b[0mvalues\u001b[0m \u001b[1;33m=\u001b[0m \u001b[0mtype\u001b[0m \u001b[1;33m(\u001b[0m\u001b[0mapcs\u001b[0m \u001b[1;33m[\u001b[0m\u001b[1;34m\"bibnum\"\u001b[0m\u001b[1;33m]\u001b[0m\u001b[1;33m)\u001b[0m\u001b[1;33m\u001b[0m\u001b[1;33m\u001b[0m\u001b[0m\n\u001b[1;32m----> 2\u001b[1;33m \u001b[0mplt\u001b[0m\u001b[1;33m.\u001b[0m\u001b[0mhist\u001b[0m \u001b[1;33m(\u001b[0m\u001b[0mvalues\u001b[0m\u001b[1;33m)\u001b[0m\u001b[1;33m\u001b[0m\u001b[1;33m\u001b[0m\u001b[0m\n\u001b[0m\u001b[0;32m      3\u001b[0m \u001b[0mplt\u001b[0m\u001b[1;33m.\u001b[0m\u001b[0mshow\u001b[0m \u001b[1;33m(\u001b[0m\u001b[1;33m)\u001b[0m\u001b[1;33m\u001b[0m\u001b[1;33m\u001b[0m\u001b[0m\n",
      "\u001b[1;32m~\\anaconda3\\lib\\site-packages\\matplotlib\\pyplot.py\u001b[0m in \u001b[0;36mhist\u001b[1;34m(x, bins, range, density, weights, cumulative, bottom, histtype, align, orientation, rwidth, log, color, label, stacked, normed, data, **kwargs)\u001b[0m\n\u001b[0;32m   2641\u001b[0m         \u001b[0malign\u001b[0m\u001b[1;33m=\u001b[0m\u001b[0malign\u001b[0m\u001b[1;33m,\u001b[0m \u001b[0morientation\u001b[0m\u001b[1;33m=\u001b[0m\u001b[0morientation\u001b[0m\u001b[1;33m,\u001b[0m \u001b[0mrwidth\u001b[0m\u001b[1;33m=\u001b[0m\u001b[0mrwidth\u001b[0m\u001b[1;33m,\u001b[0m \u001b[0mlog\u001b[0m\u001b[1;33m=\u001b[0m\u001b[0mlog\u001b[0m\u001b[1;33m,\u001b[0m\u001b[1;33m\u001b[0m\u001b[1;33m\u001b[0m\u001b[0m\n\u001b[0;32m   2642\u001b[0m         \u001b[0mcolor\u001b[0m\u001b[1;33m=\u001b[0m\u001b[0mcolor\u001b[0m\u001b[1;33m,\u001b[0m \u001b[0mlabel\u001b[0m\u001b[1;33m=\u001b[0m\u001b[0mlabel\u001b[0m\u001b[1;33m,\u001b[0m \u001b[0mstacked\u001b[0m\u001b[1;33m=\u001b[0m\u001b[0mstacked\u001b[0m\u001b[1;33m,\u001b[0m \u001b[0mnormed\u001b[0m\u001b[1;33m=\u001b[0m\u001b[0mnormed\u001b[0m\u001b[1;33m,\u001b[0m\u001b[1;33m\u001b[0m\u001b[1;33m\u001b[0m\u001b[0m\n\u001b[1;32m-> 2643\u001b[1;33m         **({\"data\": data} if data is not None else {}), **kwargs)\n\u001b[0m\u001b[0;32m   2644\u001b[0m \u001b[1;33m\u001b[0m\u001b[0m\n\u001b[0;32m   2645\u001b[0m \u001b[1;33m\u001b[0m\u001b[0m\n",
      "\u001b[1;32m~\\anaconda3\\lib\\site-packages\\matplotlib\\__init__.py\u001b[0m in \u001b[0;36minner\u001b[1;34m(ax, data, *args, **kwargs)\u001b[0m\n\u001b[0;32m   1597\u001b[0m     \u001b[1;32mdef\u001b[0m \u001b[0minner\u001b[0m\u001b[1;33m(\u001b[0m\u001b[0max\u001b[0m\u001b[1;33m,\u001b[0m \u001b[1;33m*\u001b[0m\u001b[0margs\u001b[0m\u001b[1;33m,\u001b[0m \u001b[0mdata\u001b[0m\u001b[1;33m=\u001b[0m\u001b[1;32mNone\u001b[0m\u001b[1;33m,\u001b[0m \u001b[1;33m**\u001b[0m\u001b[0mkwargs\u001b[0m\u001b[1;33m)\u001b[0m\u001b[1;33m:\u001b[0m\u001b[1;33m\u001b[0m\u001b[1;33m\u001b[0m\u001b[0m\n\u001b[0;32m   1598\u001b[0m         \u001b[1;32mif\u001b[0m \u001b[0mdata\u001b[0m \u001b[1;32mis\u001b[0m \u001b[1;32mNone\u001b[0m\u001b[1;33m:\u001b[0m\u001b[1;33m\u001b[0m\u001b[1;33m\u001b[0m\u001b[0m\n\u001b[1;32m-> 1599\u001b[1;33m             \u001b[1;32mreturn\u001b[0m \u001b[0mfunc\u001b[0m\u001b[1;33m(\u001b[0m\u001b[0max\u001b[0m\u001b[1;33m,\u001b[0m \u001b[1;33m*\u001b[0m\u001b[0mmap\u001b[0m\u001b[1;33m(\u001b[0m\u001b[0msanitize_sequence\u001b[0m\u001b[1;33m,\u001b[0m \u001b[0margs\u001b[0m\u001b[1;33m)\u001b[0m\u001b[1;33m,\u001b[0m \u001b[1;33m**\u001b[0m\u001b[0mkwargs\u001b[0m\u001b[1;33m)\u001b[0m\u001b[1;33m\u001b[0m\u001b[1;33m\u001b[0m\u001b[0m\n\u001b[0m\u001b[0;32m   1600\u001b[0m \u001b[1;33m\u001b[0m\u001b[0m\n\u001b[0;32m   1601\u001b[0m         \u001b[0mbound\u001b[0m \u001b[1;33m=\u001b[0m \u001b[0mnew_sig\u001b[0m\u001b[1;33m.\u001b[0m\u001b[0mbind\u001b[0m\u001b[1;33m(\u001b[0m\u001b[0max\u001b[0m\u001b[1;33m,\u001b[0m \u001b[1;33m*\u001b[0m\u001b[0margs\u001b[0m\u001b[1;33m,\u001b[0m \u001b[1;33m**\u001b[0m\u001b[0mkwargs\u001b[0m\u001b[1;33m)\u001b[0m\u001b[1;33m\u001b[0m\u001b[1;33m\u001b[0m\u001b[0m\n",
      "\u001b[1;32m~\\anaconda3\\lib\\site-packages\\matplotlib\\axes\\_axes.py\u001b[0m in \u001b[0;36mhist\u001b[1;34m(self, x, bins, range, density, weights, cumulative, bottom, histtype, align, orientation, rwidth, log, color, label, stacked, normed, **kwargs)\u001b[0m\n\u001b[0;32m   6694\u001b[0m         \u001b[0minput_empty\u001b[0m \u001b[1;33m=\u001b[0m \u001b[0mnp\u001b[0m\u001b[1;33m.\u001b[0m\u001b[0msize\u001b[0m\u001b[1;33m(\u001b[0m\u001b[0mx\u001b[0m\u001b[1;33m)\u001b[0m \u001b[1;33m==\u001b[0m \u001b[1;36m0\u001b[0m\u001b[1;33m\u001b[0m\u001b[1;33m\u001b[0m\u001b[0m\n\u001b[0;32m   6695\u001b[0m         \u001b[1;31m# Massage 'x' for processing.\u001b[0m\u001b[1;33m\u001b[0m\u001b[1;33m\u001b[0m\u001b[1;33m\u001b[0m\u001b[0m\n\u001b[1;32m-> 6696\u001b[1;33m         \u001b[0mx\u001b[0m \u001b[1;33m=\u001b[0m \u001b[0mcbook\u001b[0m\u001b[1;33m.\u001b[0m\u001b[0m_reshape_2D\u001b[0m\u001b[1;33m(\u001b[0m\u001b[0mx\u001b[0m\u001b[1;33m,\u001b[0m \u001b[1;34m'x'\u001b[0m\u001b[1;33m)\u001b[0m\u001b[1;33m\u001b[0m\u001b[1;33m\u001b[0m\u001b[0m\n\u001b[0m\u001b[0;32m   6697\u001b[0m         \u001b[0mnx\u001b[0m \u001b[1;33m=\u001b[0m \u001b[0mlen\u001b[0m\u001b[1;33m(\u001b[0m\u001b[0mx\u001b[0m\u001b[1;33m)\u001b[0m  \u001b[1;31m# number of datasets\u001b[0m\u001b[1;33m\u001b[0m\u001b[1;33m\u001b[0m\u001b[0m\n\u001b[0;32m   6698\u001b[0m \u001b[1;33m\u001b[0m\u001b[0m\n",
      "\u001b[1;32m~\\anaconda3\\lib\\site-packages\\matplotlib\\cbook\\__init__.py\u001b[0m in \u001b[0;36m_reshape_2D\u001b[1;34m(X, name)\u001b[0m\n\u001b[0;32m   1447\u001b[0m     \"\"\"\n\u001b[0;32m   1448\u001b[0m     \u001b[1;31m# Iterate over columns for ndarrays, over rows otherwise.\u001b[0m\u001b[1;33m\u001b[0m\u001b[1;33m\u001b[0m\u001b[1;33m\u001b[0m\u001b[0m\n\u001b[1;32m-> 1449\u001b[1;33m     \u001b[0mX\u001b[0m \u001b[1;33m=\u001b[0m \u001b[0mnp\u001b[0m\u001b[1;33m.\u001b[0m\u001b[0matleast_1d\u001b[0m\u001b[1;33m(\u001b[0m\u001b[0mX\u001b[0m\u001b[1;33m.\u001b[0m\u001b[0mT\u001b[0m \u001b[1;32mif\u001b[0m \u001b[0misinstance\u001b[0m\u001b[1;33m(\u001b[0m\u001b[0mX\u001b[0m\u001b[1;33m,\u001b[0m \u001b[0mnp\u001b[0m\u001b[1;33m.\u001b[0m\u001b[0mndarray\u001b[0m\u001b[1;33m)\u001b[0m \u001b[1;32melse\u001b[0m \u001b[0mnp\u001b[0m\u001b[1;33m.\u001b[0m\u001b[0masarray\u001b[0m\u001b[1;33m(\u001b[0m\u001b[0mX\u001b[0m\u001b[1;33m)\u001b[0m\u001b[1;33m)\u001b[0m\u001b[1;33m\u001b[0m\u001b[1;33m\u001b[0m\u001b[0m\n\u001b[0m\u001b[0;32m   1450\u001b[0m     \u001b[1;32mif\u001b[0m \u001b[0mlen\u001b[0m\u001b[1;33m(\u001b[0m\u001b[0mX\u001b[0m\u001b[1;33m)\u001b[0m \u001b[1;33m==\u001b[0m \u001b[1;36m0\u001b[0m\u001b[1;33m:\u001b[0m\u001b[1;33m\u001b[0m\u001b[1;33m\u001b[0m\u001b[0m\n\u001b[0;32m   1451\u001b[0m         \u001b[1;32mreturn\u001b[0m \u001b[1;33m[\u001b[0m\u001b[1;33m[\u001b[0m\u001b[1;33m]\u001b[0m\u001b[1;33m]\u001b[0m\u001b[1;33m\u001b[0m\u001b[1;33m\u001b[0m\u001b[0m\n",
      "\u001b[1;32m~\\anaconda3\\lib\\site-packages\\numpy\\core\\_asarray.py\u001b[0m in \u001b[0;36masarray\u001b[1;34m(a, dtype, order)\u001b[0m\n\u001b[0;32m     83\u001b[0m \u001b[1;33m\u001b[0m\u001b[0m\n\u001b[0;32m     84\u001b[0m     \"\"\"\n\u001b[1;32m---> 85\u001b[1;33m     \u001b[1;32mreturn\u001b[0m \u001b[0marray\u001b[0m\u001b[1;33m(\u001b[0m\u001b[0ma\u001b[0m\u001b[1;33m,\u001b[0m \u001b[0mdtype\u001b[0m\u001b[1;33m,\u001b[0m \u001b[0mcopy\u001b[0m\u001b[1;33m=\u001b[0m\u001b[1;32mFalse\u001b[0m\u001b[1;33m,\u001b[0m \u001b[0morder\u001b[0m\u001b[1;33m=\u001b[0m\u001b[0morder\u001b[0m\u001b[1;33m)\u001b[0m\u001b[1;33m\u001b[0m\u001b[1;33m\u001b[0m\u001b[0m\n\u001b[0m\u001b[0;32m     86\u001b[0m \u001b[1;33m\u001b[0m\u001b[0m\n\u001b[0;32m     87\u001b[0m \u001b[1;33m\u001b[0m\u001b[0m\n",
      "\u001b[1;31mTypeError\u001b[0m: __array__() missing 1 required positional argument: 'self'"
     ]
    },
    {
     "data": {
      "image/png": "[encoded data removed]",
      "text/plain": [
       "<Figure size 432x288 with 1 Axes>"
      ]
     },
     "metadata": {
      "needs_background": "light"
     },
     "output_type": "display_data"
    }
   ],
   "source": [
    "values = type (apcs [\"bibnum\"])\n",
    "plt.hist (values)\n",
    "plt.show ()"
   ]
  },
  {
   "cell_type": "code",
   "execution_count": null,
   "metadata": {},
   "outputs": [],
   "source": [
    "import pandas as pd\n",
    "import numpy as np\n",
    "import matplotlib.pyplot as plt"
   ]
  },
  {
   "cell_type": "code",
   "execution_count": 59,
   "metadata": {},
   "outputs": [
    {
     "data": {
      "text/plain": [
       "(array([0., 0., 0., 0., 0., 1., 0., 0., 0., 0.]),\n",
       " array([-0.5, -0.4, -0.3, -0.2, -0.1,  0. ,  0.1,  0.2,  0.3,  0.4,  0.5]),\n",
       " <a list of 10 Patch objects>)"
      ]
     },
     "execution_count": 59,
     "metadata": {},
     "output_type": "execute_result"
    },
    {
     "data": {
      "image/png": "[encoded data removed]",
      "text/plain": [
       "<Figure size 432x288 with 1 Axes>"
      ]
     },
     "metadata": {
      "needs_background": "light"
     },
     "output_type": "display_data"
    }
   ],
   "source": [
    "plt.hist (\"isbn\")"
   ]
  },
  {
   "cell_type": "markdown",
   "metadata": {},
   "source": [
    "### Ja, und was bringt mir das jetzt?\n",
    "\n",
    "Jetzt habe ich zwar endlich mal eine Grafik erhalten. Aber welche Erkenntnisse soll ich bitte daraus ziehen? Ich verstehe nicht, wie ich zwei Daten in Verbindung bringen soll."
   ]
  },
  {
   "cell_type": "markdown",
   "metadata": {},
   "source": [
    "### Neuer Versuche: welcher Verlag hat in welchem Jahr veröffentlicht?"
   ]
  },
  {
   "cell_type": "code",
   "execution_count": null,
   "metadata": {},
   "outputs": [],
   "source": [
    "plt.hist (\"publicationyear\", \"publisher\")"
   ]
  },
  {
   "cell_type": "markdown",
   "metadata": {},
   "source": [
    "### Zweiter Versuch: welchen itemtype gab es in welchem Jahr?"
   ]
  },
  {
   "cell_type": "code",
   "execution_count": null,
   "metadata": {
    "scrolled": true
   },
   "outputs": [],
   "source": [
    "plt.hist (\"publicationyear\", \"itemtype\")"
   ]
  },
  {
   "cell_type": "code",
   "execution_count": null,
   "metadata": {},
   "outputs": [],
   "source": [
    "plt.hist (\"publicationyear\", \"itemlocation\")"
   ]
  },
  {
   "cell_type": "markdown",
   "metadata": {},
   "source": [
    "### Dritter Versuch: itemlocation in Verbindung mit publicationyear."
   ]
  },
  {
   "cell_type": "code",
   "execution_count": null,
   "metadata": {},
   "outputs": [],
   "source": [
    "apcs [[\"itemlocation\", \"publicationyear\"]]"
   ]
  },
  {
   "cell_type": "code",
   "execution_count": null,
   "metadata": {},
   "outputs": [],
   "source": [
    "apcs [\"itemlocation\", \"publicationyear\"].hist"
   ]
  },
  {
   "cell_type": "code",
   "execution_count": null,
   "metadata": {},
   "outputs": [],
   "source": [
    "plt.hist (\"publicationyear\")"
   ]
  },
  {
   "cell_type": "markdown",
   "metadata": {},
   "source": [
    "### Maximal mit einem Wert erhalte ich ein Diagramm."
   ]
  },
  {
   "cell_type": "code",
   "execution_count": 30,
   "metadata": {},
   "outputs": [
    {
     "data": {
      "text/plain": [
       "0      Musicians Fiction, Bullfighters Fiction, Best ...\n",
       "1      Ninja Japan Comic books strips etc, Comic book...\n",
       "2      Duncan Jeremy Fictitious character Comic books...\n",
       "3      Hemingway Ernest 1899 1961 Fiction, Biographic...\n",
       "4      Erotic literature American, American literatur...\n",
       "                             ...                        \n",
       "995    Automobile travel Northwest Pacific Guidebooks...\n",
       "996    Marriage records North Carolina Bute County, M...\n",
       "997    Great Dane Juvenile fiction, Scottish terrier ...\n",
       "998    Spider Man Fictitious character Comic books st...\n",
       "999    Spanish American fiction 20th century History ...\n",
       "Name: subjects, Length: 1000, dtype: object"
      ]
     },
     "execution_count": 30,
     "metadata": {},
     "output_type": "execute_result"
    }
   ],
   "source": [
    "apcs [\"subjects\"]"
   ]
  },
  {
   "cell_type": "markdown",
   "metadata": {},
   "source": [
    "### Ich sehe hier schon 4 mal den Begriff \"Comic\". Ich versuche mal, herauszufinden, wieviele Comics es innerhalb der Subjects gibt."
   ]
  },
  {
   "cell_type": "code",
   "execution_count": null,
   "metadata": {},
   "outputs": [],
   "source": [
    "apcs_subjects = apcs [\"subjects\"]"
   ]
  },
  {
   "cell_type": "code",
   "execution_count": null,
   "metadata": {},
   "outputs": [],
   "source": [
    "apcs_subjects"
   ]
  },
  {
   "cell_type": "code",
   "execution_count": null,
   "metadata": {},
   "outputs": [],
   "source": [
    "import matplotlib.pyplot as plt\n",
    "import numpy as np\n",
    "def(\"apcs_subjects\"):\n",
    "    for \"comic\" in \"apcs_subjects\":\n",
    "        print(\"comic\")\n",
    "plt.hist (comic)\n",
    "plt.title (\"Wieviele Comics als Subjects\")\n",
    "plt.xlabel (\"Wert\")\n",
    "plt.ylabel (\"Häufigkeit\")\n",
    "plt.show ()"
   ]
  },
  {
   "cell_type": "code",
   "execution_count": null,
   "metadata": {},
   "outputs": [],
   "source": [
    "import pandas as pd\n",
    "comic_subjects = pd.DataFrame([\"subjects\"])\n",
    "print(comic_subjects)"
   ]
  },
  {
   "cell_type": "code",
   "execution_count": 29,
   "metadata": {},
   "outputs": [
    {
     "ename": "ValueError",
     "evalue": "hist method requires numerical columns, nothing to plot.",
     "output_type": "error",
     "traceback": [
      "\u001b[1;31m---------------------------------------------------------------------------\u001b[0m",
      "\u001b[1;31mValueError\u001b[0m                                Traceback (most recent call last)",
      "\u001b[1;32m<ipython-input-29-9c69be79f5a2>\u001b[0m in \u001b[0;36m<module>\u001b[1;34m\u001b[0m\n\u001b[0;32m      1\u001b[0m \u001b[1;32mimport\u001b[0m \u001b[0mpandas\u001b[0m \u001b[1;32mas\u001b[0m \u001b[0mpd\u001b[0m\u001b[1;33m\u001b[0m\u001b[1;33m\u001b[0m\u001b[0m\n\u001b[1;32m----> 2\u001b[1;33m \u001b[0mapcs\u001b[0m\u001b[1;33m.\u001b[0m\u001b[0mhist\u001b[0m \u001b[1;33m(\u001b[0m\u001b[0mcolumn\u001b[0m\u001b[1;33m=\u001b[0m\u001b[1;34m\"subjects\"\u001b[0m\u001b[1;33m)\u001b[0m\u001b[1;33m\u001b[0m\u001b[1;33m\u001b[0m\u001b[0m\n\u001b[0m",
      "\u001b[1;32m~\\anaconda3\\lib\\site-packages\\pandas\\plotting\\_core.py\u001b[0m in \u001b[0;36mhist_frame\u001b[1;34m(data, column, by, grid, xlabelsize, xrot, ylabelsize, yrot, ax, sharex, sharey, figsize, layout, bins, backend, **kwargs)\u001b[0m\n\u001b[0;32m    206\u001b[0m         \u001b[0mlayout\u001b[0m\u001b[1;33m=\u001b[0m\u001b[0mlayout\u001b[0m\u001b[1;33m,\u001b[0m\u001b[1;33m\u001b[0m\u001b[1;33m\u001b[0m\u001b[0m\n\u001b[0;32m    207\u001b[0m         \u001b[0mbins\u001b[0m\u001b[1;33m=\u001b[0m\u001b[0mbins\u001b[0m\u001b[1;33m,\u001b[0m\u001b[1;33m\u001b[0m\u001b[1;33m\u001b[0m\u001b[0m\n\u001b[1;32m--> 208\u001b[1;33m         \u001b[1;33m**\u001b[0m\u001b[0mkwargs\u001b[0m\u001b[1;33m,\u001b[0m\u001b[1;33m\u001b[0m\u001b[1;33m\u001b[0m\u001b[0m\n\u001b[0m\u001b[0;32m    209\u001b[0m     )\n\u001b[0;32m    210\u001b[0m \u001b[1;33m\u001b[0m\u001b[0m\n",
      "\u001b[1;32m~\\anaconda3\\lib\\site-packages\\pandas\\plotting\\_matplotlib\\hist.py\u001b[0m in \u001b[0;36mhist_frame\u001b[1;34m(data, column, by, grid, xlabelsize, xrot, ylabelsize, yrot, ax, sharex, sharey, figsize, layout, bins, **kwds)\u001b[0m\n\u001b[0;32m    387\u001b[0m \u001b[1;33m\u001b[0m\u001b[0m\n\u001b[0;32m    388\u001b[0m     \u001b[1;32mif\u001b[0m \u001b[0mnaxes\u001b[0m \u001b[1;33m==\u001b[0m \u001b[1;36m0\u001b[0m\u001b[1;33m:\u001b[0m\u001b[1;33m\u001b[0m\u001b[1;33m\u001b[0m\u001b[0m\n\u001b[1;32m--> 389\u001b[1;33m         \u001b[1;32mraise\u001b[0m \u001b[0mValueError\u001b[0m\u001b[1;33m(\u001b[0m\u001b[1;34m\"hist method requires numerical columns, nothing to plot.\"\u001b[0m\u001b[1;33m)\u001b[0m\u001b[1;33m\u001b[0m\u001b[1;33m\u001b[0m\u001b[0m\n\u001b[0m\u001b[0;32m    390\u001b[0m \u001b[1;33m\u001b[0m\u001b[0m\n\u001b[0;32m    391\u001b[0m     fig, axes = _subplots(\n",
      "\u001b[1;31mValueError\u001b[0m: hist method requires numerical columns, nothing to plot."
     ]
    }
   ],
   "source": [
    "import pandas as pd\n",
    "apcs.hist (column=\"subjects\")"
   ]
  },
  {
   "cell_type": "code",
   "execution_count": 35,
   "metadata": {},
   "outputs": [
    {
     "ename": "KeyError",
     "evalue": "'Comic'",
     "output_type": "error",
     "traceback": [
      "\u001b[1;31m---------------------------------------------------------------------------\u001b[0m",
      "\u001b[1;31mKeyError\u001b[0m                                  Traceback (most recent call last)",
      "\u001b[1;32m<ipython-input-35-358fc860802f>\u001b[0m in \u001b[0;36m<module>\u001b[1;34m\u001b[0m\n\u001b[1;32m----> 1\u001b[1;33m \u001b[0mpd\u001b[0m\u001b[1;33m.\u001b[0m\u001b[0mvalue_counts\u001b[0m\u001b[1;33m(\u001b[0m\u001b[0mdf\u001b[0m\u001b[1;33m[\u001b[0m\u001b[1;34m\"Comic\"\u001b[0m\u001b[1;33m]\u001b[0m\u001b[1;33m)\u001b[0m\u001b[1;33m.\u001b[0m\u001b[0mplot\u001b[0m\u001b[1;33m.\u001b[0m\u001b[0mbar\u001b[0m\u001b[1;33m(\u001b[0m\u001b[1;33m)\u001b[0m\u001b[1;33m\u001b[0m\u001b[1;33m\u001b[0m\u001b[0m\n\u001b[0m",
      "\u001b[1;32m~\\anaconda3\\lib\\site-packages\\pandas\\core\\series.py\u001b[0m in \u001b[0;36m__getitem__\u001b[1;34m(self, key)\u001b[0m\n\u001b[0;32m    869\u001b[0m         \u001b[0mkey\u001b[0m \u001b[1;33m=\u001b[0m \u001b[0mcom\u001b[0m\u001b[1;33m.\u001b[0m\u001b[0mapply_if_callable\u001b[0m\u001b[1;33m(\u001b[0m\u001b[0mkey\u001b[0m\u001b[1;33m,\u001b[0m \u001b[0mself\u001b[0m\u001b[1;33m)\u001b[0m\u001b[1;33m\u001b[0m\u001b[1;33m\u001b[0m\u001b[0m\n\u001b[0;32m    870\u001b[0m         \u001b[1;32mtry\u001b[0m\u001b[1;33m:\u001b[0m\u001b[1;33m\u001b[0m\u001b[1;33m\u001b[0m\u001b[0m\n\u001b[1;32m--> 871\u001b[1;33m             \u001b[0mresult\u001b[0m \u001b[1;33m=\u001b[0m \u001b[0mself\u001b[0m\u001b[1;33m.\u001b[0m\u001b[0mindex\u001b[0m\u001b[1;33m.\u001b[0m\u001b[0mget_value\u001b[0m\u001b[1;33m(\u001b[0m\u001b[0mself\u001b[0m\u001b[1;33m,\u001b[0m \u001b[0mkey\u001b[0m\u001b[1;33m)\u001b[0m\u001b[1;33m\u001b[0m\u001b[1;33m\u001b[0m\u001b[0m\n\u001b[0m\u001b[0;32m    872\u001b[0m \u001b[1;33m\u001b[0m\u001b[0m\n\u001b[0;32m    873\u001b[0m             \u001b[1;32mif\u001b[0m \u001b[1;32mnot\u001b[0m \u001b[0mis_scalar\u001b[0m\u001b[1;33m(\u001b[0m\u001b[0mresult\u001b[0m\u001b[1;33m)\u001b[0m\u001b[1;33m:\u001b[0m\u001b[1;33m\u001b[0m\u001b[1;33m\u001b[0m\u001b[0m\n",
      "\u001b[1;32m~\\anaconda3\\lib\\site-packages\\pandas\\core\\indexes\\base.py\u001b[0m in \u001b[0;36mget_value\u001b[1;34m(self, series, key)\u001b[0m\n\u001b[0;32m   4403\u001b[0m         \u001b[0mk\u001b[0m \u001b[1;33m=\u001b[0m \u001b[0mself\u001b[0m\u001b[1;33m.\u001b[0m\u001b[0m_convert_scalar_indexer\u001b[0m\u001b[1;33m(\u001b[0m\u001b[0mk\u001b[0m\u001b[1;33m,\u001b[0m \u001b[0mkind\u001b[0m\u001b[1;33m=\u001b[0m\u001b[1;34m\"getitem\"\u001b[0m\u001b[1;33m)\u001b[0m\u001b[1;33m\u001b[0m\u001b[1;33m\u001b[0m\u001b[0m\n\u001b[0;32m   4404\u001b[0m         \u001b[1;32mtry\u001b[0m\u001b[1;33m:\u001b[0m\u001b[1;33m\u001b[0m\u001b[1;33m\u001b[0m\u001b[0m\n\u001b[1;32m-> 4405\u001b[1;33m             \u001b[1;32mreturn\u001b[0m \u001b[0mself\u001b[0m\u001b[1;33m.\u001b[0m\u001b[0m_engine\u001b[0m\u001b[1;33m.\u001b[0m\u001b[0mget_value\u001b[0m\u001b[1;33m(\u001b[0m\u001b[0ms\u001b[0m\u001b[1;33m,\u001b[0m \u001b[0mk\u001b[0m\u001b[1;33m,\u001b[0m \u001b[0mtz\u001b[0m\u001b[1;33m=\u001b[0m\u001b[0mgetattr\u001b[0m\u001b[1;33m(\u001b[0m\u001b[0mseries\u001b[0m\u001b[1;33m.\u001b[0m\u001b[0mdtype\u001b[0m\u001b[1;33m,\u001b[0m \u001b[1;34m\"tz\"\u001b[0m\u001b[1;33m,\u001b[0m \u001b[1;32mNone\u001b[0m\u001b[1;33m)\u001b[0m\u001b[1;33m)\u001b[0m\u001b[1;33m\u001b[0m\u001b[1;33m\u001b[0m\u001b[0m\n\u001b[0m\u001b[0;32m   4406\u001b[0m         \u001b[1;32mexcept\u001b[0m \u001b[0mKeyError\u001b[0m \u001b[1;32mas\u001b[0m \u001b[0me1\u001b[0m\u001b[1;33m:\u001b[0m\u001b[1;33m\u001b[0m\u001b[1;33m\u001b[0m\u001b[0m\n\u001b[0;32m   4407\u001b[0m             \u001b[1;32mif\u001b[0m \u001b[0mlen\u001b[0m\u001b[1;33m(\u001b[0m\u001b[0mself\u001b[0m\u001b[1;33m)\u001b[0m \u001b[1;33m>\u001b[0m \u001b[1;36m0\u001b[0m \u001b[1;32mand\u001b[0m \u001b[1;33m(\u001b[0m\u001b[0mself\u001b[0m\u001b[1;33m.\u001b[0m\u001b[0mholds_integer\u001b[0m\u001b[1;33m(\u001b[0m\u001b[1;33m)\u001b[0m \u001b[1;32mor\u001b[0m \u001b[0mself\u001b[0m\u001b[1;33m.\u001b[0m\u001b[0mis_boolean\u001b[0m\u001b[1;33m(\u001b[0m\u001b[1;33m)\u001b[0m\u001b[1;33m)\u001b[0m\u001b[1;33m:\u001b[0m\u001b[1;33m\u001b[0m\u001b[1;33m\u001b[0m\u001b[0m\n",
      "\u001b[1;32mpandas\\_libs\\index.pyx\u001b[0m in \u001b[0;36mpandas._libs.index.IndexEngine.get_value\u001b[1;34m()\u001b[0m\n",
      "\u001b[1;32mpandas\\_libs\\index.pyx\u001b[0m in \u001b[0;36mpandas._libs.index.IndexEngine.get_value\u001b[1;34m()\u001b[0m\n",
      "\u001b[1;32mpandas\\_libs\\index.pyx\u001b[0m in \u001b[0;36mpandas._libs.index.IndexEngine.get_loc\u001b[1;34m()\u001b[0m\n",
      "\u001b[1;32mpandas\\_libs\\index_class_helper.pxi\u001b[0m in \u001b[0;36mpandas._libs.index.Int64Engine._check_type\u001b[1;34m()\u001b[0m\n",
      "\u001b[1;31mKeyError\u001b[0m: 'Comic'"
     ]
    }
   ],
   "source": [
    "pd.value_counts(df[\"Comic\"]).plot.bar()"
   ]
  },
  {
   "cell_type": "code",
   "execution_count": 36,
   "metadata": {},
   "outputs": [
    {
     "ename": "TypeError",
     "evalue": "'DataFrame' object is not callable",
     "output_type": "error",
     "traceback": [
      "\u001b[1;31m---------------------------------------------------------------------------\u001b[0m",
      "\u001b[1;31mTypeError\u001b[0m                                 Traceback (most recent call last)",
      "\u001b[1;32m<ipython-input-36-4f5d3b114f2d>\u001b[0m in \u001b[0;36m<module>\u001b[1;34m\u001b[0m\n\u001b[1;32m----> 1\u001b[1;33m \u001b[0mapcs\u001b[0m\u001b[1;33m(\u001b[0m\u001b[1;34m\"subjects\"\u001b[0m\u001b[1;33m)\u001b[0m\u001b[1;33m.\u001b[0m\u001b[0mvalue_count\u001b[0m\u001b[1;33m(\u001b[0m\u001b[1;34m\"Comic\"\u001b[0m\u001b[1;33m)\u001b[0m\u001b[1;33m.\u001b[0m\u001b[0mplot\u001b[0m\u001b[1;33m(\u001b[0m\u001b[0mkind\u001b[0m\u001b[1;33m=\u001b[0m\u001b[1;34m\"bar\"\u001b[0m\u001b[1;33m)\u001b[0m\u001b[1;33m\u001b[0m\u001b[1;33m\u001b[0m\u001b[0m\n\u001b[0m",
      "\u001b[1;31mTypeError\u001b[0m: 'DataFrame' object is not callable"
     ]
    }
   ],
   "source": [
    "apcs(\"subjects\").value_count(\"Comic\").plot(kind=\"bar\")"
   ]
  },
  {
   "cell_type": "code",
   "execution_count": 41,
   "metadata": {},
   "outputs": [
    {
     "data": {
      "text/html": [
       "<div>\n",
       "<style scoped>\n",
       "    .dataframe tbody tr th:only-of-type {\n",
       "        vertical-align: middle;\n",
       "    }\n",
       "\n",
       "    .dataframe tbody tr th {\n",
       "        vertical-align: top;\n",
       "    }\n",
       "\n",
       "    .dataframe thead th {\n",
       "        text-align: right;\n",
       "    }\n",
       "</style>\n",
       "<table border=\"1\" class=\"dataframe\">\n",
       "  <thead>\n",
       "    <tr style=\"text-align: right;\">\n",
       "      <th></th>\n",
       "      <th>bibnum</th>\n",
       "      <th>title</th>\n",
       "      <th>author</th>\n",
       "      <th>isbn</th>\n",
       "      <th>publicationyear</th>\n",
       "      <th>publisher</th>\n",
       "      <th>subjects</th>\n",
       "      <th>itemtype</th>\n",
       "      <th>itemcollection</th>\n",
       "      <th>floatingitem</th>\n",
       "      <th>itemlocation</th>\n",
       "      <th>reportdate</th>\n",
       "      <th>itemcount</th>\n",
       "    </tr>\n",
       "  </thead>\n",
       "  <tbody>\n",
       "  </tbody>\n",
       "</table>\n",
       "</div>"
      ],
      "text/plain": [
       "Empty DataFrame\n",
       "Columns: [bibnum, title, author, isbn, publicationyear, publisher, subjects, itemtype, itemcollection, floatingitem, itemlocation, reportdate, itemcount]\n",
       "Index: []"
      ]
     },
     "execution_count": 41,
     "metadata": {},
     "output_type": "execute_result"
    }
   ],
   "source": [
    "df = apcs\n",
    "df.loc [df ['subjects'] == \"Comic\"]"
   ]
  },
  {
   "cell_type": "markdown",
   "metadata": {},
   "source": [
    "### Was ist das jetzt?\n",
    "Ich habe doch gesehen, dass es \"Comic\" gibt. Wieso findet er da nichts?"
   ]
  },
  {
   "cell_type": "code",
   "execution_count": 45,
   "metadata": {},
   "outputs": [
    {
     "ename": "ValueError",
     "evalue": "cannot mask with array containing NA / NaN values",
     "output_type": "error",
     "traceback": [
      "\u001b[1;31m---------------------------------------------------------------------------\u001b[0m",
      "\u001b[1;31mValueError\u001b[0m                                Traceback (most recent call last)",
      "\u001b[1;32m<ipython-input-45-2b283b236b1e>\u001b[0m in \u001b[0;36m<module>\u001b[1;34m\u001b[0m\n\u001b[1;32m----> 1\u001b[1;33m \u001b[0mdf\u001b[0m\u001b[1;33m.\u001b[0m\u001b[0mloc\u001b[0m \u001b[1;33m[\u001b[0m\u001b[0mdf\u001b[0m\u001b[1;33m[\u001b[0m\u001b[1;34m'subjects'\u001b[0m\u001b[1;33m]\u001b[0m\u001b[1;33m.\u001b[0m\u001b[0mstr\u001b[0m\u001b[1;33m.\u001b[0m\u001b[0mcontains\u001b[0m \u001b[1;33m(\u001b[0m\u001b[1;34m'Comic'\u001b[0m\u001b[1;33m)\u001b[0m\u001b[1;33m]\u001b[0m\u001b[1;33m\u001b[0m\u001b[1;33m\u001b[0m\u001b[0m\n\u001b[0m",
      "\u001b[1;32m~\\anaconda3\\lib\\site-packages\\pandas\\core\\indexing.py\u001b[0m in \u001b[0;36m__getitem__\u001b[1;34m(self, key)\u001b[0m\n\u001b[0;32m   1765\u001b[0m \u001b[1;33m\u001b[0m\u001b[0m\n\u001b[0;32m   1766\u001b[0m             \u001b[0mmaybe_callable\u001b[0m \u001b[1;33m=\u001b[0m \u001b[0mcom\u001b[0m\u001b[1;33m.\u001b[0m\u001b[0mapply_if_callable\u001b[0m\u001b[1;33m(\u001b[0m\u001b[0mkey\u001b[0m\u001b[1;33m,\u001b[0m \u001b[0mself\u001b[0m\u001b[1;33m.\u001b[0m\u001b[0mobj\u001b[0m\u001b[1;33m)\u001b[0m\u001b[1;33m\u001b[0m\u001b[1;33m\u001b[0m\u001b[0m\n\u001b[1;32m-> 1767\u001b[1;33m             \u001b[1;32mreturn\u001b[0m \u001b[0mself\u001b[0m\u001b[1;33m.\u001b[0m\u001b[0m_getitem_axis\u001b[0m\u001b[1;33m(\u001b[0m\u001b[0mmaybe_callable\u001b[0m\u001b[1;33m,\u001b[0m \u001b[0maxis\u001b[0m\u001b[1;33m=\u001b[0m\u001b[0maxis\u001b[0m\u001b[1;33m)\u001b[0m\u001b[1;33m\u001b[0m\u001b[1;33m\u001b[0m\u001b[0m\n\u001b[0m\u001b[0;32m   1768\u001b[0m \u001b[1;33m\u001b[0m\u001b[0m\n\u001b[0;32m   1769\u001b[0m     \u001b[1;32mdef\u001b[0m \u001b[0m_is_scalar_access\u001b[0m\u001b[1;33m(\u001b[0m\u001b[0mself\u001b[0m\u001b[1;33m,\u001b[0m \u001b[0mkey\u001b[0m\u001b[1;33m:\u001b[0m \u001b[0mTuple\u001b[0m\u001b[1;33m)\u001b[0m\u001b[1;33m:\u001b[0m\u001b[1;33m\u001b[0m\u001b[1;33m\u001b[0m\u001b[0m\n",
      "\u001b[1;32m~\\anaconda3\\lib\\site-packages\\pandas\\core\\indexing.py\u001b[0m in \u001b[0;36m_getitem_axis\u001b[1;34m(self, key, axis)\u001b[0m\n\u001b[0;32m   1910\u001b[0m             \u001b[0mself\u001b[0m\u001b[1;33m.\u001b[0m\u001b[0m_validate_key\u001b[0m\u001b[1;33m(\u001b[0m\u001b[0mkey\u001b[0m\u001b[1;33m,\u001b[0m \u001b[0maxis\u001b[0m\u001b[1;33m)\u001b[0m\u001b[1;33m\u001b[0m\u001b[1;33m\u001b[0m\u001b[0m\n\u001b[0;32m   1911\u001b[0m             \u001b[1;32mreturn\u001b[0m \u001b[0mself\u001b[0m\u001b[1;33m.\u001b[0m\u001b[0m_get_slice_axis\u001b[0m\u001b[1;33m(\u001b[0m\u001b[0mkey\u001b[0m\u001b[1;33m,\u001b[0m \u001b[0maxis\u001b[0m\u001b[1;33m=\u001b[0m\u001b[0maxis\u001b[0m\u001b[1;33m)\u001b[0m\u001b[1;33m\u001b[0m\u001b[1;33m\u001b[0m\u001b[0m\n\u001b[1;32m-> 1912\u001b[1;33m         \u001b[1;32melif\u001b[0m \u001b[0mcom\u001b[0m\u001b[1;33m.\u001b[0m\u001b[0mis_bool_indexer\u001b[0m\u001b[1;33m(\u001b[0m\u001b[0mkey\u001b[0m\u001b[1;33m)\u001b[0m\u001b[1;33m:\u001b[0m\u001b[1;33m\u001b[0m\u001b[1;33m\u001b[0m\u001b[0m\n\u001b[0m\u001b[0;32m   1913\u001b[0m             \u001b[1;32mreturn\u001b[0m \u001b[0mself\u001b[0m\u001b[1;33m.\u001b[0m\u001b[0m_getbool_axis\u001b[0m\u001b[1;33m(\u001b[0m\u001b[0mkey\u001b[0m\u001b[1;33m,\u001b[0m \u001b[0maxis\u001b[0m\u001b[1;33m=\u001b[0m\u001b[0maxis\u001b[0m\u001b[1;33m)\u001b[0m\u001b[1;33m\u001b[0m\u001b[1;33m\u001b[0m\u001b[0m\n\u001b[0;32m   1914\u001b[0m         \u001b[1;32melif\u001b[0m \u001b[0mis_list_like_indexer\u001b[0m\u001b[1;33m(\u001b[0m\u001b[0mkey\u001b[0m\u001b[1;33m)\u001b[0m\u001b[1;33m:\u001b[0m\u001b[1;33m\u001b[0m\u001b[1;33m\u001b[0m\u001b[0m\n",
      "\u001b[1;32m~\\anaconda3\\lib\\site-packages\\pandas\\core\\common.py\u001b[0m in \u001b[0;36mis_bool_indexer\u001b[1;34m(key)\u001b[0m\n\u001b[0;32m    134\u001b[0m             \u001b[1;32mif\u001b[0m \u001b[1;32mnot\u001b[0m \u001b[0mlib\u001b[0m\u001b[1;33m.\u001b[0m\u001b[0mis_bool_array\u001b[0m\u001b[1;33m(\u001b[0m\u001b[0mkey\u001b[0m\u001b[1;33m)\u001b[0m\u001b[1;33m:\u001b[0m\u001b[1;33m\u001b[0m\u001b[1;33m\u001b[0m\u001b[0m\n\u001b[0;32m    135\u001b[0m                 \u001b[1;32mif\u001b[0m \u001b[0misna\u001b[0m\u001b[1;33m(\u001b[0m\u001b[0mkey\u001b[0m\u001b[1;33m)\u001b[0m\u001b[1;33m.\u001b[0m\u001b[0many\u001b[0m\u001b[1;33m(\u001b[0m\u001b[1;33m)\u001b[0m\u001b[1;33m:\u001b[0m\u001b[1;33m\u001b[0m\u001b[1;33m\u001b[0m\u001b[0m\n\u001b[1;32m--> 136\u001b[1;33m                     \u001b[1;32mraise\u001b[0m \u001b[0mValueError\u001b[0m\u001b[1;33m(\u001b[0m\u001b[0mna_msg\u001b[0m\u001b[1;33m)\u001b[0m\u001b[1;33m\u001b[0m\u001b[1;33m\u001b[0m\u001b[0m\n\u001b[0m\u001b[0;32m    137\u001b[0m                 \u001b[1;32mreturn\u001b[0m \u001b[1;32mFalse\u001b[0m\u001b[1;33m\u001b[0m\u001b[1;33m\u001b[0m\u001b[0m\n\u001b[0;32m    138\u001b[0m             \u001b[1;32mreturn\u001b[0m \u001b[1;32mTrue\u001b[0m\u001b[1;33m\u001b[0m\u001b[1;33m\u001b[0m\u001b[0m\n",
      "\u001b[1;31mValueError\u001b[0m: cannot mask with array containing NA / NaN values"
     ]
    }
   ],
   "source": [
    "df.loc [df['subjects'].str.contains ('Comic')]"
   ]
  },
  {
   "cell_type": "code",
   "execution_count": 49,
   "metadata": {},
   "outputs": [
    {
     "ename": "SyntaxError",
     "evalue": "invalid syntax (<ipython-input-49-fac006d20b9e>, line 1)",
     "output_type": "error",
     "traceback": [
      "\u001b[1;36m  File \u001b[1;32m\"<ipython-input-49-fac006d20b9e>\"\u001b[1;36m, line \u001b[1;32m1\u001b[0m\n\u001b[1;33m    import Secret Labs Regular Expression Engine as re\u001b[0m\n\u001b[1;37m                     ^\u001b[0m\n\u001b[1;31mSyntaxError\u001b[0m\u001b[1;31m:\u001b[0m invalid syntax\n"
     ]
    }
   ],
   "source": [
    "import Secret Labs Regular Expression Engine as re\n",
    "df.loc [df[\"subjects\"].str.contains (\"Comic\", flags=re.I, regex = True)]"
   ]
  },
  {
   "cell_type": "code",
   "execution_count": 52,
   "metadata": {},
   "outputs": [
    {
     "data": {
      "text/html": [
       "<div>\n",
       "<style scoped>\n",
       "    .dataframe tbody tr th:only-of-type {\n",
       "        vertical-align: middle;\n",
       "    }\n",
       "\n",
       "    .dataframe tbody tr th {\n",
       "        vertical-align: top;\n",
       "    }\n",
       "\n",
       "    .dataframe thead th {\n",
       "        text-align: right;\n",
       "    }\n",
       "</style>\n",
       "<table border=\"1\" class=\"dataframe\">\n",
       "  <thead>\n",
       "    <tr style=\"text-align: right;\">\n",
       "      <th></th>\n",
       "      <th>bibnum</th>\n",
       "      <th>title</th>\n",
       "      <th>author</th>\n",
       "      <th>isbn</th>\n",
       "      <th>publicationyear</th>\n",
       "      <th>publisher</th>\n",
       "      <th>itemtype</th>\n",
       "      <th>itemcollection</th>\n",
       "      <th>floatingitem</th>\n",
       "      <th>itemlocation</th>\n",
       "      <th>reportdate</th>\n",
       "      <th>itemcount</th>\n",
       "    </tr>\n",
       "    <tr>\n",
       "      <th>subjects</th>\n",
       "      <th></th>\n",
       "      <th></th>\n",
       "      <th></th>\n",
       "      <th></th>\n",
       "      <th></th>\n",
       "      <th></th>\n",
       "      <th></th>\n",
       "      <th></th>\n",
       "      <th></th>\n",
       "      <th></th>\n",
       "      <th></th>\n",
       "      <th></th>\n",
       "    </tr>\n",
       "  </thead>\n",
       "  <tbody>\n",
       "    <tr>\n",
       "      <th>4AD Firm History, Sound recording industry Great Britain History</th>\n",
       "      <td>1</td>\n",
       "      <td>1</td>\n",
       "      <td>1</td>\n",
       "      <td>1</td>\n",
       "      <td>1</td>\n",
       "      <td>1</td>\n",
       "      <td>1</td>\n",
       "      <td>1</td>\n",
       "      <td>0</td>\n",
       "      <td>1</td>\n",
       "      <td>1</td>\n",
       "      <td>1</td>\n",
       "    </tr>\n",
       "    <tr>\n",
       "      <th>Aboriginal Tasmanians</th>\n",
       "      <td>1</td>\n",
       "      <td>1</td>\n",
       "      <td>1</td>\n",
       "      <td>1</td>\n",
       "      <td>1</td>\n",
       "      <td>1</td>\n",
       "      <td>1</td>\n",
       "      <td>1</td>\n",
       "      <td>0</td>\n",
       "      <td>1</td>\n",
       "      <td>1</td>\n",
       "      <td>1</td>\n",
       "    </tr>\n",
       "    <tr>\n",
       "      <th>Accident victims Fiction, Terminal care Decision making Fiction, Parent and adult child Fiction, Brothers and sisters Fiction, Psychological fiction, Large type books</th>\n",
       "      <td>1</td>\n",
       "      <td>1</td>\n",
       "      <td>1</td>\n",
       "      <td>1</td>\n",
       "      <td>1</td>\n",
       "      <td>1</td>\n",
       "      <td>1</td>\n",
       "      <td>1</td>\n",
       "      <td>1</td>\n",
       "      <td>1</td>\n",
       "      <td>1</td>\n",
       "      <td>1</td>\n",
       "    </tr>\n",
       "    <tr>\n",
       "      <th>Acid rain United States, Acid pollution of rivers lakes etc United States</th>\n",
       "      <td>1</td>\n",
       "      <td>1</td>\n",
       "      <td>1</td>\n",
       "      <td>0</td>\n",
       "      <td>1</td>\n",
       "      <td>1</td>\n",
       "      <td>1</td>\n",
       "      <td>1</td>\n",
       "      <td>0</td>\n",
       "      <td>1</td>\n",
       "      <td>1</td>\n",
       "      <td>1</td>\n",
       "    </tr>\n",
       "    <tr>\n",
       "      <th>Adams Ansel 1902 1984, National parks and reserves United States Pictorial works, Wilderness areas United States Pictorial works, Landscape photography United States</th>\n",
       "      <td>1</td>\n",
       "      <td>1</td>\n",
       "      <td>1</td>\n",
       "      <td>1</td>\n",
       "      <td>1</td>\n",
       "      <td>1</td>\n",
       "      <td>1</td>\n",
       "      <td>1</td>\n",
       "      <td>0</td>\n",
       "      <td>1</td>\n",
       "      <td>1</td>\n",
       "      <td>1</td>\n",
       "    </tr>\n",
       "    <tr>\n",
       "      <th>...</th>\n",
       "      <td>...</td>\n",
       "      <td>...</td>\n",
       "      <td>...</td>\n",
       "      <td>...</td>\n",
       "      <td>...</td>\n",
       "      <td>...</td>\n",
       "      <td>...</td>\n",
       "      <td>...</td>\n",
       "      <td>...</td>\n",
       "      <td>...</td>\n",
       "      <td>...</td>\n",
       "      <td>...</td>\n",
       "    </tr>\n",
       "    <tr>\n",
       "      <th>Young women Fiction, Families Fiction, Psychological fiction, Domestic fiction</th>\n",
       "      <td>1</td>\n",
       "      <td>1</td>\n",
       "      <td>1</td>\n",
       "      <td>1</td>\n",
       "      <td>1</td>\n",
       "      <td>1</td>\n",
       "      <td>1</td>\n",
       "      <td>1</td>\n",
       "      <td>0</td>\n",
       "      <td>1</td>\n",
       "      <td>1</td>\n",
       "      <td>1</td>\n",
       "    </tr>\n",
       "    <tr>\n",
       "      <th>Young women Fiction, Paris France Fiction, Short stories</th>\n",
       "      <td>1</td>\n",
       "      <td>1</td>\n",
       "      <td>1</td>\n",
       "      <td>1</td>\n",
       "      <td>1</td>\n",
       "      <td>1</td>\n",
       "      <td>1</td>\n",
       "      <td>1</td>\n",
       "      <td>0</td>\n",
       "      <td>1</td>\n",
       "      <td>1</td>\n",
       "      <td>1</td>\n",
       "    </tr>\n",
       "    <tr>\n",
       "      <th>Young women New York State New York Fiction, Social mobility Fiction, Upper class Fiction, New York N Y Fiction</th>\n",
       "      <td>1</td>\n",
       "      <td>1</td>\n",
       "      <td>1</td>\n",
       "      <td>1</td>\n",
       "      <td>1</td>\n",
       "      <td>1</td>\n",
       "      <td>1</td>\n",
       "      <td>1</td>\n",
       "      <td>0</td>\n",
       "      <td>1</td>\n",
       "      <td>1</td>\n",
       "      <td>1</td>\n",
       "    </tr>\n",
       "    <tr>\n",
       "      <th>Young women South Africa Fiction, Women White South Africa Fiction, Bildungsromans, Historical fiction</th>\n",
       "      <td>1</td>\n",
       "      <td>1</td>\n",
       "      <td>1</td>\n",
       "      <td>1</td>\n",
       "      <td>1</td>\n",
       "      <td>1</td>\n",
       "      <td>1</td>\n",
       "      <td>1</td>\n",
       "      <td>0</td>\n",
       "      <td>1</td>\n",
       "      <td>1</td>\n",
       "      <td>1</td>\n",
       "    </tr>\n",
       "    <tr>\n",
       "      <th>Zebras Juvenile fiction, Vacations Juvenile fiction, Seashore Juvenile fiction, Stories in rhyme Juvenile fiction</th>\n",
       "      <td>1</td>\n",
       "      <td>1</td>\n",
       "      <td>1</td>\n",
       "      <td>1</td>\n",
       "      <td>1</td>\n",
       "      <td>1</td>\n",
       "      <td>1</td>\n",
       "      <td>1</td>\n",
       "      <td>0</td>\n",
       "      <td>1</td>\n",
       "      <td>1</td>\n",
       "      <td>1</td>\n",
       "    </tr>\n",
       "  </tbody>\n",
       "</table>\n",
       "<p>936 rows × 12 columns</p>\n",
       "</div>"
      ],
      "text/plain": [
       "                                                    bibnum  title  author  \\\n",
       "subjects                                                                    \n",
       "4AD Firm History, Sound recording industry Grea...       1      1       1   \n",
       "Aboriginal Tasmanians                                    1      1       1   \n",
       "Accident victims Fiction, Terminal care Decisio...       1      1       1   \n",
       "Acid rain United States, Acid pollution of rive...       1      1       1   \n",
       "Adams Ansel 1902 1984, National parks and reser...       1      1       1   \n",
       "...                                                    ...    ...     ...   \n",
       "Young women Fiction, Families Fiction, Psycholo...       1      1       1   \n",
       "Young women Fiction, Paris France Fiction, Shor...       1      1       1   \n",
       "Young women New York State New York Fiction, So...       1      1       1   \n",
       "Young women South Africa Fiction, Women White S...       1      1       1   \n",
       "Zebras Juvenile fiction, Vacations Juvenile fic...       1      1       1   \n",
       "\n",
       "                                                    isbn  publicationyear  \\\n",
       "subjects                                                                    \n",
       "4AD Firm History, Sound recording industry Grea...     1                1   \n",
       "Aboriginal Tasmanians                                  1                1   \n",
       "Accident victims Fiction, Terminal care Decisio...     1                1   \n",
       "Acid rain United States, Acid pollution of rive...     0                1   \n",
       "Adams Ansel 1902 1984, National parks and reser...     1                1   \n",
       "...                                                  ...              ...   \n",
       "Young women Fiction, Families Fiction, Psycholo...     1                1   \n",
       "Young women Fiction, Paris France Fiction, Shor...     1                1   \n",
       "Young women New York State New York Fiction, So...     1                1   \n",
       "Young women South Africa Fiction, Women White S...     1                1   \n",
       "Zebras Juvenile fiction, Vacations Juvenile fic...     1                1   \n",
       "\n",
       "                                                    publisher  itemtype  \\\n",
       "subjects                                                                  \n",
       "4AD Firm History, Sound recording industry Grea...          1         1   \n",
       "Aboriginal Tasmanians                                       1         1   \n",
       "Accident victims Fiction, Terminal care Decisio...          1         1   \n",
       "Acid rain United States, Acid pollution of rive...          1         1   \n",
       "Adams Ansel 1902 1984, National parks and reser...          1         1   \n",
       "...                                                       ...       ...   \n",
       "Young women Fiction, Families Fiction, Psycholo...          1         1   \n",
       "Young women Fiction, Paris France Fiction, Shor...          1         1   \n",
       "Young women New York State New York Fiction, So...          1         1   \n",
       "Young women South Africa Fiction, Women White S...          1         1   \n",
       "Zebras Juvenile fiction, Vacations Juvenile fic...          1         1   \n",
       "\n",
       "                                                    itemcollection  \\\n",
       "subjects                                                             \n",
       "4AD Firm History, Sound recording industry Grea...               1   \n",
       "Aboriginal Tasmanians                                            1   \n",
       "Accident victims Fiction, Terminal care Decisio...               1   \n",
       "Acid rain United States, Acid pollution of rive...               1   \n",
       "Adams Ansel 1902 1984, National parks and reser...               1   \n",
       "...                                                            ...   \n",
       "Young women Fiction, Families Fiction, Psycholo...               1   \n",
       "Young women Fiction, Paris France Fiction, Shor...               1   \n",
       "Young women New York State New York Fiction, So...               1   \n",
       "Young women South Africa Fiction, Women White S...               1   \n",
       "Zebras Juvenile fiction, Vacations Juvenile fic...               1   \n",
       "\n",
       "                                                    floatingitem  \\\n",
       "subjects                                                           \n",
       "4AD Firm History, Sound recording industry Grea...             0   \n",
       "Aboriginal Tasmanians                                          0   \n",
       "Accident victims Fiction, Terminal care Decisio...             1   \n",
       "Acid rain United States, Acid pollution of rive...             0   \n",
       "Adams Ansel 1902 1984, National parks and reser...             0   \n",
       "...                                                          ...   \n",
       "Young women Fiction, Families Fiction, Psycholo...             0   \n",
       "Young women Fiction, Paris France Fiction, Shor...             0   \n",
       "Young women New York State New York Fiction, So...             0   \n",
       "Young women South Africa Fiction, Women White S...             0   \n",
       "Zebras Juvenile fiction, Vacations Juvenile fic...             0   \n",
       "\n",
       "                                                    itemlocation  reportdate  \\\n",
       "subjects                                                                       \n",
       "4AD Firm History, Sound recording industry Grea...             1           1   \n",
       "Aboriginal Tasmanians                                          1           1   \n",
       "Accident victims Fiction, Terminal care Decisio...             1           1   \n",
       "Acid rain United States, Acid pollution of rive...             1           1   \n",
       "Adams Ansel 1902 1984, National parks and reser...             1           1   \n",
       "...                                                          ...         ...   \n",
       "Young women Fiction, Families Fiction, Psycholo...             1           1   \n",
       "Young women Fiction, Paris France Fiction, Shor...             1           1   \n",
       "Young women New York State New York Fiction, So...             1           1   \n",
       "Young women South Africa Fiction, Women White S...             1           1   \n",
       "Zebras Juvenile fiction, Vacations Juvenile fic...             1           1   \n",
       "\n",
       "                                                    itemcount  \n",
       "subjects                                                       \n",
       "4AD Firm History, Sound recording industry Grea...          1  \n",
       "Aboriginal Tasmanians                                       1  \n",
       "Accident victims Fiction, Terminal care Decisio...          1  \n",
       "Acid rain United States, Acid pollution of rive...          1  \n",
       "Adams Ansel 1902 1984, National parks and reser...          1  \n",
       "...                                                       ...  \n",
       "Young women Fiction, Families Fiction, Psycholo...          1  \n",
       "Young women Fiction, Paris France Fiction, Shor...          1  \n",
       "Young women New York State New York Fiction, So...          1  \n",
       "Young women South Africa Fiction, Women White S...          1  \n",
       "Zebras Juvenile fiction, Vacations Juvenile fic...          1  \n",
       "\n",
       "[936 rows x 12 columns]"
      ]
     },
     "execution_count": 52,
     "metadata": {},
     "output_type": "execute_result"
    }
   ],
   "source": [
    "df.groupby ([\"subjects\"]).count ()"
   ]
  },
  {
   "cell_type": "code",
   "execution_count": 56,
   "metadata": {},
   "outputs": [
    {
     "ename": "TypeError",
     "evalue": "'float' object is not iterable",
     "output_type": "error",
     "traceback": [
      "\u001b[1;31m---------------------------------------------------------------------------\u001b[0m",
      "\u001b[1;31mTypeError\u001b[0m                                 Traceback (most recent call last)",
      "\u001b[1;32m<ipython-input-56-f9dda3158d40>\u001b[0m in \u001b[0;36m<module>\u001b[1;34m\u001b[0m\n\u001b[0;32m      1\u001b[0m \u001b[1;32mfrom\u001b[0m \u001b[0mcollections\u001b[0m \u001b[1;32mimport\u001b[0m \u001b[0mCounter\u001b[0m\u001b[1;33m\u001b[0m\u001b[1;33m\u001b[0m\u001b[0m\n\u001b[0;32m      2\u001b[0m \u001b[0mresults\u001b[0m \u001b[1;33m=\u001b[0m \u001b[0mCounter\u001b[0m\u001b[1;33m(\u001b[0m\u001b[1;33m)\u001b[0m\u001b[1;33m\u001b[0m\u001b[1;33m\u001b[0m\u001b[0m\n\u001b[1;32m----> 3\u001b[1;33m \u001b[0mdf\u001b[0m\u001b[1;33m[\u001b[0m\u001b[1;34m'subjects'\u001b[0m\u001b[1;33m]\u001b[0m\u001b[1;33m.\u001b[0m\u001b[0mstr\u001b[0m\u001b[1;33m.\u001b[0m\u001b[0mlower\u001b[0m\u001b[1;33m(\u001b[0m\u001b[1;33m)\u001b[0m\u001b[1;33m.\u001b[0m\u001b[0mstr\u001b[0m\u001b[1;33m.\u001b[0m\u001b[0msplit\u001b[0m\u001b[1;33m(\u001b[0m\u001b[1;33m)\u001b[0m\u001b[1;33m.\u001b[0m\u001b[0mapply\u001b[0m\u001b[1;33m(\u001b[0m\u001b[0mresults\u001b[0m\u001b[1;33m.\u001b[0m\u001b[0mupdate\u001b[0m\u001b[1;33m)\u001b[0m\u001b[1;33m\u001b[0m\u001b[1;33m\u001b[0m\u001b[0m\n\u001b[0m\u001b[0;32m      4\u001b[0m \u001b[0mprint\u001b[0m\u001b[1;33m(\u001b[0m\u001b[0mresults\u001b[0m\u001b[1;33m)\u001b[0m\u001b[1;33m\u001b[0m\u001b[1;33m\u001b[0m\u001b[0m\n",
      "\u001b[1;32m~\\anaconda3\\lib\\site-packages\\pandas\\core\\series.py\u001b[0m in \u001b[0;36mapply\u001b[1;34m(self, func, convert_dtype, args, **kwds)\u001b[0m\n\u001b[0;32m   3846\u001b[0m             \u001b[1;32melse\u001b[0m\u001b[1;33m:\u001b[0m\u001b[1;33m\u001b[0m\u001b[1;33m\u001b[0m\u001b[0m\n\u001b[0;32m   3847\u001b[0m                 \u001b[0mvalues\u001b[0m \u001b[1;33m=\u001b[0m \u001b[0mself\u001b[0m\u001b[1;33m.\u001b[0m\u001b[0mastype\u001b[0m\u001b[1;33m(\u001b[0m\u001b[0mobject\u001b[0m\u001b[1;33m)\u001b[0m\u001b[1;33m.\u001b[0m\u001b[0mvalues\u001b[0m\u001b[1;33m\u001b[0m\u001b[1;33m\u001b[0m\u001b[0m\n\u001b[1;32m-> 3848\u001b[1;33m                 \u001b[0mmapped\u001b[0m \u001b[1;33m=\u001b[0m \u001b[0mlib\u001b[0m\u001b[1;33m.\u001b[0m\u001b[0mmap_infer\u001b[0m\u001b[1;33m(\u001b[0m\u001b[0mvalues\u001b[0m\u001b[1;33m,\u001b[0m \u001b[0mf\u001b[0m\u001b[1;33m,\u001b[0m \u001b[0mconvert\u001b[0m\u001b[1;33m=\u001b[0m\u001b[0mconvert_dtype\u001b[0m\u001b[1;33m)\u001b[0m\u001b[1;33m\u001b[0m\u001b[1;33m\u001b[0m\u001b[0m\n\u001b[0m\u001b[0;32m   3849\u001b[0m \u001b[1;33m\u001b[0m\u001b[0m\n\u001b[0;32m   3850\u001b[0m         \u001b[1;32mif\u001b[0m \u001b[0mlen\u001b[0m\u001b[1;33m(\u001b[0m\u001b[0mmapped\u001b[0m\u001b[1;33m)\u001b[0m \u001b[1;32mand\u001b[0m \u001b[0misinstance\u001b[0m\u001b[1;33m(\u001b[0m\u001b[0mmapped\u001b[0m\u001b[1;33m[\u001b[0m\u001b[1;36m0\u001b[0m\u001b[1;33m]\u001b[0m\u001b[1;33m,\u001b[0m \u001b[0mSeries\u001b[0m\u001b[1;33m)\u001b[0m\u001b[1;33m:\u001b[0m\u001b[1;33m\u001b[0m\u001b[1;33m\u001b[0m\u001b[0m\n",
      "\u001b[1;32mpandas\\_libs\\lib.pyx\u001b[0m in \u001b[0;36mpandas._libs.lib.map_infer\u001b[1;34m()\u001b[0m\n",
      "\u001b[1;32m~\\anaconda3\\lib\\collections\\__init__.py\u001b[0m in \u001b[0;36mupdate\u001b[1;34m(*args, **kwds)\u001b[0m\n\u001b[0;32m    653\u001b[0m                     \u001b[0msuper\u001b[0m\u001b[1;33m(\u001b[0m\u001b[0mCounter\u001b[0m\u001b[1;33m,\u001b[0m \u001b[0mself\u001b[0m\u001b[1;33m)\u001b[0m\u001b[1;33m.\u001b[0m\u001b[0mupdate\u001b[0m\u001b[1;33m(\u001b[0m\u001b[0miterable\u001b[0m\u001b[1;33m)\u001b[0m \u001b[1;31m# fast path when counter is empty\u001b[0m\u001b[1;33m\u001b[0m\u001b[1;33m\u001b[0m\u001b[0m\n\u001b[0;32m    654\u001b[0m             \u001b[1;32melse\u001b[0m\u001b[1;33m:\u001b[0m\u001b[1;33m\u001b[0m\u001b[1;33m\u001b[0m\u001b[0m\n\u001b[1;32m--> 655\u001b[1;33m                 \u001b[0m_count_elements\u001b[0m\u001b[1;33m(\u001b[0m\u001b[0mself\u001b[0m\u001b[1;33m,\u001b[0m \u001b[0miterable\u001b[0m\u001b[1;33m)\u001b[0m\u001b[1;33m\u001b[0m\u001b[1;33m\u001b[0m\u001b[0m\n\u001b[0m\u001b[0;32m    656\u001b[0m         \u001b[1;32mif\u001b[0m \u001b[0mkwds\u001b[0m\u001b[1;33m:\u001b[0m\u001b[1;33m\u001b[0m\u001b[1;33m\u001b[0m\u001b[0m\n\u001b[0;32m    657\u001b[0m             \u001b[0mself\u001b[0m\u001b[1;33m.\u001b[0m\u001b[0mupdate\u001b[0m\u001b[1;33m(\u001b[0m\u001b[0mkwds\u001b[0m\u001b[1;33m)\u001b[0m\u001b[1;33m\u001b[0m\u001b[1;33m\u001b[0m\u001b[0m\n",
      "\u001b[1;31mTypeError\u001b[0m: 'float' object is not iterable"
     ]
    }
   ],
   "source": [
    "from collections import Counter\n",
    "results = Counter()\n",
    "df['subjects'].str.lower().str.split().apply(results.update)\n",
    "print(results)"
   ]
  },
  {
   "cell_type": "code",
   "execution_count": 57,
   "metadata": {},
   "outputs": [
    {
     "data": {
      "text/plain": [
       "0    0\n",
       "dtype: int64"
      ]
     },
     "execution_count": 57,
     "metadata": {},
     "output_type": "execute_result"
    }
   ],
   "source": [
    "s = pd.Series(['subjects'])\n",
    "\n",
    "s.str.count('comic')"
   ]
  },
  {
   "cell_type": "code",
   "execution_count": null,
   "metadata": {},
   "outputs": [],
   "source": []
  }
 ],
 "metadata": {
  "kernelspec": {
   "display_name": "Python 3",
   "language": "python",
   "name": "python3"
  },
  "language_info": {
   "codemirror_mode": {
    "name": "ipython",
    "version": 3
   },
   "file_extension": ".py",
   "mimetype": "text/x-python",
   "name": "python",
   "nbconvert_exporter": "python",
   "pygments_lexer": "ipython3",
   "version": "3.7.6"
  }
 },
 "nbformat": 4,
 "nbformat_minor": 4
}
